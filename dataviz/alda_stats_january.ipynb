{
 "cells": [
  {
   "cell_type": "code",
   "execution_count": 248,
   "metadata": {},
   "outputs": [],
   "source": [
    "import pandas as pd\n",
    "import sqlite3\n",
    "import seaborn as sns\n",
    "import plotly.express as px\n",
    "\n",
    "COLOR_MAP = { \"Biarritz\": \"#e07a5f\",\n",
    "              \"Anglet\": \"#3d405b\",\n",
    "              \"Bayonne\": \"#81b29a\",\n",
    "            }\n",
    "MOBILITY_LICENSE = ['Disponible uniquement via un bail mobilité', 'Available with a mobility lease only (\"bail mobilité\")']\n",
    "HOTEL_LICENSE = ['Exempt - hotel-type listing', 'Dispense : logement de type hôtelier', 'Dispense : logement de type hôtelier']\n",
    "SURVEY_IDS = [6,8]\n"
   ]
  },
  {
   "cell_type": "code",
   "execution_count": 249,
   "metadata": {},
   "outputs": [
    {
     "data": {
      "text/html": [
       "<div>\n",
       "<style scoped>\n",
       "    .dataframe tbody tr th:only-of-type {\n",
       "        vertical-align: middle;\n",
       "    }\n",
       "\n",
       "    .dataframe tbody tr th {\n",
       "        vertical-align: top;\n",
       "    }\n",
       "\n",
       "    .dataframe thead th {\n",
       "        text-align: right;\n",
       "    }\n",
       "</style>\n",
       "<table border=\"1\" class=\"dataframe\">\n",
       "  <thead>\n",
       "    <tr style=\"text-align: right;\">\n",
       "      <th></th>\n",
       "      <th>survey_id</th>\n",
       "      <th>survey_date</th>\n",
       "      <th>room_id</th>\n",
       "      <th>host_id</th>\n",
       "      <th>city</th>\n",
       "      <th>room_type</th>\n",
       "      <th>license</th>\n",
       "      <th>reviews</th>\n",
       "      <th>has_license</th>\n",
       "    </tr>\n",
       "  </thead>\n",
       "  <tbody>\n",
       "    <tr>\n",
       "      <th>0</th>\n",
       "      <td>5</td>\n",
       "      <td>2021-12-29 01:24:59.175851</td>\n",
       "      <td>49329993</td>\n",
       "      <td>113038136</td>\n",
       "      <td>Biarritz</td>\n",
       "      <td>Logement entier</td>\n",
       "      <td>2</td>\n",
       "      <td>7.0</td>\n",
       "      <td>False</td>\n",
       "    </tr>\n",
       "    <tr>\n",
       "      <th>1</th>\n",
       "      <td>5</td>\n",
       "      <td>2021-12-29 01:24:59.175851</td>\n",
       "      <td>50019122</td>\n",
       "      <td>195803725</td>\n",
       "      <td>Anglet</td>\n",
       "      <td>Logement entier</td>\n",
       "      <td>640240007203A</td>\n",
       "      <td>29.0</td>\n",
       "      <td>True</td>\n",
       "    </tr>\n",
       "    <tr>\n",
       "      <th>2</th>\n",
       "      <td>5</td>\n",
       "      <td>2021-12-29 01:24:59.175851</td>\n",
       "      <td>35954384</td>\n",
       "      <td>76087019</td>\n",
       "      <td>Bayonne</td>\n",
       "      <td>Logement entier</td>\n",
       "      <td>64102000360D6</td>\n",
       "      <td>148.0</td>\n",
       "      <td>True</td>\n",
       "    </tr>\n",
       "    <tr>\n",
       "      <th>3</th>\n",
       "      <td>5</td>\n",
       "      <td>2021-12-29 01:24:59.175851</td>\n",
       "      <td>3972987</td>\n",
       "      <td>11269967</td>\n",
       "      <td>Anglet</td>\n",
       "      <td>Logement entier</td>\n",
       "      <td>640240016268B</td>\n",
       "      <td>240.0</td>\n",
       "      <td>True</td>\n",
       "    </tr>\n",
       "    <tr>\n",
       "      <th>4</th>\n",
       "      <td>5</td>\n",
       "      <td>2021-12-29 01:24:59.175851</td>\n",
       "      <td>17667174</td>\n",
       "      <td>101712773</td>\n",
       "      <td>Anglet</td>\n",
       "      <td>Logement entier</td>\n",
       "      <td>640240006747A</td>\n",
       "      <td>110.0</td>\n",
       "      <td>True</td>\n",
       "    </tr>\n",
       "    <tr>\n",
       "      <th>...</th>\n",
       "      <td>...</td>\n",
       "      <td>...</td>\n",
       "      <td>...</td>\n",
       "      <td>...</td>\n",
       "      <td>...</td>\n",
       "      <td>...</td>\n",
       "      <td>...</td>\n",
       "      <td>...</td>\n",
       "      <td>...</td>\n",
       "    </tr>\n",
       "    <tr>\n",
       "      <th>12635</th>\n",
       "      <td>8</td>\n",
       "      <td>2022-01-30 17:24:15.243725</td>\n",
       "      <td>7504602</td>\n",
       "      <td>39312624</td>\n",
       "      <td>Biarritz</td>\n",
       "      <td>Logement entier</td>\n",
       "      <td>Exempt - hotel-type listing</td>\n",
       "      <td>18.0</td>\n",
       "      <td>True</td>\n",
       "    </tr>\n",
       "    <tr>\n",
       "      <th>12636</th>\n",
       "      <td>8</td>\n",
       "      <td>2022-01-30 17:24:15.243725</td>\n",
       "      <td>7604913</td>\n",
       "      <td>39312624</td>\n",
       "      <td>Biarritz</td>\n",
       "      <td>Logement entier</td>\n",
       "      <td>Exempt - hotel-type listing</td>\n",
       "      <td>3.0</td>\n",
       "      <td>True</td>\n",
       "    </tr>\n",
       "    <tr>\n",
       "      <th>12637</th>\n",
       "      <td>8</td>\n",
       "      <td>2022-01-30 17:24:15.243725</td>\n",
       "      <td>23136023</td>\n",
       "      <td>29809907</td>\n",
       "      <td>Biarritz</td>\n",
       "      <td>Logement entier</td>\n",
       "      <td>64122002775E5</td>\n",
       "      <td>NaN</td>\n",
       "      <td>True</td>\n",
       "    </tr>\n",
       "    <tr>\n",
       "      <th>12638</th>\n",
       "      <td>8</td>\n",
       "      <td>2022-01-30 17:24:15.243725</td>\n",
       "      <td>13706422</td>\n",
       "      <td>79997661</td>\n",
       "      <td>Biarritz</td>\n",
       "      <td>Logement entier</td>\n",
       "      <td>None</td>\n",
       "      <td>2.0</td>\n",
       "      <td>False</td>\n",
       "    </tr>\n",
       "    <tr>\n",
       "      <th>12639</th>\n",
       "      <td>8</td>\n",
       "      <td>2022-01-30 17:24:15.243725</td>\n",
       "      <td>51259721</td>\n",
       "      <td>16628106</td>\n",
       "      <td>Biarritz</td>\n",
       "      <td>Logement entier</td>\n",
       "      <td>64122002229B7</td>\n",
       "      <td>4.0</td>\n",
       "      <td>True</td>\n",
       "    </tr>\n",
       "  </tbody>\n",
       "</table>\n",
       "<p>12640 rows × 9 columns</p>\n",
       "</div>"
      ],
      "text/plain": [
       "       survey_id                survey_date   room_id    host_id      city  \\\n",
       "0              5 2021-12-29 01:24:59.175851  49329993  113038136  Biarritz   \n",
       "1              5 2021-12-29 01:24:59.175851  50019122  195803725    Anglet   \n",
       "2              5 2021-12-29 01:24:59.175851  35954384   76087019   Bayonne   \n",
       "3              5 2021-12-29 01:24:59.175851   3972987   11269967    Anglet   \n",
       "4              5 2021-12-29 01:24:59.175851  17667174  101712773    Anglet   \n",
       "...          ...                        ...       ...        ...       ...   \n",
       "12635          8 2022-01-30 17:24:15.243725   7504602   39312624  Biarritz   \n",
       "12636          8 2022-01-30 17:24:15.243725   7604913   39312624  Biarritz   \n",
       "12637          8 2022-01-30 17:24:15.243725  23136023   29809907  Biarritz   \n",
       "12638          8 2022-01-30 17:24:15.243725  13706422   79997661  Biarritz   \n",
       "12639          8 2022-01-30 17:24:15.243725  51259721   16628106  Biarritz   \n",
       "\n",
       "             room_type                      license  reviews  has_license  \n",
       "0      Logement entier                            2      7.0        False  \n",
       "1      Logement entier                640240007203A     29.0         True  \n",
       "2      Logement entier                64102000360D6    148.0         True  \n",
       "3      Logement entier                640240016268B    240.0         True  \n",
       "4      Logement entier                640240006747A    110.0         True  \n",
       "...                ...                          ...      ...          ...  \n",
       "12635  Logement entier  Exempt - hotel-type listing     18.0         True  \n",
       "12636  Logement entier  Exempt - hotel-type listing      3.0         True  \n",
       "12637  Logement entier                64122002775E5      NaN         True  \n",
       "12638  Logement entier                         None      2.0        False  \n",
       "12639  Logement entier                64122002229B7      4.0         True  \n",
       "\n",
       "[12640 rows x 9 columns]"
      ]
     },
     "execution_count": 249,
     "metadata": {},
     "output_type": "execute_result"
    }
   ],
   "source": [
    "conn = sqlite3.connect('../bnb_kanpora.db')\n",
    "query = \"\"\"\n",
    "    SELECT \n",
    "        survey.survey_id, \n",
    "        survey.survey_date,\n",
    "        room.room_id,\n",
    "        room.host_id,\n",
    "        room.city,\n",
    "        room.room_type,\n",
    "        license,\n",
    "        reviews\n",
    "    FROM \n",
    "        room \n",
    "        INNER JOIN survey on room.survey_id = survey.survey_id\n",
    "    WHERE\n",
    "        city in ('Biarritz', 'Anglet', 'Bayonne')\n",
    "\"\"\"\n",
    "\n",
    "df = pd.read_sql_query(query,conn, parse_dates=['survey_date'])\n",
    "df['has_license'] = (df.license.str.contains('64') & (df.license.str.len() > 6) | (df.license.isin(MOBILITY_LICENSE + HOTEL_LICENSE)))\n",
    "df"
   ]
  },
  {
   "cell_type": "markdown",
   "metadata": {},
   "source": [
    "# Examples de numero d'enregistrement"
   ]
  },
  {
   "cell_type": "code",
   "execution_count": 250,
   "metadata": {},
   "outputs": [
    {
     "data": {
      "text/html": [
       "<div>\n",
       "<style scoped>\n",
       "    .dataframe tbody tr th:only-of-type {\n",
       "        vertical-align: middle;\n",
       "    }\n",
       "\n",
       "    .dataframe tbody tr th {\n",
       "        vertical-align: top;\n",
       "    }\n",
       "\n",
       "    .dataframe thead th {\n",
       "        text-align: right;\n",
       "    }\n",
       "</style>\n",
       "<table border=\"1\" class=\"dataframe\">\n",
       "  <thead>\n",
       "    <tr style=\"text-align: right;\">\n",
       "      <th></th>\n",
       "      <th>survey_id</th>\n",
       "      <th>survey_date</th>\n",
       "      <th>room_id</th>\n",
       "      <th>host_id</th>\n",
       "      <th>city</th>\n",
       "      <th>room_type</th>\n",
       "      <th>license</th>\n",
       "      <th>reviews</th>\n",
       "      <th>has_license</th>\n",
       "    </tr>\n",
       "  </thead>\n",
       "  <tbody>\n",
       "    <tr>\n",
       "      <th>11566</th>\n",
       "      <td>8</td>\n",
       "      <td>2022-01-30 17:24:15.243725</td>\n",
       "      <td>44080566</td>\n",
       "      <td>8309962</td>\n",
       "      <td>Bayonne</td>\n",
       "      <td>Logement entier</td>\n",
       "      <td>1234567890133</td>\n",
       "      <td>10.0</td>\n",
       "      <td>False</td>\n",
       "    </tr>\n",
       "    <tr>\n",
       "      <th>10212</th>\n",
       "      <td>8</td>\n",
       "      <td>2022-01-30 17:24:15.243725</td>\n",
       "      <td>18705762</td>\n",
       "      <td>32512096</td>\n",
       "      <td>Biarritz</td>\n",
       "      <td>Logement entier</td>\n",
       "      <td>34122172322XS</td>\n",
       "      <td>76.0</td>\n",
       "      <td>False</td>\n",
       "    </tr>\n",
       "    <tr>\n",
       "      <th>9567</th>\n",
       "      <td>8</td>\n",
       "      <td>2022-01-30 17:24:15.243725</td>\n",
       "      <td>26329811</td>\n",
       "      <td>198011312</td>\n",
       "      <td>Bayonne</td>\n",
       "      <td>Logement entier</td>\n",
       "      <td>G410200060494</td>\n",
       "      <td>3.0</td>\n",
       "      <td>False</td>\n",
       "    </tr>\n",
       "    <tr>\n",
       "      <th>11253</th>\n",
       "      <td>8</td>\n",
       "      <td>2022-01-30 17:24:15.243725</td>\n",
       "      <td>51135867</td>\n",
       "      <td>16274146</td>\n",
       "      <td>Biarritz</td>\n",
       "      <td>Logement entier</td>\n",
       "      <td>1147813611123</td>\n",
       "      <td>3.0</td>\n",
       "      <td>False</td>\n",
       "    </tr>\n",
       "    <tr>\n",
       "      <th>11693</th>\n",
       "      <td>8</td>\n",
       "      <td>2022-01-30 17:24:15.243725</td>\n",
       "      <td>53164977</td>\n",
       "      <td>13026355</td>\n",
       "      <td>Anglet</td>\n",
       "      <td>Logement entier</td>\n",
       "      <td>Exempt – hotel-type listing</td>\n",
       "      <td>NaN</td>\n",
       "      <td>False</td>\n",
       "    </tr>\n",
       "    <tr>\n",
       "      <th>10576</th>\n",
       "      <td>8</td>\n",
       "      <td>2022-01-30 17:24:15.243725</td>\n",
       "      <td>12230029</td>\n",
       "      <td>6806209</td>\n",
       "      <td>Biarritz</td>\n",
       "      <td>Logement entier</td>\n",
       "      <td>Nur mit einem Mobility-Lease verfügbar („bail ...</td>\n",
       "      <td>26.0</td>\n",
       "      <td>False</td>\n",
       "    </tr>\n",
       "    <tr>\n",
       "      <th>12045</th>\n",
       "      <td>8</td>\n",
       "      <td>2022-01-30 17:24:15.243725</td>\n",
       "      <td>20828779</td>\n",
       "      <td>55897127</td>\n",
       "      <td>Biarritz</td>\n",
       "      <td>Chambre partagée</td>\n",
       "      <td>83862606700014</td>\n",
       "      <td>293.0</td>\n",
       "      <td>False</td>\n",
       "    </tr>\n",
       "    <tr>\n",
       "      <th>11881</th>\n",
       "      <td>8</td>\n",
       "      <td>2022-01-30 17:24:15.243725</td>\n",
       "      <td>53461352</td>\n",
       "      <td>36341134</td>\n",
       "      <td>Biarritz</td>\n",
       "      <td>Logement entier</td>\n",
       "      <td>1599629444154</td>\n",
       "      <td>1.0</td>\n",
       "      <td>False</td>\n",
       "    </tr>\n",
       "    <tr>\n",
       "      <th>10893</th>\n",
       "      <td>8</td>\n",
       "      <td>2022-01-30 17:24:15.243725</td>\n",
       "      <td>30387635</td>\n",
       "      <td>155346639</td>\n",
       "      <td>Biarritz</td>\n",
       "      <td>Logement entier</td>\n",
       "      <td>2069A55985493</td>\n",
       "      <td>35.0</td>\n",
       "      <td>False</td>\n",
       "    </tr>\n",
       "    <tr>\n",
       "      <th>11886</th>\n",
       "      <td>8</td>\n",
       "      <td>2022-01-30 17:24:15.243725</td>\n",
       "      <td>49176096</td>\n",
       "      <td>36326999</td>\n",
       "      <td>Biarritz</td>\n",
       "      <td>Logement entier</td>\n",
       "      <td>45986</td>\n",
       "      <td>NaN</td>\n",
       "      <td>False</td>\n",
       "    </tr>\n",
       "    <tr>\n",
       "      <th>9054</th>\n",
       "      <td>8</td>\n",
       "      <td>2022-01-30 17:24:15.243725</td>\n",
       "      <td>51686543</td>\n",
       "      <td>259044411</td>\n",
       "      <td>Bayonne</td>\n",
       "      <td>Logement entier</td>\n",
       "      <td>3319047200332</td>\n",
       "      <td>NaN</td>\n",
       "      <td>False</td>\n",
       "    </tr>\n",
       "    <tr>\n",
       "      <th>11958</th>\n",
       "      <td>8</td>\n",
       "      <td>2022-01-30 17:24:15.243725</td>\n",
       "      <td>8124201</td>\n",
       "      <td>42753384</td>\n",
       "      <td>Biarritz</td>\n",
       "      <td>Logement entier</td>\n",
       "      <td>1345633454358</td>\n",
       "      <td>32.0</td>\n",
       "      <td>False</td>\n",
       "    </tr>\n",
       "    <tr>\n",
       "      <th>11014</th>\n",
       "      <td>8</td>\n",
       "      <td>2022-01-30 17:24:15.243725</td>\n",
       "      <td>7363061</td>\n",
       "      <td>38577798</td>\n",
       "      <td>Biarritz</td>\n",
       "      <td>Logement entier</td>\n",
       "      <td>1112223334445</td>\n",
       "      <td>34.0</td>\n",
       "      <td>False</td>\n",
       "    </tr>\n",
       "    <tr>\n",
       "      <th>12129</th>\n",
       "      <td>8</td>\n",
       "      <td>2022-01-30 17:24:15.243725</td>\n",
       "      <td>5950519</td>\n",
       "      <td>30892111</td>\n",
       "      <td>Biarritz</td>\n",
       "      <td>Logement entier</td>\n",
       "      <td>1220240856</td>\n",
       "      <td>14.0</td>\n",
       "      <td>False</td>\n",
       "    </tr>\n",
       "    <tr>\n",
       "      <th>9417</th>\n",
       "      <td>8</td>\n",
       "      <td>2022-01-30 17:24:15.243725</td>\n",
       "      <td>53779973</td>\n",
       "      <td>49546056</td>\n",
       "      <td>Bayonne</td>\n",
       "      <td>Logement entier</td>\n",
       "      <td>3003197019710</td>\n",
       "      <td>NaN</td>\n",
       "      <td>False</td>\n",
       "    </tr>\n",
       "    <tr>\n",
       "      <th>12019</th>\n",
       "      <td>8</td>\n",
       "      <td>2022-01-30 17:24:15.243725</td>\n",
       "      <td>17734425</td>\n",
       "      <td>120943770</td>\n",
       "      <td>Biarritz</td>\n",
       "      <td>Logement entier</td>\n",
       "      <td>0001220295519</td>\n",
       "      <td>91.0</td>\n",
       "      <td>False</td>\n",
       "    </tr>\n",
       "    <tr>\n",
       "      <th>12335</th>\n",
       "      <td>8</td>\n",
       "      <td>2022-01-30 17:24:15.243725</td>\n",
       "      <td>51387786</td>\n",
       "      <td>108432241</td>\n",
       "      <td>Biarritz</td>\n",
       "      <td>Logement entier</td>\n",
       "      <td>1234567890123</td>\n",
       "      <td>1.0</td>\n",
       "      <td>False</td>\n",
       "    </tr>\n",
       "    <tr>\n",
       "      <th>12343</th>\n",
       "      <td>8</td>\n",
       "      <td>2022-01-30 17:24:15.243725</td>\n",
       "      <td>5980989</td>\n",
       "      <td>31052860</td>\n",
       "      <td>Biarritz</td>\n",
       "      <td>Logement entier</td>\n",
       "      <td>0166079756898</td>\n",
       "      <td>33.0</td>\n",
       "      <td>False</td>\n",
       "    </tr>\n",
       "    <tr>\n",
       "      <th>12459</th>\n",
       "      <td>8</td>\n",
       "      <td>2022-01-30 17:24:15.243725</td>\n",
       "      <td>12383923</td>\n",
       "      <td>66940931</td>\n",
       "      <td>Biarritz</td>\n",
       "      <td>Logement entier</td>\n",
       "      <td>AEE8457338745</td>\n",
       "      <td>32.0</td>\n",
       "      <td>False</td>\n",
       "    </tr>\n",
       "    <tr>\n",
       "      <th>11101</th>\n",
       "      <td>8</td>\n",
       "      <td>2022-01-30 17:24:15.243725</td>\n",
       "      <td>48765206</td>\n",
       "      <td>161583243</td>\n",
       "      <td>Biarritz</td>\n",
       "      <td>Logement entier</td>\n",
       "      <td>1234567890123</td>\n",
       "      <td>6.0</td>\n",
       "      <td>False</td>\n",
       "    </tr>\n",
       "    <tr>\n",
       "      <th>9999</th>\n",
       "      <td>8</td>\n",
       "      <td>2022-01-30 17:24:15.243725</td>\n",
       "      <td>798097</td>\n",
       "      <td>4202933</td>\n",
       "      <td>Anglet</td>\n",
       "      <td>Logement entier</td>\n",
       "      <td>6402400106246</td>\n",
       "      <td>24.0</td>\n",
       "      <td>True</td>\n",
       "    </tr>\n",
       "    <tr>\n",
       "      <th>11200</th>\n",
       "      <td>8</td>\n",
       "      <td>2022-01-30 17:24:15.243725</td>\n",
       "      <td>48024575</td>\n",
       "      <td>165082638</td>\n",
       "      <td>Biarritz</td>\n",
       "      <td>Logement entier</td>\n",
       "      <td>64122001837D3</td>\n",
       "      <td>103.0</td>\n",
       "      <td>True</td>\n",
       "    </tr>\n",
       "    <tr>\n",
       "      <th>9772</th>\n",
       "      <td>8</td>\n",
       "      <td>2022-01-30 17:24:15.243725</td>\n",
       "      <td>37436037</td>\n",
       "      <td>37713859</td>\n",
       "      <td>Anglet</td>\n",
       "      <td>Logement entier</td>\n",
       "      <td>6402400103397</td>\n",
       "      <td>11.0</td>\n",
       "      <td>True</td>\n",
       "    </tr>\n",
       "    <tr>\n",
       "      <th>11070</th>\n",
       "      <td>8</td>\n",
       "      <td>2022-01-30 17:24:15.243725</td>\n",
       "      <td>23476018</td>\n",
       "      <td>175229876</td>\n",
       "      <td>Biarritz</td>\n",
       "      <td>Logement entier</td>\n",
       "      <td>641220005684D</td>\n",
       "      <td>32.0</td>\n",
       "      <td>True</td>\n",
       "    </tr>\n",
       "    <tr>\n",
       "      <th>11465</th>\n",
       "      <td>8</td>\n",
       "      <td>2022-01-30 17:24:15.243725</td>\n",
       "      <td>42508250</td>\n",
       "      <td>181036617</td>\n",
       "      <td>Biarritz</td>\n",
       "      <td>Logement entier</td>\n",
       "      <td>64122001388ED</td>\n",
       "      <td>4.0</td>\n",
       "      <td>True</td>\n",
       "    </tr>\n",
       "    <tr>\n",
       "      <th>12185</th>\n",
       "      <td>8</td>\n",
       "      <td>2022-01-30 17:24:15.243725</td>\n",
       "      <td>19787247</td>\n",
       "      <td>63403966</td>\n",
       "      <td>Biarritz</td>\n",
       "      <td>Logement entier</td>\n",
       "      <td>64122172261qj</td>\n",
       "      <td>99.0</td>\n",
       "      <td>True</td>\n",
       "    </tr>\n",
       "    <tr>\n",
       "      <th>11477</th>\n",
       "      <td>8</td>\n",
       "      <td>2022-01-30 17:24:15.243725</td>\n",
       "      <td>6988973</td>\n",
       "      <td>35781561</td>\n",
       "      <td>Anglet</td>\n",
       "      <td>Logement entier</td>\n",
       "      <td>640240005223C</td>\n",
       "      <td>86.0</td>\n",
       "      <td>True</td>\n",
       "    </tr>\n",
       "    <tr>\n",
       "      <th>11004</th>\n",
       "      <td>8</td>\n",
       "      <td>2022-01-30 17:24:15.243725</td>\n",
       "      <td>19786084</td>\n",
       "      <td>9883006</td>\n",
       "      <td>Biarritz</td>\n",
       "      <td>Logement entier</td>\n",
       "      <td>64122000195DB</td>\n",
       "      <td>131.0</td>\n",
       "      <td>True</td>\n",
       "    </tr>\n",
       "    <tr>\n",
       "      <th>12172</th>\n",
       "      <td>8</td>\n",
       "      <td>2022-01-30 17:24:15.243725</td>\n",
       "      <td>48243180</td>\n",
       "      <td>181036617</td>\n",
       "      <td>Biarritz</td>\n",
       "      <td>Logement entier</td>\n",
       "      <td>64122001877C4</td>\n",
       "      <td>2.0</td>\n",
       "      <td>True</td>\n",
       "    </tr>\n",
       "    <tr>\n",
       "      <th>12116</th>\n",
       "      <td>8</td>\n",
       "      <td>2022-01-30 17:24:15.243725</td>\n",
       "      <td>35327958</td>\n",
       "      <td>234340241</td>\n",
       "      <td>Biarritz</td>\n",
       "      <td>Logement entier</td>\n",
       "      <td>64122172295RA</td>\n",
       "      <td>6.0</td>\n",
       "      <td>True</td>\n",
       "    </tr>\n",
       "    <tr>\n",
       "      <th>9829</th>\n",
       "      <td>8</td>\n",
       "      <td>2022-01-30 17:24:15.243725</td>\n",
       "      <td>30332233</td>\n",
       "      <td>130005487</td>\n",
       "      <td>Anglet</td>\n",
       "      <td>Logement entier</td>\n",
       "      <td>640240000714A</td>\n",
       "      <td>NaN</td>\n",
       "      <td>True</td>\n",
       "    </tr>\n",
       "    <tr>\n",
       "      <th>9808</th>\n",
       "      <td>8</td>\n",
       "      <td>2022-01-30 17:24:15.243725</td>\n",
       "      <td>29769608</td>\n",
       "      <td>137304463</td>\n",
       "      <td>Anglet</td>\n",
       "      <td>Logement entier</td>\n",
       "      <td>64024001744FC</td>\n",
       "      <td>4.0</td>\n",
       "      <td>True</td>\n",
       "    </tr>\n",
       "    <tr>\n",
       "      <th>10519</th>\n",
       "      <td>8</td>\n",
       "      <td>2022-01-30 17:24:15.243725</td>\n",
       "      <td>12959126</td>\n",
       "      <td>19441394</td>\n",
       "      <td>Biarritz</td>\n",
       "      <td>Logement entier</td>\n",
       "      <td>64122172017NA</td>\n",
       "      <td>27.0</td>\n",
       "      <td>True</td>\n",
       "    </tr>\n",
       "    <tr>\n",
       "      <th>10610</th>\n",
       "      <td>8</td>\n",
       "      <td>2022-01-30 17:24:15.243725</td>\n",
       "      <td>52588511</td>\n",
       "      <td>415214603</td>\n",
       "      <td>Biarritz</td>\n",
       "      <td>Logement entier</td>\n",
       "      <td>641220023420B</td>\n",
       "      <td>NaN</td>\n",
       "      <td>True</td>\n",
       "    </tr>\n",
       "    <tr>\n",
       "      <th>10112</th>\n",
       "      <td>8</td>\n",
       "      <td>2022-01-30 17:24:15.243725</td>\n",
       "      <td>25307370</td>\n",
       "      <td>114296380</td>\n",
       "      <td>Anglet</td>\n",
       "      <td>Logement entier</td>\n",
       "      <td>640240024094D</td>\n",
       "      <td>7.0</td>\n",
       "      <td>True</td>\n",
       "    </tr>\n",
       "    <tr>\n",
       "      <th>9429</th>\n",
       "      <td>8</td>\n",
       "      <td>2022-01-30 17:24:15.243725</td>\n",
       "      <td>45398948</td>\n",
       "      <td>29566091</td>\n",
       "      <td>Bayonne</td>\n",
       "      <td>Logement entier</td>\n",
       "      <td>6410200057123</td>\n",
       "      <td>9.0</td>\n",
       "      <td>True</td>\n",
       "    </tr>\n",
       "    <tr>\n",
       "      <th>10540</th>\n",
       "      <td>8</td>\n",
       "      <td>2022-01-30 17:24:15.243725</td>\n",
       "      <td>50883899</td>\n",
       "      <td>158733851</td>\n",
       "      <td>Biarritz</td>\n",
       "      <td>Logement entier</td>\n",
       "      <td>6412200270128</td>\n",
       "      <td>14.0</td>\n",
       "      <td>True</td>\n",
       "    </tr>\n",
       "    <tr>\n",
       "      <th>10831</th>\n",
       "      <td>8</td>\n",
       "      <td>2022-01-30 17:24:15.243725</td>\n",
       "      <td>32745187</td>\n",
       "      <td>244091689</td>\n",
       "      <td>Biarritz</td>\n",
       "      <td>Logement entier</td>\n",
       "      <td>6412200043999</td>\n",
       "      <td>41.0</td>\n",
       "      <td>True</td>\n",
       "    </tr>\n",
       "    <tr>\n",
       "      <th>11915</th>\n",
       "      <td>8</td>\n",
       "      <td>2022-01-30 17:24:15.243725</td>\n",
       "      <td>32807223</td>\n",
       "      <td>172331560</td>\n",
       "      <td>Biarritz</td>\n",
       "      <td>Logement entier</td>\n",
       "      <td>641220004829C</td>\n",
       "      <td>6.0</td>\n",
       "      <td>True</td>\n",
       "    </tr>\n",
       "    <tr>\n",
       "      <th>11164</th>\n",
       "      <td>8</td>\n",
       "      <td>2022-01-30 17:24:15.243725</td>\n",
       "      <td>24349393</td>\n",
       "      <td>181036617</td>\n",
       "      <td>Biarritz</td>\n",
       "      <td>Logement entier</td>\n",
       "      <td>641220000221F</td>\n",
       "      <td>5.0</td>\n",
       "      <td>True</td>\n",
       "    </tr>\n",
       "  </tbody>\n",
       "</table>\n",
       "</div>"
      ],
      "text/plain": [
       "       survey_id                survey_date   room_id    host_id      city  \\\n",
       "11566          8 2022-01-30 17:24:15.243725  44080566    8309962   Bayonne   \n",
       "10212          8 2022-01-30 17:24:15.243725  18705762   32512096  Biarritz   \n",
       "9567           8 2022-01-30 17:24:15.243725  26329811  198011312   Bayonne   \n",
       "11253          8 2022-01-30 17:24:15.243725  51135867   16274146  Biarritz   \n",
       "11693          8 2022-01-30 17:24:15.243725  53164977   13026355    Anglet   \n",
       "10576          8 2022-01-30 17:24:15.243725  12230029    6806209  Biarritz   \n",
       "12045          8 2022-01-30 17:24:15.243725  20828779   55897127  Biarritz   \n",
       "11881          8 2022-01-30 17:24:15.243725  53461352   36341134  Biarritz   \n",
       "10893          8 2022-01-30 17:24:15.243725  30387635  155346639  Biarritz   \n",
       "11886          8 2022-01-30 17:24:15.243725  49176096   36326999  Biarritz   \n",
       "9054           8 2022-01-30 17:24:15.243725  51686543  259044411   Bayonne   \n",
       "11958          8 2022-01-30 17:24:15.243725   8124201   42753384  Biarritz   \n",
       "11014          8 2022-01-30 17:24:15.243725   7363061   38577798  Biarritz   \n",
       "12129          8 2022-01-30 17:24:15.243725   5950519   30892111  Biarritz   \n",
       "9417           8 2022-01-30 17:24:15.243725  53779973   49546056   Bayonne   \n",
       "12019          8 2022-01-30 17:24:15.243725  17734425  120943770  Biarritz   \n",
       "12335          8 2022-01-30 17:24:15.243725  51387786  108432241  Biarritz   \n",
       "12343          8 2022-01-30 17:24:15.243725   5980989   31052860  Biarritz   \n",
       "12459          8 2022-01-30 17:24:15.243725  12383923   66940931  Biarritz   \n",
       "11101          8 2022-01-30 17:24:15.243725  48765206  161583243  Biarritz   \n",
       "9999           8 2022-01-30 17:24:15.243725    798097    4202933    Anglet   \n",
       "11200          8 2022-01-30 17:24:15.243725  48024575  165082638  Biarritz   \n",
       "9772           8 2022-01-30 17:24:15.243725  37436037   37713859    Anglet   \n",
       "11070          8 2022-01-30 17:24:15.243725  23476018  175229876  Biarritz   \n",
       "11465          8 2022-01-30 17:24:15.243725  42508250  181036617  Biarritz   \n",
       "12185          8 2022-01-30 17:24:15.243725  19787247   63403966  Biarritz   \n",
       "11477          8 2022-01-30 17:24:15.243725   6988973   35781561    Anglet   \n",
       "11004          8 2022-01-30 17:24:15.243725  19786084    9883006  Biarritz   \n",
       "12172          8 2022-01-30 17:24:15.243725  48243180  181036617  Biarritz   \n",
       "12116          8 2022-01-30 17:24:15.243725  35327958  234340241  Biarritz   \n",
       "9829           8 2022-01-30 17:24:15.243725  30332233  130005487    Anglet   \n",
       "9808           8 2022-01-30 17:24:15.243725  29769608  137304463    Anglet   \n",
       "10519          8 2022-01-30 17:24:15.243725  12959126   19441394  Biarritz   \n",
       "10610          8 2022-01-30 17:24:15.243725  52588511  415214603  Biarritz   \n",
       "10112          8 2022-01-30 17:24:15.243725  25307370  114296380    Anglet   \n",
       "9429           8 2022-01-30 17:24:15.243725  45398948   29566091   Bayonne   \n",
       "10540          8 2022-01-30 17:24:15.243725  50883899  158733851  Biarritz   \n",
       "10831          8 2022-01-30 17:24:15.243725  32745187  244091689  Biarritz   \n",
       "11915          8 2022-01-30 17:24:15.243725  32807223  172331560  Biarritz   \n",
       "11164          8 2022-01-30 17:24:15.243725  24349393  181036617  Biarritz   \n",
       "\n",
       "              room_type                                            license  \\\n",
       "11566   Logement entier                                      1234567890133   \n",
       "10212   Logement entier                                      34122172322XS   \n",
       "9567    Logement entier                                      G410200060494   \n",
       "11253   Logement entier                                      1147813611123   \n",
       "11693   Logement entier                        Exempt – hotel-type listing   \n",
       "10576   Logement entier  Nur mit einem Mobility-Lease verfügbar („bail ...   \n",
       "12045  Chambre partagée                                     83862606700014   \n",
       "11881   Logement entier                                      1599629444154   \n",
       "10893   Logement entier                                      2069A55985493   \n",
       "11886   Logement entier                                              45986   \n",
       "9054    Logement entier                                      3319047200332   \n",
       "11958   Logement entier                                      1345633454358   \n",
       "11014   Logement entier                                      1112223334445   \n",
       "12129   Logement entier                                         1220240856   \n",
       "9417    Logement entier                                      3003197019710   \n",
       "12019   Logement entier                                      0001220295519   \n",
       "12335   Logement entier                                      1234567890123   \n",
       "12343   Logement entier                                      0166079756898   \n",
       "12459   Logement entier                                      AEE8457338745   \n",
       "11101   Logement entier                                      1234567890123   \n",
       "9999    Logement entier                                      6402400106246   \n",
       "11200   Logement entier                                      64122001837D3   \n",
       "9772    Logement entier                                      6402400103397   \n",
       "11070   Logement entier                                      641220005684D   \n",
       "11465   Logement entier                                      64122001388ED   \n",
       "12185   Logement entier                                      64122172261qj   \n",
       "11477   Logement entier                                      640240005223C   \n",
       "11004   Logement entier                                      64122000195DB   \n",
       "12172   Logement entier                                      64122001877C4   \n",
       "12116   Logement entier                                      64122172295RA   \n",
       "9829    Logement entier                                      640240000714A   \n",
       "9808    Logement entier                                      64024001744FC   \n",
       "10519   Logement entier                                      64122172017NA   \n",
       "10610   Logement entier                                      641220023420B   \n",
       "10112   Logement entier                                      640240024094D   \n",
       "9429    Logement entier                                      6410200057123   \n",
       "10540   Logement entier                                      6412200270128   \n",
       "10831   Logement entier                                      6412200043999   \n",
       "11915   Logement entier                                      641220004829C   \n",
       "11164   Logement entier                                      641220000221F   \n",
       "\n",
       "       reviews  has_license  \n",
       "11566     10.0        False  \n",
       "10212     76.0        False  \n",
       "9567       3.0        False  \n",
       "11253      3.0        False  \n",
       "11693      NaN        False  \n",
       "10576     26.0        False  \n",
       "12045    293.0        False  \n",
       "11881      1.0        False  \n",
       "10893     35.0        False  \n",
       "11886      NaN        False  \n",
       "9054       NaN        False  \n",
       "11958     32.0        False  \n",
       "11014     34.0        False  \n",
       "12129     14.0        False  \n",
       "9417       NaN        False  \n",
       "12019     91.0        False  \n",
       "12335      1.0        False  \n",
       "12343     33.0        False  \n",
       "12459     32.0        False  \n",
       "11101      6.0        False  \n",
       "9999      24.0         True  \n",
       "11200    103.0         True  \n",
       "9772      11.0         True  \n",
       "11070     32.0         True  \n",
       "11465      4.0         True  \n",
       "12185     99.0         True  \n",
       "11477     86.0         True  \n",
       "11004    131.0         True  \n",
       "12172      2.0         True  \n",
       "12116      6.0         True  \n",
       "9829       NaN         True  \n",
       "9808       4.0         True  \n",
       "10519     27.0         True  \n",
       "10610      NaN         True  \n",
       "10112      7.0         True  \n",
       "9429       9.0         True  \n",
       "10540     14.0         True  \n",
       "10831     41.0         True  \n",
       "11915      6.0         True  \n",
       "11164      5.0         True  "
      ]
     },
     "execution_count": 250,
     "metadata": {},
     "output_type": "execute_result"
    }
   ],
   "source": [
    "_df = df[df.survey_id == SURVEY_IDS[-1]]\n",
    "pd.concat([\n",
    "    _df[(_df.has_license == False) & (_df.license.notnull())].sample(20),\n",
    "    _df[(_df.has_license == True)].sample(20)\n",
    "])"
   ]
  },
  {
   "cell_type": "markdown",
   "metadata": {},
   "source": [
    "# Numero d'enregistrements en double"
   ]
  },
  {
   "cell_type": "code",
   "execution_count": 251,
   "metadata": {},
   "outputs": [
    {
     "data": {
      "text/html": [
       "<div>\n",
       "<style scoped>\n",
       "    .dataframe tbody tr th:only-of-type {\n",
       "        vertical-align: middle;\n",
       "    }\n",
       "\n",
       "    .dataframe tbody tr th {\n",
       "        vertical-align: top;\n",
       "    }\n",
       "\n",
       "    .dataframe thead th {\n",
       "        text-align: right;\n",
       "    }\n",
       "</style>\n",
       "<table border=\"1\" class=\"dataframe\">\n",
       "  <thead>\n",
       "    <tr style=\"text-align: right;\">\n",
       "      <th></th>\n",
       "      <th>survey_id</th>\n",
       "      <th>survey_date</th>\n",
       "      <th>room_id</th>\n",
       "      <th>host_id</th>\n",
       "      <th>city</th>\n",
       "      <th>room_type</th>\n",
       "      <th>license</th>\n",
       "      <th>reviews</th>\n",
       "      <th>has_license</th>\n",
       "    </tr>\n",
       "  </thead>\n",
       "  <tbody>\n",
       "    <tr>\n",
       "      <th>9831</th>\n",
       "      <td>8</td>\n",
       "      <td>2022-01-30 17:24:15.243725</td>\n",
       "      <td>43790117</td>\n",
       "      <td>303088963</td>\n",
       "      <td>Anglet</td>\n",
       "      <td>Chambre privée</td>\n",
       "      <td>None</td>\n",
       "      <td>1.0</td>\n",
       "      <td>False</td>\n",
       "    </tr>\n",
       "    <tr>\n",
       "      <th>11906</th>\n",
       "      <td>8</td>\n",
       "      <td>2022-01-30 17:24:15.243725</td>\n",
       "      <td>44439267</td>\n",
       "      <td>331084648</td>\n",
       "      <td>Biarritz</td>\n",
       "      <td>Logement entier</td>\n",
       "      <td>6412200151646</td>\n",
       "      <td>24.0</td>\n",
       "      <td>True</td>\n",
       "    </tr>\n",
       "    <tr>\n",
       "      <th>12611</th>\n",
       "      <td>8</td>\n",
       "      <td>2022-01-30 17:24:15.243725</td>\n",
       "      <td>41496473</td>\n",
       "      <td>269062676</td>\n",
       "      <td>Biarritz</td>\n",
       "      <td>Logement entier</td>\n",
       "      <td>64122002725B8</td>\n",
       "      <td>42.0</td>\n",
       "      <td>True</td>\n",
       "    </tr>\n",
       "    <tr>\n",
       "      <th>10656</th>\n",
       "      <td>8</td>\n",
       "      <td>2022-01-30 17:24:15.243725</td>\n",
       "      <td>20152078</td>\n",
       "      <td>143375188</td>\n",
       "      <td>Biarritz</td>\n",
       "      <td>Logement entier</td>\n",
       "      <td>64122172294QA</td>\n",
       "      <td>159.0</td>\n",
       "      <td>True</td>\n",
       "    </tr>\n",
       "    <tr>\n",
       "      <th>10834</th>\n",
       "      <td>8</td>\n",
       "      <td>2022-01-30 17:24:15.243725</td>\n",
       "      <td>24624934</td>\n",
       "      <td>186095484</td>\n",
       "      <td>Biarritz</td>\n",
       "      <td>Logement entier</td>\n",
       "      <td>64122182607WM</td>\n",
       "      <td>91.0</td>\n",
       "      <td>True</td>\n",
       "    </tr>\n",
       "    <tr>\n",
       "      <th>9764</th>\n",
       "      <td>8</td>\n",
       "      <td>2022-01-30 17:24:15.243725</td>\n",
       "      <td>50745914</td>\n",
       "      <td>410089111</td>\n",
       "      <td>Bayonne</td>\n",
       "      <td>Logement entier</td>\n",
       "      <td>64102000759E4</td>\n",
       "      <td>5.0</td>\n",
       "      <td>True</td>\n",
       "    </tr>\n",
       "    <tr>\n",
       "      <th>11105</th>\n",
       "      <td>8</td>\n",
       "      <td>2022-01-30 17:24:15.243725</td>\n",
       "      <td>36164839</td>\n",
       "      <td>108515554</td>\n",
       "      <td>Biarritz</td>\n",
       "      <td>Logement entier</td>\n",
       "      <td>641220018890D</td>\n",
       "      <td>7.0</td>\n",
       "      <td>True</td>\n",
       "    </tr>\n",
       "    <tr>\n",
       "      <th>9790</th>\n",
       "      <td>8</td>\n",
       "      <td>2022-01-30 17:24:15.243725</td>\n",
       "      <td>43675696</td>\n",
       "      <td>348809849</td>\n",
       "      <td>Anglet</td>\n",
       "      <td>Logement entier</td>\n",
       "      <td>6402400142993</td>\n",
       "      <td>18.0</td>\n",
       "      <td>True</td>\n",
       "    </tr>\n",
       "    <tr>\n",
       "      <th>10871</th>\n",
       "      <td>8</td>\n",
       "      <td>2022-01-30 17:24:15.243725</td>\n",
       "      <td>6770535</td>\n",
       "      <td>35064869</td>\n",
       "      <td>Biarritz</td>\n",
       "      <td>Logement entier</td>\n",
       "      <td>641220023104A</td>\n",
       "      <td>69.0</td>\n",
       "      <td>True</td>\n",
       "    </tr>\n",
       "    <tr>\n",
       "      <th>10356</th>\n",
       "      <td>8</td>\n",
       "      <td>2022-01-30 17:24:15.243725</td>\n",
       "      <td>14159964</td>\n",
       "      <td>8379317</td>\n",
       "      <td>Biarritz</td>\n",
       "      <td>Chambre privée</td>\n",
       "      <td>None</td>\n",
       "      <td>20.0</td>\n",
       "      <td>False</td>\n",
       "    </tr>\n",
       "  </tbody>\n",
       "</table>\n",
       "</div>"
      ],
      "text/plain": [
       "       survey_id                survey_date   room_id    host_id      city  \\\n",
       "9831           8 2022-01-30 17:24:15.243725  43790117  303088963    Anglet   \n",
       "11906          8 2022-01-30 17:24:15.243725  44439267  331084648  Biarritz   \n",
       "12611          8 2022-01-30 17:24:15.243725  41496473  269062676  Biarritz   \n",
       "10656          8 2022-01-30 17:24:15.243725  20152078  143375188  Biarritz   \n",
       "10834          8 2022-01-30 17:24:15.243725  24624934  186095484  Biarritz   \n",
       "9764           8 2022-01-30 17:24:15.243725  50745914  410089111   Bayonne   \n",
       "11105          8 2022-01-30 17:24:15.243725  36164839  108515554  Biarritz   \n",
       "9790           8 2022-01-30 17:24:15.243725  43675696  348809849    Anglet   \n",
       "10871          8 2022-01-30 17:24:15.243725   6770535   35064869  Biarritz   \n",
       "10356          8 2022-01-30 17:24:15.243725  14159964    8379317  Biarritz   \n",
       "\n",
       "             room_type        license  reviews  has_license  \n",
       "9831    Chambre privée           None      1.0        False  \n",
       "11906  Logement entier  6412200151646     24.0         True  \n",
       "12611  Logement entier  64122002725B8     42.0         True  \n",
       "10656  Logement entier  64122172294QA    159.0         True  \n",
       "10834  Logement entier  64122182607WM     91.0         True  \n",
       "9764   Logement entier  64102000759E4      5.0         True  \n",
       "11105  Logement entier  641220018890D      7.0         True  \n",
       "9790   Logement entier  6402400142993     18.0         True  \n",
       "10871  Logement entier  641220023104A     69.0         True  \n",
       "10356   Chambre privée           None     20.0        False  "
      ]
     },
     "execution_count": 251,
     "metadata": {},
     "output_type": "execute_result"
    }
   ],
   "source": [
    "_df = df[df.survey_id == SURVEY_IDS[-1]]\n",
    "_df = _df[~_df.license.isin(HOTEL_LICENSE + MOBILITY_LICENSE)]\n",
    "_df.groupby('license').agg(nb_rooms=pd.NamedAgg('room_id', 'count')).sort_values('nb_rooms', ascending=False).head(20)\n",
    "_df.sample(10)"
   ]
  },
  {
   "cell_type": "markdown",
   "metadata": {},
   "source": [
    "# Annonces principales sans num d'enregistrement"
   ]
  },
  {
   "cell_type": "code",
   "execution_count": 266,
   "metadata": {},
   "outputs": [
    {
     "data": {
      "text/html": [
       "<div>\n",
       "<style scoped>\n",
       "    .dataframe tbody tr th:only-of-type {\n",
       "        vertical-align: middle;\n",
       "    }\n",
       "\n",
       "    .dataframe tbody tr th {\n",
       "        vertical-align: top;\n",
       "    }\n",
       "\n",
       "    .dataframe thead th {\n",
       "        text-align: right;\n",
       "    }\n",
       "</style>\n",
       "<table border=\"1\" class=\"dataframe\">\n",
       "  <thead>\n",
       "    <tr style=\"text-align: right;\">\n",
       "      <th></th>\n",
       "      <th>survey_id</th>\n",
       "      <th>survey_date</th>\n",
       "      <th>room_id</th>\n",
       "      <th>host_id</th>\n",
       "      <th>city</th>\n",
       "      <th>room_type</th>\n",
       "      <th>license</th>\n",
       "      <th>reviews</th>\n",
       "      <th>has_license</th>\n",
       "    </tr>\n",
       "  </thead>\n",
       "  <tbody>\n",
       "    <tr>\n",
       "      <th>12019</th>\n",
       "      <td>8</td>\n",
       "      <td>2022-01-30 17:24:15.243725</td>\n",
       "      <td>17734425</td>\n",
       "      <td>120943770</td>\n",
       "      <td>Biarritz</td>\n",
       "      <td>Logement entier</td>\n",
       "      <td>0001220295519</td>\n",
       "      <td>91.0</td>\n",
       "      <td>False</td>\n",
       "    </tr>\n",
       "    <tr>\n",
       "      <th>11003</th>\n",
       "      <td>8</td>\n",
       "      <td>2022-01-30 17:24:15.243725</td>\n",
       "      <td>3445009</td>\n",
       "      <td>17361744</td>\n",
       "      <td>Biarritz</td>\n",
       "      <td>Logement entier</td>\n",
       "      <td>None</td>\n",
       "      <td>83.0</td>\n",
       "      <td>False</td>\n",
       "    </tr>\n",
       "    <tr>\n",
       "      <th>10212</th>\n",
       "      <td>8</td>\n",
       "      <td>2022-01-30 17:24:15.243725</td>\n",
       "      <td>18705762</td>\n",
       "      <td>32512096</td>\n",
       "      <td>Biarritz</td>\n",
       "      <td>Logement entier</td>\n",
       "      <td>34122172322XS</td>\n",
       "      <td>76.0</td>\n",
       "      <td>False</td>\n",
       "    </tr>\n",
       "    <tr>\n",
       "      <th>12541</th>\n",
       "      <td>8</td>\n",
       "      <td>2022-01-30 17:24:15.243725</td>\n",
       "      <td>3179285</td>\n",
       "      <td>16122157</td>\n",
       "      <td>Biarritz</td>\n",
       "      <td>Logement entier</td>\n",
       "      <td>None</td>\n",
       "      <td>62.0</td>\n",
       "      <td>False</td>\n",
       "    </tr>\n",
       "    <tr>\n",
       "      <th>11819</th>\n",
       "      <td>8</td>\n",
       "      <td>2022-01-30 17:24:15.243725</td>\n",
       "      <td>9642024</td>\n",
       "      <td>31734745</td>\n",
       "      <td>Biarritz</td>\n",
       "      <td>Logement entier</td>\n",
       "      <td>None</td>\n",
       "      <td>62.0</td>\n",
       "      <td>False</td>\n",
       "    </tr>\n",
       "    <tr>\n",
       "      <th>10709</th>\n",
       "      <td>8</td>\n",
       "      <td>2022-01-30 17:24:15.243725</td>\n",
       "      <td>3382611</td>\n",
       "      <td>17066104</td>\n",
       "      <td>Biarritz</td>\n",
       "      <td>Logement entier</td>\n",
       "      <td>None</td>\n",
       "      <td>59.0</td>\n",
       "      <td>False</td>\n",
       "    </tr>\n",
       "    <tr>\n",
       "      <th>11251</th>\n",
       "      <td>8</td>\n",
       "      <td>2022-01-30 17:24:15.243725</td>\n",
       "      <td>43877071</td>\n",
       "      <td>351130915</td>\n",
       "      <td>Biarritz</td>\n",
       "      <td>Logement entier</td>\n",
       "      <td>6H122001H8HDA</td>\n",
       "      <td>56.0</td>\n",
       "      <td>False</td>\n",
       "    </tr>\n",
       "    <tr>\n",
       "      <th>11647</th>\n",
       "      <td>8</td>\n",
       "      <td>2022-01-30 17:24:15.243725</td>\n",
       "      <td>24416199</td>\n",
       "      <td>184346763</td>\n",
       "      <td>Biarritz</td>\n",
       "      <td>Logement entier</td>\n",
       "      <td>None</td>\n",
       "      <td>54.0</td>\n",
       "      <td>False</td>\n",
       "    </tr>\n",
       "    <tr>\n",
       "      <th>10950</th>\n",
       "      <td>8</td>\n",
       "      <td>2022-01-30 17:24:15.243725</td>\n",
       "      <td>3879262</td>\n",
       "      <td>5751649</td>\n",
       "      <td>Biarritz</td>\n",
       "      <td>Logement entier</td>\n",
       "      <td>None</td>\n",
       "      <td>54.0</td>\n",
       "      <td>False</td>\n",
       "    </tr>\n",
       "    <tr>\n",
       "      <th>11686</th>\n",
       "      <td>8</td>\n",
       "      <td>2022-01-30 17:24:15.243725</td>\n",
       "      <td>43567285</td>\n",
       "      <td>347271152</td>\n",
       "      <td>Biarritz</td>\n",
       "      <td>Logement entier</td>\n",
       "      <td>None</td>\n",
       "      <td>53.0</td>\n",
       "      <td>False</td>\n",
       "    </tr>\n",
       "    <tr>\n",
       "      <th>11259</th>\n",
       "      <td>8</td>\n",
       "      <td>2022-01-30 17:24:15.243725</td>\n",
       "      <td>14395196</td>\n",
       "      <td>39203555</td>\n",
       "      <td>Biarritz</td>\n",
       "      <td>Logement entier</td>\n",
       "      <td>None</td>\n",
       "      <td>51.0</td>\n",
       "      <td>False</td>\n",
       "    </tr>\n",
       "    <tr>\n",
       "      <th>11667</th>\n",
       "      <td>8</td>\n",
       "      <td>2022-01-30 17:24:15.243725</td>\n",
       "      <td>26407130</td>\n",
       "      <td>6076985</td>\n",
       "      <td>Biarritz</td>\n",
       "      <td>Logement entier</td>\n",
       "      <td>None</td>\n",
       "      <td>50.0</td>\n",
       "      <td>False</td>\n",
       "    </tr>\n",
       "    <tr>\n",
       "      <th>12078</th>\n",
       "      <td>8</td>\n",
       "      <td>2022-01-30 17:24:15.243725</td>\n",
       "      <td>4009867</td>\n",
       "      <td>11839665</td>\n",
       "      <td>Biarritz</td>\n",
       "      <td>Logement entier</td>\n",
       "      <td>None</td>\n",
       "      <td>50.0</td>\n",
       "      <td>False</td>\n",
       "    </tr>\n",
       "    <tr>\n",
       "      <th>12006</th>\n",
       "      <td>8</td>\n",
       "      <td>2022-01-30 17:24:15.243725</td>\n",
       "      <td>5563489</td>\n",
       "      <td>15013350</td>\n",
       "      <td>Biarritz</td>\n",
       "      <td>Logement entier</td>\n",
       "      <td>None</td>\n",
       "      <td>50.0</td>\n",
       "      <td>False</td>\n",
       "    </tr>\n",
       "    <tr>\n",
       "      <th>10843</th>\n",
       "      <td>8</td>\n",
       "      <td>2022-01-30 17:24:15.243725</td>\n",
       "      <td>6977437</td>\n",
       "      <td>36589287</td>\n",
       "      <td>Biarritz</td>\n",
       "      <td>Logement entier</td>\n",
       "      <td>191788828110.</td>\n",
       "      <td>49.0</td>\n",
       "      <td>False</td>\n",
       "    </tr>\n",
       "    <tr>\n",
       "      <th>12409</th>\n",
       "      <td>8</td>\n",
       "      <td>2022-01-30 17:24:15.243725</td>\n",
       "      <td>7130312</td>\n",
       "      <td>29176260</td>\n",
       "      <td>Biarritz</td>\n",
       "      <td>Logement entier</td>\n",
       "      <td>None</td>\n",
       "      <td>43.0</td>\n",
       "      <td>False</td>\n",
       "    </tr>\n",
       "    <tr>\n",
       "      <th>12008</th>\n",
       "      <td>8</td>\n",
       "      <td>2022-01-30 17:24:15.243725</td>\n",
       "      <td>18261388</td>\n",
       "      <td>18033297</td>\n",
       "      <td>Biarritz</td>\n",
       "      <td>Logement entier</td>\n",
       "      <td>9228308977800</td>\n",
       "      <td>43.0</td>\n",
       "      <td>False</td>\n",
       "    </tr>\n",
       "    <tr>\n",
       "      <th>11169</th>\n",
       "      <td>8</td>\n",
       "      <td>2022-01-30 17:24:15.243725</td>\n",
       "      <td>35680873</td>\n",
       "      <td>150179413</td>\n",
       "      <td>Biarritz</td>\n",
       "      <td>Logement entier</td>\n",
       "      <td>0000000000000</td>\n",
       "      <td>40.0</td>\n",
       "      <td>False</td>\n",
       "    </tr>\n",
       "    <tr>\n",
       "      <th>12348</th>\n",
       "      <td>8</td>\n",
       "      <td>2022-01-30 17:24:15.243725</td>\n",
       "      <td>11913570</td>\n",
       "      <td>63565348</td>\n",
       "      <td>Biarritz</td>\n",
       "      <td>Logement entier</td>\n",
       "      <td>0000000000000</td>\n",
       "      <td>39.0</td>\n",
       "      <td>False</td>\n",
       "    </tr>\n",
       "    <tr>\n",
       "      <th>11148</th>\n",
       "      <td>8</td>\n",
       "      <td>2022-01-30 17:24:15.243725</td>\n",
       "      <td>36266935</td>\n",
       "      <td>272204754</td>\n",
       "      <td>Biarritz</td>\n",
       "      <td>Logement entier</td>\n",
       "      <td>None</td>\n",
       "      <td>38.0</td>\n",
       "      <td>False</td>\n",
       "    </tr>\n",
       "    <tr>\n",
       "      <th>11441</th>\n",
       "      <td>8</td>\n",
       "      <td>2022-01-30 17:24:15.243725</td>\n",
       "      <td>4956641</td>\n",
       "      <td>25549249</td>\n",
       "      <td>Biarritz</td>\n",
       "      <td>Logement entier</td>\n",
       "      <td>None</td>\n",
       "      <td>36.0</td>\n",
       "      <td>False</td>\n",
       "    </tr>\n",
       "    <tr>\n",
       "      <th>10893</th>\n",
       "      <td>8</td>\n",
       "      <td>2022-01-30 17:24:15.243725</td>\n",
       "      <td>30387635</td>\n",
       "      <td>155346639</td>\n",
       "      <td>Biarritz</td>\n",
       "      <td>Logement entier</td>\n",
       "      <td>2069A55985493</td>\n",
       "      <td>35.0</td>\n",
       "      <td>False</td>\n",
       "    </tr>\n",
       "    <tr>\n",
       "      <th>11014</th>\n",
       "      <td>8</td>\n",
       "      <td>2022-01-30 17:24:15.243725</td>\n",
       "      <td>7363061</td>\n",
       "      <td>38577798</td>\n",
       "      <td>Biarritz</td>\n",
       "      <td>Logement entier</td>\n",
       "      <td>1112223334445</td>\n",
       "      <td>34.0</td>\n",
       "      <td>False</td>\n",
       "    </tr>\n",
       "    <tr>\n",
       "      <th>10714</th>\n",
       "      <td>8</td>\n",
       "      <td>2022-01-30 17:24:15.243725</td>\n",
       "      <td>8201083</td>\n",
       "      <td>43253599</td>\n",
       "      <td>Biarritz</td>\n",
       "      <td>Logement entier</td>\n",
       "      <td>None</td>\n",
       "      <td>33.0</td>\n",
       "      <td>False</td>\n",
       "    </tr>\n",
       "    <tr>\n",
       "      <th>12317</th>\n",
       "      <td>8</td>\n",
       "      <td>2022-01-30 17:24:15.243725</td>\n",
       "      <td>6119401</td>\n",
       "      <td>5002902</td>\n",
       "      <td>Biarritz</td>\n",
       "      <td>Logement entier</td>\n",
       "      <td>None</td>\n",
       "      <td>33.0</td>\n",
       "      <td>False</td>\n",
       "    </tr>\n",
       "    <tr>\n",
       "      <th>11324</th>\n",
       "      <td>8</td>\n",
       "      <td>2022-01-30 17:24:15.243725</td>\n",
       "      <td>45983961</td>\n",
       "      <td>137695640</td>\n",
       "      <td>Biarritz</td>\n",
       "      <td>Logement entier</td>\n",
       "      <td>None</td>\n",
       "      <td>33.0</td>\n",
       "      <td>False</td>\n",
       "    </tr>\n",
       "    <tr>\n",
       "      <th>12343</th>\n",
       "      <td>8</td>\n",
       "      <td>2022-01-30 17:24:15.243725</td>\n",
       "      <td>5980989</td>\n",
       "      <td>31052860</td>\n",
       "      <td>Biarritz</td>\n",
       "      <td>Logement entier</td>\n",
       "      <td>0166079756898</td>\n",
       "      <td>33.0</td>\n",
       "      <td>False</td>\n",
       "    </tr>\n",
       "    <tr>\n",
       "      <th>11958</th>\n",
       "      <td>8</td>\n",
       "      <td>2022-01-30 17:24:15.243725</td>\n",
       "      <td>8124201</td>\n",
       "      <td>42753384</td>\n",
       "      <td>Biarritz</td>\n",
       "      <td>Logement entier</td>\n",
       "      <td>1345633454358</td>\n",
       "      <td>32.0</td>\n",
       "      <td>False</td>\n",
       "    </tr>\n",
       "    <tr>\n",
       "      <th>11342</th>\n",
       "      <td>8</td>\n",
       "      <td>2022-01-30 17:24:15.243725</td>\n",
       "      <td>6219400</td>\n",
       "      <td>25673888</td>\n",
       "      <td>Biarritz</td>\n",
       "      <td>Logement entier</td>\n",
       "      <td>None</td>\n",
       "      <td>32.0</td>\n",
       "      <td>False</td>\n",
       "    </tr>\n",
       "    <tr>\n",
       "      <th>12459</th>\n",
       "      <td>8</td>\n",
       "      <td>2022-01-30 17:24:15.243725</td>\n",
       "      <td>12383923</td>\n",
       "      <td>66940931</td>\n",
       "      <td>Biarritz</td>\n",
       "      <td>Logement entier</td>\n",
       "      <td>AEE8457338745</td>\n",
       "      <td>32.0</td>\n",
       "      <td>False</td>\n",
       "    </tr>\n",
       "    <tr>\n",
       "      <th>12093</th>\n",
       "      <td>8</td>\n",
       "      <td>2022-01-30 17:24:15.243725</td>\n",
       "      <td>11619925</td>\n",
       "      <td>61521070</td>\n",
       "      <td>Biarritz</td>\n",
       "      <td>Logement entier</td>\n",
       "      <td>None</td>\n",
       "      <td>31.0</td>\n",
       "      <td>False</td>\n",
       "    </tr>\n",
       "    <tr>\n",
       "      <th>12263</th>\n",
       "      <td>8</td>\n",
       "      <td>2022-01-30 17:24:15.243725</td>\n",
       "      <td>5649616</td>\n",
       "      <td>29227895</td>\n",
       "      <td>Biarritz</td>\n",
       "      <td>Logement entier</td>\n",
       "      <td>None</td>\n",
       "      <td>30.0</td>\n",
       "      <td>False</td>\n",
       "    </tr>\n",
       "    <tr>\n",
       "      <th>12092</th>\n",
       "      <td>8</td>\n",
       "      <td>2022-01-30 17:24:15.243725</td>\n",
       "      <td>47191355</td>\n",
       "      <td>143497562</td>\n",
       "      <td>Biarritz</td>\n",
       "      <td>Logement entier</td>\n",
       "      <td>104157689354L</td>\n",
       "      <td>28.0</td>\n",
       "      <td>False</td>\n",
       "    </tr>\n",
       "    <tr>\n",
       "      <th>11429</th>\n",
       "      <td>8</td>\n",
       "      <td>2022-01-30 17:24:15.243725</td>\n",
       "      <td>42483427</td>\n",
       "      <td>24619098</td>\n",
       "      <td>Biarritz</td>\n",
       "      <td>Logement entier</td>\n",
       "      <td>None</td>\n",
       "      <td>28.0</td>\n",
       "      <td>False</td>\n",
       "    </tr>\n",
       "    <tr>\n",
       "      <th>11979</th>\n",
       "      <td>8</td>\n",
       "      <td>2022-01-30 17:24:15.243725</td>\n",
       "      <td>6535041</td>\n",
       "      <td>34177908</td>\n",
       "      <td>Biarritz</td>\n",
       "      <td>Logement entier</td>\n",
       "      <td>None</td>\n",
       "      <td>28.0</td>\n",
       "      <td>False</td>\n",
       "    </tr>\n",
       "    <tr>\n",
       "      <th>12296</th>\n",
       "      <td>8</td>\n",
       "      <td>2022-01-30 17:24:15.243725</td>\n",
       "      <td>5230168</td>\n",
       "      <td>2114656</td>\n",
       "      <td>Biarritz</td>\n",
       "      <td>Logement entier</td>\n",
       "      <td>None</td>\n",
       "      <td>27.0</td>\n",
       "      <td>False</td>\n",
       "    </tr>\n",
       "    <tr>\n",
       "      <th>10576</th>\n",
       "      <td>8</td>\n",
       "      <td>2022-01-30 17:24:15.243725</td>\n",
       "      <td>12230029</td>\n",
       "      <td>6806209</td>\n",
       "      <td>Biarritz</td>\n",
       "      <td>Logement entier</td>\n",
       "      <td>Nur mit einem Mobility-Lease verfügbar („bail ...</td>\n",
       "      <td>26.0</td>\n",
       "      <td>False</td>\n",
       "    </tr>\n",
       "    <tr>\n",
       "      <th>10938</th>\n",
       "      <td>8</td>\n",
       "      <td>2022-01-30 17:24:15.243725</td>\n",
       "      <td>26481703</td>\n",
       "      <td>56938439</td>\n",
       "      <td>Biarritz</td>\n",
       "      <td>Logement entier</td>\n",
       "      <td>None</td>\n",
       "      <td>26.0</td>\n",
       "      <td>False</td>\n",
       "    </tr>\n",
       "    <tr>\n",
       "      <th>12537</th>\n",
       "      <td>8</td>\n",
       "      <td>2022-01-30 17:24:15.243725</td>\n",
       "      <td>10222274</td>\n",
       "      <td>37889894</td>\n",
       "      <td>Biarritz</td>\n",
       "      <td>Logement entier</td>\n",
       "      <td>None</td>\n",
       "      <td>25.0</td>\n",
       "      <td>False</td>\n",
       "    </tr>\n",
       "    <tr>\n",
       "      <th>11094</th>\n",
       "      <td>8</td>\n",
       "      <td>2022-01-30 17:24:15.243725</td>\n",
       "      <td>3885759</td>\n",
       "      <td>14229711</td>\n",
       "      <td>Biarritz</td>\n",
       "      <td>Logement entier</td>\n",
       "      <td>None</td>\n",
       "      <td>24.0</td>\n",
       "      <td>False</td>\n",
       "    </tr>\n",
       "  </tbody>\n",
       "</table>\n",
       "</div>"
      ],
      "text/plain": [
       "       survey_id                survey_date   room_id    host_id      city  \\\n",
       "12019          8 2022-01-30 17:24:15.243725  17734425  120943770  Biarritz   \n",
       "11003          8 2022-01-30 17:24:15.243725   3445009   17361744  Biarritz   \n",
       "10212          8 2022-01-30 17:24:15.243725  18705762   32512096  Biarritz   \n",
       "12541          8 2022-01-30 17:24:15.243725   3179285   16122157  Biarritz   \n",
       "11819          8 2022-01-30 17:24:15.243725   9642024   31734745  Biarritz   \n",
       "10709          8 2022-01-30 17:24:15.243725   3382611   17066104  Biarritz   \n",
       "11251          8 2022-01-30 17:24:15.243725  43877071  351130915  Biarritz   \n",
       "11647          8 2022-01-30 17:24:15.243725  24416199  184346763  Biarritz   \n",
       "10950          8 2022-01-30 17:24:15.243725   3879262    5751649  Biarritz   \n",
       "11686          8 2022-01-30 17:24:15.243725  43567285  347271152  Biarritz   \n",
       "11259          8 2022-01-30 17:24:15.243725  14395196   39203555  Biarritz   \n",
       "11667          8 2022-01-30 17:24:15.243725  26407130    6076985  Biarritz   \n",
       "12078          8 2022-01-30 17:24:15.243725   4009867   11839665  Biarritz   \n",
       "12006          8 2022-01-30 17:24:15.243725   5563489   15013350  Biarritz   \n",
       "10843          8 2022-01-30 17:24:15.243725   6977437   36589287  Biarritz   \n",
       "12409          8 2022-01-30 17:24:15.243725   7130312   29176260  Biarritz   \n",
       "12008          8 2022-01-30 17:24:15.243725  18261388   18033297  Biarritz   \n",
       "11169          8 2022-01-30 17:24:15.243725  35680873  150179413  Biarritz   \n",
       "12348          8 2022-01-30 17:24:15.243725  11913570   63565348  Biarritz   \n",
       "11148          8 2022-01-30 17:24:15.243725  36266935  272204754  Biarritz   \n",
       "11441          8 2022-01-30 17:24:15.243725   4956641   25549249  Biarritz   \n",
       "10893          8 2022-01-30 17:24:15.243725  30387635  155346639  Biarritz   \n",
       "11014          8 2022-01-30 17:24:15.243725   7363061   38577798  Biarritz   \n",
       "10714          8 2022-01-30 17:24:15.243725   8201083   43253599  Biarritz   \n",
       "12317          8 2022-01-30 17:24:15.243725   6119401    5002902  Biarritz   \n",
       "11324          8 2022-01-30 17:24:15.243725  45983961  137695640  Biarritz   \n",
       "12343          8 2022-01-30 17:24:15.243725   5980989   31052860  Biarritz   \n",
       "11958          8 2022-01-30 17:24:15.243725   8124201   42753384  Biarritz   \n",
       "11342          8 2022-01-30 17:24:15.243725   6219400   25673888  Biarritz   \n",
       "12459          8 2022-01-30 17:24:15.243725  12383923   66940931  Biarritz   \n",
       "12093          8 2022-01-30 17:24:15.243725  11619925   61521070  Biarritz   \n",
       "12263          8 2022-01-30 17:24:15.243725   5649616   29227895  Biarritz   \n",
       "12092          8 2022-01-30 17:24:15.243725  47191355  143497562  Biarritz   \n",
       "11429          8 2022-01-30 17:24:15.243725  42483427   24619098  Biarritz   \n",
       "11979          8 2022-01-30 17:24:15.243725   6535041   34177908  Biarritz   \n",
       "12296          8 2022-01-30 17:24:15.243725   5230168    2114656  Biarritz   \n",
       "10576          8 2022-01-30 17:24:15.243725  12230029    6806209  Biarritz   \n",
       "10938          8 2022-01-30 17:24:15.243725  26481703   56938439  Biarritz   \n",
       "12537          8 2022-01-30 17:24:15.243725  10222274   37889894  Biarritz   \n",
       "11094          8 2022-01-30 17:24:15.243725   3885759   14229711  Biarritz   \n",
       "\n",
       "             room_type                                            license  \\\n",
       "12019  Logement entier                                      0001220295519   \n",
       "11003  Logement entier                                               None   \n",
       "10212  Logement entier                                      34122172322XS   \n",
       "12541  Logement entier                                               None   \n",
       "11819  Logement entier                                               None   \n",
       "10709  Logement entier                                               None   \n",
       "11251  Logement entier                                      6H122001H8HDA   \n",
       "11647  Logement entier                                               None   \n",
       "10950  Logement entier                                               None   \n",
       "11686  Logement entier                                               None   \n",
       "11259  Logement entier                                               None   \n",
       "11667  Logement entier                                               None   \n",
       "12078  Logement entier                                               None   \n",
       "12006  Logement entier                                               None   \n",
       "10843  Logement entier                                      191788828110.   \n",
       "12409  Logement entier                                               None   \n",
       "12008  Logement entier                                      9228308977800   \n",
       "11169  Logement entier                                      0000000000000   \n",
       "12348  Logement entier                                      0000000000000   \n",
       "11148  Logement entier                                               None   \n",
       "11441  Logement entier                                               None   \n",
       "10893  Logement entier                                      2069A55985493   \n",
       "11014  Logement entier                                      1112223334445   \n",
       "10714  Logement entier                                               None   \n",
       "12317  Logement entier                                               None   \n",
       "11324  Logement entier                                               None   \n",
       "12343  Logement entier                                      0166079756898   \n",
       "11958  Logement entier                                      1345633454358   \n",
       "11342  Logement entier                                               None   \n",
       "12459  Logement entier                                      AEE8457338745   \n",
       "12093  Logement entier                                               None   \n",
       "12263  Logement entier                                               None   \n",
       "12092  Logement entier                                      104157689354L   \n",
       "11429  Logement entier                                               None   \n",
       "11979  Logement entier                                               None   \n",
       "12296  Logement entier                                               None   \n",
       "10576  Logement entier  Nur mit einem Mobility-Lease verfügbar („bail ...   \n",
       "10938  Logement entier                                               None   \n",
       "12537  Logement entier                                               None   \n",
       "11094  Logement entier                                               None   \n",
       "\n",
       "       reviews  has_license  \n",
       "12019     91.0        False  \n",
       "11003     83.0        False  \n",
       "10212     76.0        False  \n",
       "12541     62.0        False  \n",
       "11819     62.0        False  \n",
       "10709     59.0        False  \n",
       "11251     56.0        False  \n",
       "11647     54.0        False  \n",
       "10950     54.0        False  \n",
       "11686     53.0        False  \n",
       "11259     51.0        False  \n",
       "11667     50.0        False  \n",
       "12078     50.0        False  \n",
       "12006     50.0        False  \n",
       "10843     49.0        False  \n",
       "12409     43.0        False  \n",
       "12008     43.0        False  \n",
       "11169     40.0        False  \n",
       "12348     39.0        False  \n",
       "11148     38.0        False  \n",
       "11441     36.0        False  \n",
       "10893     35.0        False  \n",
       "11014     34.0        False  \n",
       "10714     33.0        False  \n",
       "12317     33.0        False  \n",
       "11324     33.0        False  \n",
       "12343     33.0        False  \n",
       "11958     32.0        False  \n",
       "11342     32.0        False  \n",
       "12459     32.0        False  \n",
       "12093     31.0        False  \n",
       "12263     30.0        False  \n",
       "12092     28.0        False  \n",
       "11429     28.0        False  \n",
       "11979     28.0        False  \n",
       "12296     27.0        False  \n",
       "10576     26.0        False  \n",
       "10938     26.0        False  \n",
       "12537     25.0        False  \n",
       "11094     24.0        False  "
      ]
     },
     "execution_count": 266,
     "metadata": {},
     "output_type": "execute_result"
    }
   ],
   "source": [
    "_df = df[df.survey_id == SURVEY_IDS[-1]]\n",
    "_df = _df[(_df.has_license == False) & (_df.room_type == 'Logement entier') & (_df.city == 'Biarritz')]\n",
    "_df.sort_values('reviews', ascending=False).head(40)"
   ]
  },
  {
   "cell_type": "markdown",
   "metadata": {},
   "source": [
    "# Bail Mobilité"
   ]
  },
  {
   "cell_type": "code",
   "execution_count": 254,
   "metadata": {},
   "outputs": [
    {
     "name": "stderr",
     "output_type": "stream",
     "text": [
      "/var/folders/mz/5gqqtphs0ds50kbxxqpqw8xc0000gn/T/ipykernel_715/1208690351.py:2: UserWarning:\n",
      "\n",
      "Boolean Series key will be reindexed to match DataFrame index.\n",
      "\n"
     ]
    },
    {
     "data": {
      "text/html": [
       "<div>\n",
       "<style scoped>\n",
       "    .dataframe tbody tr th:only-of-type {\n",
       "        vertical-align: middle;\n",
       "    }\n",
       "\n",
       "    .dataframe tbody tr th {\n",
       "        vertical-align: top;\n",
       "    }\n",
       "\n",
       "    .dataframe thead th {\n",
       "        text-align: right;\n",
       "    }\n",
       "</style>\n",
       "<table border=\"1\" class=\"dataframe\">\n",
       "  <thead>\n",
       "    <tr style=\"text-align: right;\">\n",
       "      <th></th>\n",
       "      <th>survey_id</th>\n",
       "      <th>survey_date</th>\n",
       "      <th>room_id</th>\n",
       "      <th>host_id</th>\n",
       "      <th>city</th>\n",
       "      <th>room_type</th>\n",
       "      <th>license</th>\n",
       "      <th>reviews</th>\n",
       "      <th>has_license</th>\n",
       "    </tr>\n",
       "  </thead>\n",
       "  <tbody>\n",
       "    <tr>\n",
       "      <th>11834</th>\n",
       "      <td>8</td>\n",
       "      <td>2022-01-30 17:24:15.243725</td>\n",
       "      <td>6123682</td>\n",
       "      <td>31734745</td>\n",
       "      <td>Biarritz</td>\n",
       "      <td>Logement entier</td>\n",
       "      <td>Available with a mobility lease only (\"bail mo...</td>\n",
       "      <td>154.0</td>\n",
       "      <td>True</td>\n",
       "    </tr>\n",
       "    <tr>\n",
       "      <th>11050</th>\n",
       "      <td>8</td>\n",
       "      <td>2022-01-30 17:24:15.243725</td>\n",
       "      <td>24741468</td>\n",
       "      <td>187052003</td>\n",
       "      <td>Biarritz</td>\n",
       "      <td>Logement entier</td>\n",
       "      <td>Available with a mobility lease only (\"bail mo...</td>\n",
       "      <td>53.0</td>\n",
       "      <td>True</td>\n",
       "    </tr>\n",
       "    <tr>\n",
       "      <th>8774</th>\n",
       "      <td>8</td>\n",
       "      <td>2022-01-30 17:24:15.243725</td>\n",
       "      <td>33038313</td>\n",
       "      <td>36653356</td>\n",
       "      <td>Bayonne</td>\n",
       "      <td>Logement entier</td>\n",
       "      <td>Disponible uniquement via un bail mobilité</td>\n",
       "      <td>35.0</td>\n",
       "      <td>True</td>\n",
       "    </tr>\n",
       "    <tr>\n",
       "      <th>10680</th>\n",
       "      <td>8</td>\n",
       "      <td>2022-01-30 17:24:15.243725</td>\n",
       "      <td>3574064</td>\n",
       "      <td>17997812</td>\n",
       "      <td>Biarritz</td>\n",
       "      <td>Logement entier</td>\n",
       "      <td>Disponible uniquement via un bail mobilité</td>\n",
       "      <td>30.0</td>\n",
       "      <td>True</td>\n",
       "    </tr>\n",
       "    <tr>\n",
       "      <th>12389</th>\n",
       "      <td>8</td>\n",
       "      <td>2022-01-30 17:24:15.243725</td>\n",
       "      <td>40584327</td>\n",
       "      <td>314465153</td>\n",
       "      <td>Biarritz</td>\n",
       "      <td>Logement entier</td>\n",
       "      <td>Available with a mobility lease only (\"bail mo...</td>\n",
       "      <td>21.0</td>\n",
       "      <td>True</td>\n",
       "    </tr>\n",
       "  </tbody>\n",
       "</table>\n",
       "</div>"
      ],
      "text/plain": [
       "       survey_id                survey_date   room_id    host_id      city  \\\n",
       "11834          8 2022-01-30 17:24:15.243725   6123682   31734745  Biarritz   \n",
       "11050          8 2022-01-30 17:24:15.243725  24741468  187052003  Biarritz   \n",
       "8774           8 2022-01-30 17:24:15.243725  33038313   36653356   Bayonne   \n",
       "10680          8 2022-01-30 17:24:15.243725   3574064   17997812  Biarritz   \n",
       "12389          8 2022-01-30 17:24:15.243725  40584327  314465153  Biarritz   \n",
       "\n",
       "             room_type                                            license  \\\n",
       "11834  Logement entier  Available with a mobility lease only (\"bail mo...   \n",
       "11050  Logement entier  Available with a mobility lease only (\"bail mo...   \n",
       "8774   Logement entier         Disponible uniquement via un bail mobilité   \n",
       "10680  Logement entier         Disponible uniquement via un bail mobilité   \n",
       "12389  Logement entier  Available with a mobility lease only (\"bail mo...   \n",
       "\n",
       "       reviews  has_license  \n",
       "11834    154.0         True  \n",
       "11050     53.0         True  \n",
       "8774      35.0         True  \n",
       "10680     30.0         True  \n",
       "12389     21.0         True  "
      ]
     },
     "execution_count": 254,
     "metadata": {},
     "output_type": "execute_result"
    }
   ],
   "source": [
    "_df = df[df.survey_id == SURVEY_IDS[-1]]\n",
    "_df[df.license.isin(MOBILITY_LICENSE)].sort_values('reviews', ascending=False).head(5)"
   ]
  },
  {
   "cell_type": "code",
   "execution_count": 255,
   "metadata": {},
   "outputs": [
    {
     "name": "stderr",
     "output_type": "stream",
     "text": [
      "/var/folders/mz/5gqqtphs0ds50kbxxqpqw8xc0000gn/T/ipykernel_715/4208336327.py:2: SettingWithCopyWarning:\n",
      "\n",
      "\n",
      "A value is trying to be set on a copy of a slice from a DataFrame.\n",
      "Try using .loc[row_indexer,col_indexer] = value instead\n",
      "\n",
      "See the caveats in the documentation: https://pandas.pydata.org/pandas-docs/stable/user_guide/indexing.html#returning-a-view-versus-a-copy\n",
      "\n"
     ]
    },
    {
     "data": {
      "application/vnd.plotly.v1+json": {
       "config": {
        "plotlyServerURL": "https://plot.ly"
       },
       "data": [
        {
         "alignmentgroup": "True",
         "hovertemplate": "city=Anglet<br>date=%{x}<br>mobility_rate=%{y}<extra></extra>",
         "legendgroup": "Anglet",
         "marker": {
          "color": "#3d405b",
          "pattern": {
           "shape": ""
          }
         },
         "name": "Anglet",
         "offsetgroup": "Anglet",
         "orientation": "v",
         "showlegend": true,
         "textposition": "auto",
         "type": "bar",
         "x": [
          "2022-01-07T21:13:23.891570",
          "2022-01-30T17:24:15.243725"
         ],
         "xaxis": "x",
         "y": [
          0.18018018018018017,
          0.17406440382941687
         ],
         "yaxis": "y"
        },
        {
         "alignmentgroup": "True",
         "hovertemplate": "city=Bayonne<br>date=%{x}<br>mobility_rate=%{y}<extra></extra>",
         "legendgroup": "Bayonne",
         "marker": {
          "color": "#81b29a",
          "pattern": {
           "shape": ""
          }
         },
         "name": "Bayonne",
         "offsetgroup": "Bayonne",
         "orientation": "v",
         "showlegend": true,
         "textposition": "auto",
         "type": "bar",
         "x": [
          "2022-01-07T21:13:23.891570",
          "2022-01-30T17:24:15.243725"
         ],
         "xaxis": "x",
         "y": [
          0.7183908045977011,
          0.6934812760055479
         ],
         "yaxis": "y"
        },
        {
         "alignmentgroup": "True",
         "hovertemplate": "city=Biarritz<br>date=%{x}<br>mobility_rate=%{y}<extra></extra>",
         "legendgroup": "Biarritz",
         "marker": {
          "color": "#e07a5f",
          "pattern": {
           "shape": ""
          }
         },
         "name": "Biarritz",
         "offsetgroup": "Biarritz",
         "orientation": "v",
         "showlegend": true,
         "textposition": "auto",
         "type": "bar",
         "x": [
          "2022-01-07T21:13:23.891570",
          "2022-01-30T17:24:15.243725"
         ],
         "xaxis": "x",
         "y": [
          0,
          0.5293551491819056
         ],
         "yaxis": "y"
        }
       ],
       "layout": {
        "barmode": "group",
        "legend": {
         "title": {
          "text": "city"
         },
         "tracegroupgap": 0
        },
        "margin": {
         "t": 60
        },
        "template": {
         "data": {
          "bar": [
           {
            "error_x": {
             "color": "#2a3f5f"
            },
            "error_y": {
             "color": "#2a3f5f"
            },
            "marker": {
             "line": {
              "color": "#E5ECF6",
              "width": 0.5
             },
             "pattern": {
              "fillmode": "overlay",
              "size": 10,
              "solidity": 0.2
             }
            },
            "type": "bar"
           }
          ],
          "barpolar": [
           {
            "marker": {
             "line": {
              "color": "#E5ECF6",
              "width": 0.5
             },
             "pattern": {
              "fillmode": "overlay",
              "size": 10,
              "solidity": 0.2
             }
            },
            "type": "barpolar"
           }
          ],
          "carpet": [
           {
            "aaxis": {
             "endlinecolor": "#2a3f5f",
             "gridcolor": "white",
             "linecolor": "white",
             "minorgridcolor": "white",
             "startlinecolor": "#2a3f5f"
            },
            "baxis": {
             "endlinecolor": "#2a3f5f",
             "gridcolor": "white",
             "linecolor": "white",
             "minorgridcolor": "white",
             "startlinecolor": "#2a3f5f"
            },
            "type": "carpet"
           }
          ],
          "choropleth": [
           {
            "colorbar": {
             "outlinewidth": 0,
             "ticks": ""
            },
            "type": "choropleth"
           }
          ],
          "contour": [
           {
            "colorbar": {
             "outlinewidth": 0,
             "ticks": ""
            },
            "colorscale": [
             [
              0,
              "#0d0887"
             ],
             [
              0.1111111111111111,
              "#46039f"
             ],
             [
              0.2222222222222222,
              "#7201a8"
             ],
             [
              0.3333333333333333,
              "#9c179e"
             ],
             [
              0.4444444444444444,
              "#bd3786"
             ],
             [
              0.5555555555555556,
              "#d8576b"
             ],
             [
              0.6666666666666666,
              "#ed7953"
             ],
             [
              0.7777777777777778,
              "#fb9f3a"
             ],
             [
              0.8888888888888888,
              "#fdca26"
             ],
             [
              1,
              "#f0f921"
             ]
            ],
            "type": "contour"
           }
          ],
          "contourcarpet": [
           {
            "colorbar": {
             "outlinewidth": 0,
             "ticks": ""
            },
            "type": "contourcarpet"
           }
          ],
          "heatmap": [
           {
            "colorbar": {
             "outlinewidth": 0,
             "ticks": ""
            },
            "colorscale": [
             [
              0,
              "#0d0887"
             ],
             [
              0.1111111111111111,
              "#46039f"
             ],
             [
              0.2222222222222222,
              "#7201a8"
             ],
             [
              0.3333333333333333,
              "#9c179e"
             ],
             [
              0.4444444444444444,
              "#bd3786"
             ],
             [
              0.5555555555555556,
              "#d8576b"
             ],
             [
              0.6666666666666666,
              "#ed7953"
             ],
             [
              0.7777777777777778,
              "#fb9f3a"
             ],
             [
              0.8888888888888888,
              "#fdca26"
             ],
             [
              1,
              "#f0f921"
             ]
            ],
            "type": "heatmap"
           }
          ],
          "heatmapgl": [
           {
            "colorbar": {
             "outlinewidth": 0,
             "ticks": ""
            },
            "colorscale": [
             [
              0,
              "#0d0887"
             ],
             [
              0.1111111111111111,
              "#46039f"
             ],
             [
              0.2222222222222222,
              "#7201a8"
             ],
             [
              0.3333333333333333,
              "#9c179e"
             ],
             [
              0.4444444444444444,
              "#bd3786"
             ],
             [
              0.5555555555555556,
              "#d8576b"
             ],
             [
              0.6666666666666666,
              "#ed7953"
             ],
             [
              0.7777777777777778,
              "#fb9f3a"
             ],
             [
              0.8888888888888888,
              "#fdca26"
             ],
             [
              1,
              "#f0f921"
             ]
            ],
            "type": "heatmapgl"
           }
          ],
          "histogram": [
           {
            "marker": {
             "pattern": {
              "fillmode": "overlay",
              "size": 10,
              "solidity": 0.2
             }
            },
            "type": "histogram"
           }
          ],
          "histogram2d": [
           {
            "colorbar": {
             "outlinewidth": 0,
             "ticks": ""
            },
            "colorscale": [
             [
              0,
              "#0d0887"
             ],
             [
              0.1111111111111111,
              "#46039f"
             ],
             [
              0.2222222222222222,
              "#7201a8"
             ],
             [
              0.3333333333333333,
              "#9c179e"
             ],
             [
              0.4444444444444444,
              "#bd3786"
             ],
             [
              0.5555555555555556,
              "#d8576b"
             ],
             [
              0.6666666666666666,
              "#ed7953"
             ],
             [
              0.7777777777777778,
              "#fb9f3a"
             ],
             [
              0.8888888888888888,
              "#fdca26"
             ],
             [
              1,
              "#f0f921"
             ]
            ],
            "type": "histogram2d"
           }
          ],
          "histogram2dcontour": [
           {
            "colorbar": {
             "outlinewidth": 0,
             "ticks": ""
            },
            "colorscale": [
             [
              0,
              "#0d0887"
             ],
             [
              0.1111111111111111,
              "#46039f"
             ],
             [
              0.2222222222222222,
              "#7201a8"
             ],
             [
              0.3333333333333333,
              "#9c179e"
             ],
             [
              0.4444444444444444,
              "#bd3786"
             ],
             [
              0.5555555555555556,
              "#d8576b"
             ],
             [
              0.6666666666666666,
              "#ed7953"
             ],
             [
              0.7777777777777778,
              "#fb9f3a"
             ],
             [
              0.8888888888888888,
              "#fdca26"
             ],
             [
              1,
              "#f0f921"
             ]
            ],
            "type": "histogram2dcontour"
           }
          ],
          "mesh3d": [
           {
            "colorbar": {
             "outlinewidth": 0,
             "ticks": ""
            },
            "type": "mesh3d"
           }
          ],
          "parcoords": [
           {
            "line": {
             "colorbar": {
              "outlinewidth": 0,
              "ticks": ""
             }
            },
            "type": "parcoords"
           }
          ],
          "pie": [
           {
            "automargin": true,
            "type": "pie"
           }
          ],
          "scatter": [
           {
            "marker": {
             "colorbar": {
              "outlinewidth": 0,
              "ticks": ""
             }
            },
            "type": "scatter"
           }
          ],
          "scatter3d": [
           {
            "line": {
             "colorbar": {
              "outlinewidth": 0,
              "ticks": ""
             }
            },
            "marker": {
             "colorbar": {
              "outlinewidth": 0,
              "ticks": ""
             }
            },
            "type": "scatter3d"
           }
          ],
          "scattercarpet": [
           {
            "marker": {
             "colorbar": {
              "outlinewidth": 0,
              "ticks": ""
             }
            },
            "type": "scattercarpet"
           }
          ],
          "scattergeo": [
           {
            "marker": {
             "colorbar": {
              "outlinewidth": 0,
              "ticks": ""
             }
            },
            "type": "scattergeo"
           }
          ],
          "scattergl": [
           {
            "marker": {
             "colorbar": {
              "outlinewidth": 0,
              "ticks": ""
             }
            },
            "type": "scattergl"
           }
          ],
          "scattermapbox": [
           {
            "marker": {
             "colorbar": {
              "outlinewidth": 0,
              "ticks": ""
             }
            },
            "type": "scattermapbox"
           }
          ],
          "scatterpolar": [
           {
            "marker": {
             "colorbar": {
              "outlinewidth": 0,
              "ticks": ""
             }
            },
            "type": "scatterpolar"
           }
          ],
          "scatterpolargl": [
           {
            "marker": {
             "colorbar": {
              "outlinewidth": 0,
              "ticks": ""
             }
            },
            "type": "scatterpolargl"
           }
          ],
          "scatterternary": [
           {
            "marker": {
             "colorbar": {
              "outlinewidth": 0,
              "ticks": ""
             }
            },
            "type": "scatterternary"
           }
          ],
          "surface": [
           {
            "colorbar": {
             "outlinewidth": 0,
             "ticks": ""
            },
            "colorscale": [
             [
              0,
              "#0d0887"
             ],
             [
              0.1111111111111111,
              "#46039f"
             ],
             [
              0.2222222222222222,
              "#7201a8"
             ],
             [
              0.3333333333333333,
              "#9c179e"
             ],
             [
              0.4444444444444444,
              "#bd3786"
             ],
             [
              0.5555555555555556,
              "#d8576b"
             ],
             [
              0.6666666666666666,
              "#ed7953"
             ],
             [
              0.7777777777777778,
              "#fb9f3a"
             ],
             [
              0.8888888888888888,
              "#fdca26"
             ],
             [
              1,
              "#f0f921"
             ]
            ],
            "type": "surface"
           }
          ],
          "table": [
           {
            "cells": {
             "fill": {
              "color": "#EBF0F8"
             },
             "line": {
              "color": "white"
             }
            },
            "header": {
             "fill": {
              "color": "#C8D4E3"
             },
             "line": {
              "color": "white"
             }
            },
            "type": "table"
           }
          ]
         },
         "layout": {
          "annotationdefaults": {
           "arrowcolor": "#2a3f5f",
           "arrowhead": 0,
           "arrowwidth": 1
          },
          "autotypenumbers": "strict",
          "coloraxis": {
           "colorbar": {
            "outlinewidth": 0,
            "ticks": ""
           }
          },
          "colorscale": {
           "diverging": [
            [
             0,
             "#8e0152"
            ],
            [
             0.1,
             "#c51b7d"
            ],
            [
             0.2,
             "#de77ae"
            ],
            [
             0.3,
             "#f1b6da"
            ],
            [
             0.4,
             "#fde0ef"
            ],
            [
             0.5,
             "#f7f7f7"
            ],
            [
             0.6,
             "#e6f5d0"
            ],
            [
             0.7,
             "#b8e186"
            ],
            [
             0.8,
             "#7fbc41"
            ],
            [
             0.9,
             "#4d9221"
            ],
            [
             1,
             "#276419"
            ]
           ],
           "sequential": [
            [
             0,
             "#0d0887"
            ],
            [
             0.1111111111111111,
             "#46039f"
            ],
            [
             0.2222222222222222,
             "#7201a8"
            ],
            [
             0.3333333333333333,
             "#9c179e"
            ],
            [
             0.4444444444444444,
             "#bd3786"
            ],
            [
             0.5555555555555556,
             "#d8576b"
            ],
            [
             0.6666666666666666,
             "#ed7953"
            ],
            [
             0.7777777777777778,
             "#fb9f3a"
            ],
            [
             0.8888888888888888,
             "#fdca26"
            ],
            [
             1,
             "#f0f921"
            ]
           ],
           "sequentialminus": [
            [
             0,
             "#0d0887"
            ],
            [
             0.1111111111111111,
             "#46039f"
            ],
            [
             0.2222222222222222,
             "#7201a8"
            ],
            [
             0.3333333333333333,
             "#9c179e"
            ],
            [
             0.4444444444444444,
             "#bd3786"
            ],
            [
             0.5555555555555556,
             "#d8576b"
            ],
            [
             0.6666666666666666,
             "#ed7953"
            ],
            [
             0.7777777777777778,
             "#fb9f3a"
            ],
            [
             0.8888888888888888,
             "#fdca26"
            ],
            [
             1,
             "#f0f921"
            ]
           ]
          },
          "colorway": [
           "#636efa",
           "#EF553B",
           "#00cc96",
           "#ab63fa",
           "#FFA15A",
           "#19d3f3",
           "#FF6692",
           "#B6E880",
           "#FF97FF",
           "#FECB52"
          ],
          "font": {
           "color": "#2a3f5f"
          },
          "geo": {
           "bgcolor": "white",
           "lakecolor": "white",
           "landcolor": "#E5ECF6",
           "showlakes": true,
           "showland": true,
           "subunitcolor": "white"
          },
          "hoverlabel": {
           "align": "left"
          },
          "hovermode": "closest",
          "mapbox": {
           "style": "light"
          },
          "paper_bgcolor": "white",
          "plot_bgcolor": "#E5ECF6",
          "polar": {
           "angularaxis": {
            "gridcolor": "white",
            "linecolor": "white",
            "ticks": ""
           },
           "bgcolor": "#E5ECF6",
           "radialaxis": {
            "gridcolor": "white",
            "linecolor": "white",
            "ticks": ""
           }
          },
          "scene": {
           "xaxis": {
            "backgroundcolor": "#E5ECF6",
            "gridcolor": "white",
            "gridwidth": 2,
            "linecolor": "white",
            "showbackground": true,
            "ticks": "",
            "zerolinecolor": "white"
           },
           "yaxis": {
            "backgroundcolor": "#E5ECF6",
            "gridcolor": "white",
            "gridwidth": 2,
            "linecolor": "white",
            "showbackground": true,
            "ticks": "",
            "zerolinecolor": "white"
           },
           "zaxis": {
            "backgroundcolor": "#E5ECF6",
            "gridcolor": "white",
            "gridwidth": 2,
            "linecolor": "white",
            "showbackground": true,
            "ticks": "",
            "zerolinecolor": "white"
           }
          },
          "shapedefaults": {
           "line": {
            "color": "#2a3f5f"
           }
          },
          "ternary": {
           "aaxis": {
            "gridcolor": "white",
            "linecolor": "white",
            "ticks": ""
           },
           "baxis": {
            "gridcolor": "white",
            "linecolor": "white",
            "ticks": ""
           },
           "bgcolor": "#E5ECF6",
           "caxis": {
            "gridcolor": "white",
            "linecolor": "white",
            "ticks": ""
           }
          },
          "title": {
           "x": 0.05
          },
          "xaxis": {
           "automargin": true,
           "gridcolor": "white",
           "linecolor": "white",
           "ticks": "",
           "title": {
            "standoff": 15
           },
           "zerolinecolor": "white",
           "zerolinewidth": 2
          },
          "yaxis": {
           "automargin": true,
           "gridcolor": "white",
           "linecolor": "white",
           "ticks": "",
           "title": {
            "standoff": 15
           },
           "zerolinecolor": "white",
           "zerolinewidth": 2
          }
         }
        },
        "xaxis": {
         "anchor": "y",
         "domain": [
          0,
          1
         ],
         "title": {
          "text": "date"
         }
        },
        "yaxis": {
         "anchor": "x",
         "domain": [
          0,
          1
         ],
         "title": {
          "text": "mobility_rate"
         }
        }
       }
      }
     },
     "metadata": {},
     "output_type": "display_data"
    }
   ],
   "source": [
    "_df = df[df.survey_id.isin(SURVEY_IDS)]\n",
    "_df['is_mobility'] = _df.license.isin(MOBILITY_LICENSE)\n",
    "_df_agg = _df.groupby(['survey_id', 'city']).agg(\n",
    "    date=pd.NamedAgg('survey_date', 'max'),\n",
    "    nb_rooms=pd.NamedAgg('room_id', 'count'),\n",
    "    nb_mobility=pd.NamedAgg('is_mobility', 'sum')\n",
    "    ).reset_index()\n",
    "_df_agg['mobility_rate'] = 100 * _df_agg.nb_mobility / _df_agg.nb_rooms\n",
    "px.bar(_df_agg, x='date', y='mobility_rate', color='city', barmode='group', color_discrete_map=COLOR_MAP)\n"
   ]
  },
  {
   "cell_type": "markdown",
   "metadata": {},
   "source": [
    "# Logement hôtelier WIP"
   ]
  },
  {
   "cell_type": "code",
   "execution_count": 256,
   "metadata": {},
   "outputs": [
    {
     "data": {
      "text/html": [
       "<div>\n",
       "<style scoped>\n",
       "    .dataframe tbody tr th:only-of-type {\n",
       "        vertical-align: middle;\n",
       "    }\n",
       "\n",
       "    .dataframe tbody tr th {\n",
       "        vertical-align: top;\n",
       "    }\n",
       "\n",
       "    .dataframe thead th {\n",
       "        text-align: right;\n",
       "    }\n",
       "</style>\n",
       "<table border=\"1\" class=\"dataframe\">\n",
       "  <thead>\n",
       "    <tr style=\"text-align: right;\">\n",
       "      <th></th>\n",
       "      <th>survey_id</th>\n",
       "      <th>survey_date</th>\n",
       "      <th>room_id</th>\n",
       "      <th>host_id</th>\n",
       "      <th>city</th>\n",
       "      <th>room_type</th>\n",
       "      <th>license</th>\n",
       "      <th>reviews</th>\n",
       "      <th>has_license</th>\n",
       "      <th>is_mobility</th>\n",
       "    </tr>\n",
       "  </thead>\n",
       "  <tbody>\n",
       "    <tr>\n",
       "      <th>9856</th>\n",
       "      <td>8</td>\n",
       "      <td>2022-01-30 17:24:15.243725</td>\n",
       "      <td>15168562</td>\n",
       "      <td>51193763</td>\n",
       "      <td>Biarritz</td>\n",
       "      <td>Logement entier</td>\n",
       "      <td>Exempt - hotel-type listing</td>\n",
       "      <td>249.0</td>\n",
       "      <td>True</td>\n",
       "      <td>False</td>\n",
       "    </tr>\n",
       "    <tr>\n",
       "      <th>11627</th>\n",
       "      <td>8</td>\n",
       "      <td>2022-01-30 17:24:15.243725</td>\n",
       "      <td>11675434</td>\n",
       "      <td>62001431</td>\n",
       "      <td>Biarritz</td>\n",
       "      <td>Logement entier</td>\n",
       "      <td>Exempt - hotel-type listing</td>\n",
       "      <td>238.0</td>\n",
       "      <td>True</td>\n",
       "      <td>False</td>\n",
       "    </tr>\n",
       "    <tr>\n",
       "      <th>8717</th>\n",
       "      <td>8</td>\n",
       "      <td>2022-01-30 17:24:15.243725</td>\n",
       "      <td>27394738</td>\n",
       "      <td>206453170</td>\n",
       "      <td>Bayonne</td>\n",
       "      <td>Logement entier</td>\n",
       "      <td>Dispense : logement de type hôtelier</td>\n",
       "      <td>217.0</td>\n",
       "      <td>True</td>\n",
       "      <td>False</td>\n",
       "    </tr>\n",
       "    <tr>\n",
       "      <th>4406</th>\n",
       "      <td>6</td>\n",
       "      <td>2022-01-07 21:13:23.891570</td>\n",
       "      <td>27394738</td>\n",
       "      <td>206453170</td>\n",
       "      <td>Bayonne</td>\n",
       "      <td>Logement entier</td>\n",
       "      <td>Dispense : logement de type hôtelier</td>\n",
       "      <td>216.0</td>\n",
       "      <td>True</td>\n",
       "      <td>False</td>\n",
       "    </tr>\n",
       "    <tr>\n",
       "      <th>10490</th>\n",
       "      <td>8</td>\n",
       "      <td>2022-01-30 17:24:15.243725</td>\n",
       "      <td>19862073</td>\n",
       "      <td>19853769</td>\n",
       "      <td>Biarritz</td>\n",
       "      <td>Logement entier</td>\n",
       "      <td>Exempt - hotel-type listing</td>\n",
       "      <td>200.0</td>\n",
       "      <td>True</td>\n",
       "      <td>False</td>\n",
       "    </tr>\n",
       "  </tbody>\n",
       "</table>\n",
       "</div>"
      ],
      "text/plain": [
       "       survey_id                survey_date   room_id    host_id      city  \\\n",
       "9856           8 2022-01-30 17:24:15.243725  15168562   51193763  Biarritz   \n",
       "11627          8 2022-01-30 17:24:15.243725  11675434   62001431  Biarritz   \n",
       "8717           8 2022-01-30 17:24:15.243725  27394738  206453170   Bayonne   \n",
       "4406           6 2022-01-07 21:13:23.891570  27394738  206453170   Bayonne   \n",
       "10490          8 2022-01-30 17:24:15.243725  19862073   19853769  Biarritz   \n",
       "\n",
       "             room_type                               license  reviews  \\\n",
       "9856   Logement entier           Exempt - hotel-type listing    249.0   \n",
       "11627  Logement entier           Exempt - hotel-type listing    238.0   \n",
       "8717   Logement entier  Dispense : logement de type hôtelier    217.0   \n",
       "4406   Logement entier  Dispense : logement de type hôtelier    216.0   \n",
       "10490  Logement entier           Exempt - hotel-type listing    200.0   \n",
       "\n",
       "       has_license  is_mobility  \n",
       "9856          True        False  \n",
       "11627         True        False  \n",
       "8717          True        False  \n",
       "4406          True        False  \n",
       "10490         True        False  "
      ]
     },
     "execution_count": 256,
     "metadata": {},
     "output_type": "execute_result"
    }
   ],
   "source": [
    "_df[_df.license.isin(HOTEL_LICENSE)].sort_values('reviews', ascending=False).head(5)"
   ]
  },
  {
   "cell_type": "code",
   "execution_count": 257,
   "metadata": {},
   "outputs": [
    {
     "data": {
      "application/vnd.plotly.v1+json": {
       "config": {
        "plotlyServerURL": "https://plot.ly"
       },
       "data": [
        {
         "alignmentgroup": "True",
         "hovertemplate": "city=Anglet<br>date=%{x}<br>mobility_rate=%{y}<extra></extra>",
         "legendgroup": "Anglet",
         "marker": {
          "color": "#3d405b",
          "pattern": {
           "shape": ""
          }
         },
         "name": "Anglet",
         "offsetgroup": "Anglet",
         "orientation": "v",
         "showlegend": true,
         "textposition": "auto",
         "type": "bar",
         "x": [
          "2021-12-29T01:24:59.175851",
          "2022-01-07T21:13:23.891570",
          "2022-01-30T17:24:15.243725"
         ],
         "xaxis": "x",
         "y": [
          0.1841620626151013,
          0.18018018018018017,
          0.17406440382941687
         ],
         "yaxis": "y"
        },
        {
         "alignmentgroup": "True",
         "hovertemplate": "city=Bayonne<br>date=%{x}<br>mobility_rate=%{y}<extra></extra>",
         "legendgroup": "Bayonne",
         "marker": {
          "color": "#81b29a",
          "pattern": {
           "shape": ""
          }
         },
         "name": "Bayonne",
         "offsetgroup": "Bayonne",
         "orientation": "v",
         "showlegend": true,
         "textposition": "auto",
         "type": "bar",
         "x": [
          "2021-12-29T01:24:59.175851",
          "2022-01-07T21:13:23.891570",
          "2022-01-30T17:24:15.243725"
         ],
         "xaxis": "x",
         "y": [
          2.5073746312684366,
          2.0114942528735633,
          1.8030513176144245
         ],
         "yaxis": "y"
        },
        {
         "alignmentgroup": "True",
         "hovertemplate": "city=Biarritz<br>date=%{x}<br>mobility_rate=%{y}<extra></extra>",
         "legendgroup": "Biarritz",
         "marker": {
          "color": "#e07a5f",
          "pattern": {
           "shape": ""
          }
         },
         "name": "Biarritz",
         "offsetgroup": "Biarritz",
         "orientation": "v",
         "showlegend": true,
         "textposition": "auto",
         "type": "bar",
         "x": [
          "2021-12-29T01:24:59.175851",
          "2022-01-07T21:13:23.891570",
          "2022-01-30T17:24:15.243725"
         ],
         "xaxis": "x",
         "y": [
          0,
          0,
          2.2617901828681424
         ],
         "yaxis": "y"
        }
       ],
       "layout": {
        "barmode": "group",
        "legend": {
         "title": {
          "text": "city"
         },
         "tracegroupgap": 0
        },
        "margin": {
         "t": 60
        },
        "template": {
         "data": {
          "bar": [
           {
            "error_x": {
             "color": "#2a3f5f"
            },
            "error_y": {
             "color": "#2a3f5f"
            },
            "marker": {
             "line": {
              "color": "#E5ECF6",
              "width": 0.5
             },
             "pattern": {
              "fillmode": "overlay",
              "size": 10,
              "solidity": 0.2
             }
            },
            "type": "bar"
           }
          ],
          "barpolar": [
           {
            "marker": {
             "line": {
              "color": "#E5ECF6",
              "width": 0.5
             },
             "pattern": {
              "fillmode": "overlay",
              "size": 10,
              "solidity": 0.2
             }
            },
            "type": "barpolar"
           }
          ],
          "carpet": [
           {
            "aaxis": {
             "endlinecolor": "#2a3f5f",
             "gridcolor": "white",
             "linecolor": "white",
             "minorgridcolor": "white",
             "startlinecolor": "#2a3f5f"
            },
            "baxis": {
             "endlinecolor": "#2a3f5f",
             "gridcolor": "white",
             "linecolor": "white",
             "minorgridcolor": "white",
             "startlinecolor": "#2a3f5f"
            },
            "type": "carpet"
           }
          ],
          "choropleth": [
           {
            "colorbar": {
             "outlinewidth": 0,
             "ticks": ""
            },
            "type": "choropleth"
           }
          ],
          "contour": [
           {
            "colorbar": {
             "outlinewidth": 0,
             "ticks": ""
            },
            "colorscale": [
             [
              0,
              "#0d0887"
             ],
             [
              0.1111111111111111,
              "#46039f"
             ],
             [
              0.2222222222222222,
              "#7201a8"
             ],
             [
              0.3333333333333333,
              "#9c179e"
             ],
             [
              0.4444444444444444,
              "#bd3786"
             ],
             [
              0.5555555555555556,
              "#d8576b"
             ],
             [
              0.6666666666666666,
              "#ed7953"
             ],
             [
              0.7777777777777778,
              "#fb9f3a"
             ],
             [
              0.8888888888888888,
              "#fdca26"
             ],
             [
              1,
              "#f0f921"
             ]
            ],
            "type": "contour"
           }
          ],
          "contourcarpet": [
           {
            "colorbar": {
             "outlinewidth": 0,
             "ticks": ""
            },
            "type": "contourcarpet"
           }
          ],
          "heatmap": [
           {
            "colorbar": {
             "outlinewidth": 0,
             "ticks": ""
            },
            "colorscale": [
             [
              0,
              "#0d0887"
             ],
             [
              0.1111111111111111,
              "#46039f"
             ],
             [
              0.2222222222222222,
              "#7201a8"
             ],
             [
              0.3333333333333333,
              "#9c179e"
             ],
             [
              0.4444444444444444,
              "#bd3786"
             ],
             [
              0.5555555555555556,
              "#d8576b"
             ],
             [
              0.6666666666666666,
              "#ed7953"
             ],
             [
              0.7777777777777778,
              "#fb9f3a"
             ],
             [
              0.8888888888888888,
              "#fdca26"
             ],
             [
              1,
              "#f0f921"
             ]
            ],
            "type": "heatmap"
           }
          ],
          "heatmapgl": [
           {
            "colorbar": {
             "outlinewidth": 0,
             "ticks": ""
            },
            "colorscale": [
             [
              0,
              "#0d0887"
             ],
             [
              0.1111111111111111,
              "#46039f"
             ],
             [
              0.2222222222222222,
              "#7201a8"
             ],
             [
              0.3333333333333333,
              "#9c179e"
             ],
             [
              0.4444444444444444,
              "#bd3786"
             ],
             [
              0.5555555555555556,
              "#d8576b"
             ],
             [
              0.6666666666666666,
              "#ed7953"
             ],
             [
              0.7777777777777778,
              "#fb9f3a"
             ],
             [
              0.8888888888888888,
              "#fdca26"
             ],
             [
              1,
              "#f0f921"
             ]
            ],
            "type": "heatmapgl"
           }
          ],
          "histogram": [
           {
            "marker": {
             "pattern": {
              "fillmode": "overlay",
              "size": 10,
              "solidity": 0.2
             }
            },
            "type": "histogram"
           }
          ],
          "histogram2d": [
           {
            "colorbar": {
             "outlinewidth": 0,
             "ticks": ""
            },
            "colorscale": [
             [
              0,
              "#0d0887"
             ],
             [
              0.1111111111111111,
              "#46039f"
             ],
             [
              0.2222222222222222,
              "#7201a8"
             ],
             [
              0.3333333333333333,
              "#9c179e"
             ],
             [
              0.4444444444444444,
              "#bd3786"
             ],
             [
              0.5555555555555556,
              "#d8576b"
             ],
             [
              0.6666666666666666,
              "#ed7953"
             ],
             [
              0.7777777777777778,
              "#fb9f3a"
             ],
             [
              0.8888888888888888,
              "#fdca26"
             ],
             [
              1,
              "#f0f921"
             ]
            ],
            "type": "histogram2d"
           }
          ],
          "histogram2dcontour": [
           {
            "colorbar": {
             "outlinewidth": 0,
             "ticks": ""
            },
            "colorscale": [
             [
              0,
              "#0d0887"
             ],
             [
              0.1111111111111111,
              "#46039f"
             ],
             [
              0.2222222222222222,
              "#7201a8"
             ],
             [
              0.3333333333333333,
              "#9c179e"
             ],
             [
              0.4444444444444444,
              "#bd3786"
             ],
             [
              0.5555555555555556,
              "#d8576b"
             ],
             [
              0.6666666666666666,
              "#ed7953"
             ],
             [
              0.7777777777777778,
              "#fb9f3a"
             ],
             [
              0.8888888888888888,
              "#fdca26"
             ],
             [
              1,
              "#f0f921"
             ]
            ],
            "type": "histogram2dcontour"
           }
          ],
          "mesh3d": [
           {
            "colorbar": {
             "outlinewidth": 0,
             "ticks": ""
            },
            "type": "mesh3d"
           }
          ],
          "parcoords": [
           {
            "line": {
             "colorbar": {
              "outlinewidth": 0,
              "ticks": ""
             }
            },
            "type": "parcoords"
           }
          ],
          "pie": [
           {
            "automargin": true,
            "type": "pie"
           }
          ],
          "scatter": [
           {
            "marker": {
             "colorbar": {
              "outlinewidth": 0,
              "ticks": ""
             }
            },
            "type": "scatter"
           }
          ],
          "scatter3d": [
           {
            "line": {
             "colorbar": {
              "outlinewidth": 0,
              "ticks": ""
             }
            },
            "marker": {
             "colorbar": {
              "outlinewidth": 0,
              "ticks": ""
             }
            },
            "type": "scatter3d"
           }
          ],
          "scattercarpet": [
           {
            "marker": {
             "colorbar": {
              "outlinewidth": 0,
              "ticks": ""
             }
            },
            "type": "scattercarpet"
           }
          ],
          "scattergeo": [
           {
            "marker": {
             "colorbar": {
              "outlinewidth": 0,
              "ticks": ""
             }
            },
            "type": "scattergeo"
           }
          ],
          "scattergl": [
           {
            "marker": {
             "colorbar": {
              "outlinewidth": 0,
              "ticks": ""
             }
            },
            "type": "scattergl"
           }
          ],
          "scattermapbox": [
           {
            "marker": {
             "colorbar": {
              "outlinewidth": 0,
              "ticks": ""
             }
            },
            "type": "scattermapbox"
           }
          ],
          "scatterpolar": [
           {
            "marker": {
             "colorbar": {
              "outlinewidth": 0,
              "ticks": ""
             }
            },
            "type": "scatterpolar"
           }
          ],
          "scatterpolargl": [
           {
            "marker": {
             "colorbar": {
              "outlinewidth": 0,
              "ticks": ""
             }
            },
            "type": "scatterpolargl"
           }
          ],
          "scatterternary": [
           {
            "marker": {
             "colorbar": {
              "outlinewidth": 0,
              "ticks": ""
             }
            },
            "type": "scatterternary"
           }
          ],
          "surface": [
           {
            "colorbar": {
             "outlinewidth": 0,
             "ticks": ""
            },
            "colorscale": [
             [
              0,
              "#0d0887"
             ],
             [
              0.1111111111111111,
              "#46039f"
             ],
             [
              0.2222222222222222,
              "#7201a8"
             ],
             [
              0.3333333333333333,
              "#9c179e"
             ],
             [
              0.4444444444444444,
              "#bd3786"
             ],
             [
              0.5555555555555556,
              "#d8576b"
             ],
             [
              0.6666666666666666,
              "#ed7953"
             ],
             [
              0.7777777777777778,
              "#fb9f3a"
             ],
             [
              0.8888888888888888,
              "#fdca26"
             ],
             [
              1,
              "#f0f921"
             ]
            ],
            "type": "surface"
           }
          ],
          "table": [
           {
            "cells": {
             "fill": {
              "color": "#EBF0F8"
             },
             "line": {
              "color": "white"
             }
            },
            "header": {
             "fill": {
              "color": "#C8D4E3"
             },
             "line": {
              "color": "white"
             }
            },
            "type": "table"
           }
          ]
         },
         "layout": {
          "annotationdefaults": {
           "arrowcolor": "#2a3f5f",
           "arrowhead": 0,
           "arrowwidth": 1
          },
          "autotypenumbers": "strict",
          "coloraxis": {
           "colorbar": {
            "outlinewidth": 0,
            "ticks": ""
           }
          },
          "colorscale": {
           "diverging": [
            [
             0,
             "#8e0152"
            ],
            [
             0.1,
             "#c51b7d"
            ],
            [
             0.2,
             "#de77ae"
            ],
            [
             0.3,
             "#f1b6da"
            ],
            [
             0.4,
             "#fde0ef"
            ],
            [
             0.5,
             "#f7f7f7"
            ],
            [
             0.6,
             "#e6f5d0"
            ],
            [
             0.7,
             "#b8e186"
            ],
            [
             0.8,
             "#7fbc41"
            ],
            [
             0.9,
             "#4d9221"
            ],
            [
             1,
             "#276419"
            ]
           ],
           "sequential": [
            [
             0,
             "#0d0887"
            ],
            [
             0.1111111111111111,
             "#46039f"
            ],
            [
             0.2222222222222222,
             "#7201a8"
            ],
            [
             0.3333333333333333,
             "#9c179e"
            ],
            [
             0.4444444444444444,
             "#bd3786"
            ],
            [
             0.5555555555555556,
             "#d8576b"
            ],
            [
             0.6666666666666666,
             "#ed7953"
            ],
            [
             0.7777777777777778,
             "#fb9f3a"
            ],
            [
             0.8888888888888888,
             "#fdca26"
            ],
            [
             1,
             "#f0f921"
            ]
           ],
           "sequentialminus": [
            [
             0,
             "#0d0887"
            ],
            [
             0.1111111111111111,
             "#46039f"
            ],
            [
             0.2222222222222222,
             "#7201a8"
            ],
            [
             0.3333333333333333,
             "#9c179e"
            ],
            [
             0.4444444444444444,
             "#bd3786"
            ],
            [
             0.5555555555555556,
             "#d8576b"
            ],
            [
             0.6666666666666666,
             "#ed7953"
            ],
            [
             0.7777777777777778,
             "#fb9f3a"
            ],
            [
             0.8888888888888888,
             "#fdca26"
            ],
            [
             1,
             "#f0f921"
            ]
           ]
          },
          "colorway": [
           "#636efa",
           "#EF553B",
           "#00cc96",
           "#ab63fa",
           "#FFA15A",
           "#19d3f3",
           "#FF6692",
           "#B6E880",
           "#FF97FF",
           "#FECB52"
          ],
          "font": {
           "color": "#2a3f5f"
          },
          "geo": {
           "bgcolor": "white",
           "lakecolor": "white",
           "landcolor": "#E5ECF6",
           "showlakes": true,
           "showland": true,
           "subunitcolor": "white"
          },
          "hoverlabel": {
           "align": "left"
          },
          "hovermode": "closest",
          "mapbox": {
           "style": "light"
          },
          "paper_bgcolor": "white",
          "plot_bgcolor": "#E5ECF6",
          "polar": {
           "angularaxis": {
            "gridcolor": "white",
            "linecolor": "white",
            "ticks": ""
           },
           "bgcolor": "#E5ECF6",
           "radialaxis": {
            "gridcolor": "white",
            "linecolor": "white",
            "ticks": ""
           }
          },
          "scene": {
           "xaxis": {
            "backgroundcolor": "#E5ECF6",
            "gridcolor": "white",
            "gridwidth": 2,
            "linecolor": "white",
            "showbackground": true,
            "ticks": "",
            "zerolinecolor": "white"
           },
           "yaxis": {
            "backgroundcolor": "#E5ECF6",
            "gridcolor": "white",
            "gridwidth": 2,
            "linecolor": "white",
            "showbackground": true,
            "ticks": "",
            "zerolinecolor": "white"
           },
           "zaxis": {
            "backgroundcolor": "#E5ECF6",
            "gridcolor": "white",
            "gridwidth": 2,
            "linecolor": "white",
            "showbackground": true,
            "ticks": "",
            "zerolinecolor": "white"
           }
          },
          "shapedefaults": {
           "line": {
            "color": "#2a3f5f"
           }
          },
          "ternary": {
           "aaxis": {
            "gridcolor": "white",
            "linecolor": "white",
            "ticks": ""
           },
           "baxis": {
            "gridcolor": "white",
            "linecolor": "white",
            "ticks": ""
           },
           "bgcolor": "#E5ECF6",
           "caxis": {
            "gridcolor": "white",
            "linecolor": "white",
            "ticks": ""
           }
          },
          "title": {
           "x": 0.05
          },
          "xaxis": {
           "automargin": true,
           "gridcolor": "white",
           "linecolor": "white",
           "ticks": "",
           "title": {
            "standoff": 15
           },
           "zerolinecolor": "white",
           "zerolinewidth": 2
          },
          "yaxis": {
           "automargin": true,
           "gridcolor": "white",
           "linecolor": "white",
           "ticks": "",
           "title": {
            "standoff": 15
           },
           "zerolinecolor": "white",
           "zerolinewidth": 2
          }
         }
        },
        "xaxis": {
         "anchor": "y",
         "domain": [
          0,
          1
         ],
         "title": {
          "text": "date"
         }
        },
        "yaxis": {
         "anchor": "x",
         "domain": [
          0,
          1
         ],
         "title": {
          "text": "mobility_rate"
         }
        }
       }
      }
     },
     "metadata": {},
     "output_type": "display_data"
    }
   ],
   "source": [
    "_df = df.copy()\n",
    "_df['is_mobility'] = _df.license.isin(HOTEL_LICENSE)\n",
    "_df_agg = _df.groupby(['survey_id', 'city']).agg(\n",
    "    date=pd.NamedAgg('survey_date', 'max'),\n",
    "    nb_rooms=pd.NamedAgg('room_id', 'count'),\n",
    "    nb_mobility=pd.NamedAgg('is_mobility', 'sum')\n",
    "    ).reset_index()\n",
    "_df_agg['mobility_rate'] = 100 * _df_agg.nb_mobility / _df_agg.nb_rooms\n",
    "px.bar(_df_agg, x='date', y='mobility_rate', color='city', barmode='group', color_discrete_map=COLOR_MAP)\n"
   ]
  },
  {
   "cell_type": "markdown",
   "metadata": {},
   "source": [
    "# Evolution du nombre de logements (tout type)"
   ]
  },
  {
   "cell_type": "code",
   "execution_count": 258,
   "metadata": {},
   "outputs": [
    {
     "data": {
      "application/vnd.plotly.v1+json": {
       "config": {
        "plotlyServerURL": "https://plot.ly"
       },
       "data": [
        {
         "alignmentgroup": "True",
         "hovertemplate": "city=Anglet<br>date=%{x}<br>nb_rooms=%{y}<extra></extra>",
         "legendgroup": "Anglet",
         "marker": {
          "color": "#3d405b",
          "pattern": {
           "shape": ""
          }
         },
         "name": "Anglet",
         "offsetgroup": "Anglet",
         "orientation": "v",
         "showlegend": true,
         "textposition": "auto",
         "texttemplate": "%{y}",
         "type": "bar",
         "x": [
          "2022-01-07T21:13:23.891570",
          "2022-01-30T17:24:15.243725"
         ],
         "xaxis": "x",
         "y": [
          1110,
          1149
         ],
         "yaxis": "y"
        },
        {
         "alignmentgroup": "True",
         "hovertemplate": "city=Bayonne<br>date=%{x}<br>nb_rooms=%{y}<extra></extra>",
         "legendgroup": "Bayonne",
         "marker": {
          "color": "#81b29a",
          "pattern": {
           "shape": ""
          }
         },
         "name": "Bayonne",
         "offsetgroup": "Bayonne",
         "orientation": "v",
         "showlegend": true,
         "textposition": "auto",
         "texttemplate": "%{y}",
         "type": "bar",
         "x": [
          "2022-01-07T21:13:23.891570",
          "2022-01-30T17:24:15.243725"
         ],
         "xaxis": "x",
         "y": [
          696,
          721
         ],
         "yaxis": "y"
        },
        {
         "alignmentgroup": "True",
         "hovertemplate": "city=Biarritz<br>date=%{x}<br>nb_rooms=%{y}<extra></extra>",
         "legendgroup": "Biarritz",
         "marker": {
          "color": "#e07a5f",
          "pattern": {
           "shape": ""
          }
         },
         "name": "Biarritz",
         "offsetgroup": "Biarritz",
         "orientation": "v",
         "showlegend": true,
         "textposition": "auto",
         "texttemplate": "%{y}",
         "type": "bar",
         "x": [
          "2022-01-07T21:13:23.891570",
          "2022-01-30T17:24:15.243725"
         ],
         "xaxis": "x",
         "y": [
          2571,
          2078
         ],
         "yaxis": "y"
        }
       ],
       "layout": {
        "barmode": "group",
        "legend": {
         "title": {
          "text": "city"
         },
         "tracegroupgap": 0
        },
        "margin": {
         "t": 60
        },
        "template": {
         "data": {
          "bar": [
           {
            "error_x": {
             "color": "#2a3f5f"
            },
            "error_y": {
             "color": "#2a3f5f"
            },
            "marker": {
             "line": {
              "color": "#E5ECF6",
              "width": 0.5
             },
             "pattern": {
              "fillmode": "overlay",
              "size": 10,
              "solidity": 0.2
             }
            },
            "type": "bar"
           }
          ],
          "barpolar": [
           {
            "marker": {
             "line": {
              "color": "#E5ECF6",
              "width": 0.5
             },
             "pattern": {
              "fillmode": "overlay",
              "size": 10,
              "solidity": 0.2
             }
            },
            "type": "barpolar"
           }
          ],
          "carpet": [
           {
            "aaxis": {
             "endlinecolor": "#2a3f5f",
             "gridcolor": "white",
             "linecolor": "white",
             "minorgridcolor": "white",
             "startlinecolor": "#2a3f5f"
            },
            "baxis": {
             "endlinecolor": "#2a3f5f",
             "gridcolor": "white",
             "linecolor": "white",
             "minorgridcolor": "white",
             "startlinecolor": "#2a3f5f"
            },
            "type": "carpet"
           }
          ],
          "choropleth": [
           {
            "colorbar": {
             "outlinewidth": 0,
             "ticks": ""
            },
            "type": "choropleth"
           }
          ],
          "contour": [
           {
            "colorbar": {
             "outlinewidth": 0,
             "ticks": ""
            },
            "colorscale": [
             [
              0,
              "#0d0887"
             ],
             [
              0.1111111111111111,
              "#46039f"
             ],
             [
              0.2222222222222222,
              "#7201a8"
             ],
             [
              0.3333333333333333,
              "#9c179e"
             ],
             [
              0.4444444444444444,
              "#bd3786"
             ],
             [
              0.5555555555555556,
              "#d8576b"
             ],
             [
              0.6666666666666666,
              "#ed7953"
             ],
             [
              0.7777777777777778,
              "#fb9f3a"
             ],
             [
              0.8888888888888888,
              "#fdca26"
             ],
             [
              1,
              "#f0f921"
             ]
            ],
            "type": "contour"
           }
          ],
          "contourcarpet": [
           {
            "colorbar": {
             "outlinewidth": 0,
             "ticks": ""
            },
            "type": "contourcarpet"
           }
          ],
          "heatmap": [
           {
            "colorbar": {
             "outlinewidth": 0,
             "ticks": ""
            },
            "colorscale": [
             [
              0,
              "#0d0887"
             ],
             [
              0.1111111111111111,
              "#46039f"
             ],
             [
              0.2222222222222222,
              "#7201a8"
             ],
             [
              0.3333333333333333,
              "#9c179e"
             ],
             [
              0.4444444444444444,
              "#bd3786"
             ],
             [
              0.5555555555555556,
              "#d8576b"
             ],
             [
              0.6666666666666666,
              "#ed7953"
             ],
             [
              0.7777777777777778,
              "#fb9f3a"
             ],
             [
              0.8888888888888888,
              "#fdca26"
             ],
             [
              1,
              "#f0f921"
             ]
            ],
            "type": "heatmap"
           }
          ],
          "heatmapgl": [
           {
            "colorbar": {
             "outlinewidth": 0,
             "ticks": ""
            },
            "colorscale": [
             [
              0,
              "#0d0887"
             ],
             [
              0.1111111111111111,
              "#46039f"
             ],
             [
              0.2222222222222222,
              "#7201a8"
             ],
             [
              0.3333333333333333,
              "#9c179e"
             ],
             [
              0.4444444444444444,
              "#bd3786"
             ],
             [
              0.5555555555555556,
              "#d8576b"
             ],
             [
              0.6666666666666666,
              "#ed7953"
             ],
             [
              0.7777777777777778,
              "#fb9f3a"
             ],
             [
              0.8888888888888888,
              "#fdca26"
             ],
             [
              1,
              "#f0f921"
             ]
            ],
            "type": "heatmapgl"
           }
          ],
          "histogram": [
           {
            "marker": {
             "pattern": {
              "fillmode": "overlay",
              "size": 10,
              "solidity": 0.2
             }
            },
            "type": "histogram"
           }
          ],
          "histogram2d": [
           {
            "colorbar": {
             "outlinewidth": 0,
             "ticks": ""
            },
            "colorscale": [
             [
              0,
              "#0d0887"
             ],
             [
              0.1111111111111111,
              "#46039f"
             ],
             [
              0.2222222222222222,
              "#7201a8"
             ],
             [
              0.3333333333333333,
              "#9c179e"
             ],
             [
              0.4444444444444444,
              "#bd3786"
             ],
             [
              0.5555555555555556,
              "#d8576b"
             ],
             [
              0.6666666666666666,
              "#ed7953"
             ],
             [
              0.7777777777777778,
              "#fb9f3a"
             ],
             [
              0.8888888888888888,
              "#fdca26"
             ],
             [
              1,
              "#f0f921"
             ]
            ],
            "type": "histogram2d"
           }
          ],
          "histogram2dcontour": [
           {
            "colorbar": {
             "outlinewidth": 0,
             "ticks": ""
            },
            "colorscale": [
             [
              0,
              "#0d0887"
             ],
             [
              0.1111111111111111,
              "#46039f"
             ],
             [
              0.2222222222222222,
              "#7201a8"
             ],
             [
              0.3333333333333333,
              "#9c179e"
             ],
             [
              0.4444444444444444,
              "#bd3786"
             ],
             [
              0.5555555555555556,
              "#d8576b"
             ],
             [
              0.6666666666666666,
              "#ed7953"
             ],
             [
              0.7777777777777778,
              "#fb9f3a"
             ],
             [
              0.8888888888888888,
              "#fdca26"
             ],
             [
              1,
              "#f0f921"
             ]
            ],
            "type": "histogram2dcontour"
           }
          ],
          "mesh3d": [
           {
            "colorbar": {
             "outlinewidth": 0,
             "ticks": ""
            },
            "type": "mesh3d"
           }
          ],
          "parcoords": [
           {
            "line": {
             "colorbar": {
              "outlinewidth": 0,
              "ticks": ""
             }
            },
            "type": "parcoords"
           }
          ],
          "pie": [
           {
            "automargin": true,
            "type": "pie"
           }
          ],
          "scatter": [
           {
            "marker": {
             "colorbar": {
              "outlinewidth": 0,
              "ticks": ""
             }
            },
            "type": "scatter"
           }
          ],
          "scatter3d": [
           {
            "line": {
             "colorbar": {
              "outlinewidth": 0,
              "ticks": ""
             }
            },
            "marker": {
             "colorbar": {
              "outlinewidth": 0,
              "ticks": ""
             }
            },
            "type": "scatter3d"
           }
          ],
          "scattercarpet": [
           {
            "marker": {
             "colorbar": {
              "outlinewidth": 0,
              "ticks": ""
             }
            },
            "type": "scattercarpet"
           }
          ],
          "scattergeo": [
           {
            "marker": {
             "colorbar": {
              "outlinewidth": 0,
              "ticks": ""
             }
            },
            "type": "scattergeo"
           }
          ],
          "scattergl": [
           {
            "marker": {
             "colorbar": {
              "outlinewidth": 0,
              "ticks": ""
             }
            },
            "type": "scattergl"
           }
          ],
          "scattermapbox": [
           {
            "marker": {
             "colorbar": {
              "outlinewidth": 0,
              "ticks": ""
             }
            },
            "type": "scattermapbox"
           }
          ],
          "scatterpolar": [
           {
            "marker": {
             "colorbar": {
              "outlinewidth": 0,
              "ticks": ""
             }
            },
            "type": "scatterpolar"
           }
          ],
          "scatterpolargl": [
           {
            "marker": {
             "colorbar": {
              "outlinewidth": 0,
              "ticks": ""
             }
            },
            "type": "scatterpolargl"
           }
          ],
          "scatterternary": [
           {
            "marker": {
             "colorbar": {
              "outlinewidth": 0,
              "ticks": ""
             }
            },
            "type": "scatterternary"
           }
          ],
          "surface": [
           {
            "colorbar": {
             "outlinewidth": 0,
             "ticks": ""
            },
            "colorscale": [
             [
              0,
              "#0d0887"
             ],
             [
              0.1111111111111111,
              "#46039f"
             ],
             [
              0.2222222222222222,
              "#7201a8"
             ],
             [
              0.3333333333333333,
              "#9c179e"
             ],
             [
              0.4444444444444444,
              "#bd3786"
             ],
             [
              0.5555555555555556,
              "#d8576b"
             ],
             [
              0.6666666666666666,
              "#ed7953"
             ],
             [
              0.7777777777777778,
              "#fb9f3a"
             ],
             [
              0.8888888888888888,
              "#fdca26"
             ],
             [
              1,
              "#f0f921"
             ]
            ],
            "type": "surface"
           }
          ],
          "table": [
           {
            "cells": {
             "fill": {
              "color": "#EBF0F8"
             },
             "line": {
              "color": "white"
             }
            },
            "header": {
             "fill": {
              "color": "#C8D4E3"
             },
             "line": {
              "color": "white"
             }
            },
            "type": "table"
           }
          ]
         },
         "layout": {
          "annotationdefaults": {
           "arrowcolor": "#2a3f5f",
           "arrowhead": 0,
           "arrowwidth": 1
          },
          "autotypenumbers": "strict",
          "coloraxis": {
           "colorbar": {
            "outlinewidth": 0,
            "ticks": ""
           }
          },
          "colorscale": {
           "diverging": [
            [
             0,
             "#8e0152"
            ],
            [
             0.1,
             "#c51b7d"
            ],
            [
             0.2,
             "#de77ae"
            ],
            [
             0.3,
             "#f1b6da"
            ],
            [
             0.4,
             "#fde0ef"
            ],
            [
             0.5,
             "#f7f7f7"
            ],
            [
             0.6,
             "#e6f5d0"
            ],
            [
             0.7,
             "#b8e186"
            ],
            [
             0.8,
             "#7fbc41"
            ],
            [
             0.9,
             "#4d9221"
            ],
            [
             1,
             "#276419"
            ]
           ],
           "sequential": [
            [
             0,
             "#0d0887"
            ],
            [
             0.1111111111111111,
             "#46039f"
            ],
            [
             0.2222222222222222,
             "#7201a8"
            ],
            [
             0.3333333333333333,
             "#9c179e"
            ],
            [
             0.4444444444444444,
             "#bd3786"
            ],
            [
             0.5555555555555556,
             "#d8576b"
            ],
            [
             0.6666666666666666,
             "#ed7953"
            ],
            [
             0.7777777777777778,
             "#fb9f3a"
            ],
            [
             0.8888888888888888,
             "#fdca26"
            ],
            [
             1,
             "#f0f921"
            ]
           ],
           "sequentialminus": [
            [
             0,
             "#0d0887"
            ],
            [
             0.1111111111111111,
             "#46039f"
            ],
            [
             0.2222222222222222,
             "#7201a8"
            ],
            [
             0.3333333333333333,
             "#9c179e"
            ],
            [
             0.4444444444444444,
             "#bd3786"
            ],
            [
             0.5555555555555556,
             "#d8576b"
            ],
            [
             0.6666666666666666,
             "#ed7953"
            ],
            [
             0.7777777777777778,
             "#fb9f3a"
            ],
            [
             0.8888888888888888,
             "#fdca26"
            ],
            [
             1,
             "#f0f921"
            ]
           ]
          },
          "colorway": [
           "#636efa",
           "#EF553B",
           "#00cc96",
           "#ab63fa",
           "#FFA15A",
           "#19d3f3",
           "#FF6692",
           "#B6E880",
           "#FF97FF",
           "#FECB52"
          ],
          "font": {
           "color": "#2a3f5f"
          },
          "geo": {
           "bgcolor": "white",
           "lakecolor": "white",
           "landcolor": "#E5ECF6",
           "showlakes": true,
           "showland": true,
           "subunitcolor": "white"
          },
          "hoverlabel": {
           "align": "left"
          },
          "hovermode": "closest",
          "mapbox": {
           "style": "light"
          },
          "paper_bgcolor": "white",
          "plot_bgcolor": "#E5ECF6",
          "polar": {
           "angularaxis": {
            "gridcolor": "white",
            "linecolor": "white",
            "ticks": ""
           },
           "bgcolor": "#E5ECF6",
           "radialaxis": {
            "gridcolor": "white",
            "linecolor": "white",
            "ticks": ""
           }
          },
          "scene": {
           "xaxis": {
            "backgroundcolor": "#E5ECF6",
            "gridcolor": "white",
            "gridwidth": 2,
            "linecolor": "white",
            "showbackground": true,
            "ticks": "",
            "zerolinecolor": "white"
           },
           "yaxis": {
            "backgroundcolor": "#E5ECF6",
            "gridcolor": "white",
            "gridwidth": 2,
            "linecolor": "white",
            "showbackground": true,
            "ticks": "",
            "zerolinecolor": "white"
           },
           "zaxis": {
            "backgroundcolor": "#E5ECF6",
            "gridcolor": "white",
            "gridwidth": 2,
            "linecolor": "white",
            "showbackground": true,
            "ticks": "",
            "zerolinecolor": "white"
           }
          },
          "shapedefaults": {
           "line": {
            "color": "#2a3f5f"
           }
          },
          "ternary": {
           "aaxis": {
            "gridcolor": "white",
            "linecolor": "white",
            "ticks": ""
           },
           "baxis": {
            "gridcolor": "white",
            "linecolor": "white",
            "ticks": ""
           },
           "bgcolor": "#E5ECF6",
           "caxis": {
            "gridcolor": "white",
            "linecolor": "white",
            "ticks": ""
           }
          },
          "title": {
           "x": 0.05
          },
          "xaxis": {
           "automargin": true,
           "gridcolor": "white",
           "linecolor": "white",
           "ticks": "",
           "title": {
            "standoff": 15
           },
           "zerolinecolor": "white",
           "zerolinewidth": 2
          },
          "yaxis": {
           "automargin": true,
           "gridcolor": "white",
           "linecolor": "white",
           "ticks": "",
           "title": {
            "standoff": 15
           },
           "zerolinecolor": "white",
           "zerolinewidth": 2
          }
         }
        },
        "xaxis": {
         "anchor": "y",
         "domain": [
          0,
          1
         ],
         "title": {
          "text": "date"
         }
        },
        "yaxis": {
         "anchor": "x",
         "domain": [
          0,
          1
         ],
         "title": {
          "text": "nb_rooms"
         }
        }
       }
      }
     },
     "metadata": {},
     "output_type": "display_data"
    }
   ],
   "source": [
    "_df = df.groupby(['survey_id', 'city']).aggregate(\n",
    "    date=pd.NamedAgg('survey_date', 'max'),\n",
    "    nb_rooms=pd.NamedAgg('room_id', 'count'),\n",
    "    nb_licensed=pd.NamedAgg('has_license', 'sum'),\n",
    "    ).reset_index()\n",
    "_df = _df[_df.survey_id.isin(SURVEY_IDS)]\n",
    "\n",
    "px.bar(_df, \n",
    "        x='date', \n",
    "        y='nb_rooms', \n",
    "        color='city', \n",
    "        barmode='group', \n",
    "        text_auto=True,\n",
    "        color_discrete_map=COLOR_MAP)"
   ]
  },
  {
   "cell_type": "markdown",
   "metadata": {},
   "source": [
    "# Evolution du nombre de logements entiers"
   ]
  },
  {
   "cell_type": "code",
   "execution_count": 259,
   "metadata": {},
   "outputs": [
    {
     "data": {
      "application/vnd.plotly.v1+json": {
       "config": {
        "plotlyServerURL": "https://plot.ly"
       },
       "data": [
        {
         "alignmentgroup": "True",
         "hovertemplate": "city=Anglet<br>date=%{x}<br>value=%{y}<extra></extra>",
         "legendgroup": "Anglet",
         "marker": {
          "color": "#3d405b",
          "pattern": {
           "shape": ""
          }
         },
         "name": "Anglet",
         "offsetgroup": "Anglet",
         "orientation": "v",
         "showlegend": true,
         "textposition": "auto",
         "texttemplate": "%{y}",
         "type": "bar",
         "x": [
          "2022-01-07T21:13:23.891570",
          "2022-01-30T17:24:15.243725"
         ],
         "xaxis": "x",
         "y": [
          1008,
          1044
         ],
         "yaxis": "y"
        },
        {
         "alignmentgroup": "True",
         "hovertemplate": "city=Bayonne<br>date=%{x}<br>value=%{y}<extra></extra>",
         "legendgroup": "Bayonne",
         "marker": {
          "color": "#81b29a",
          "pattern": {
           "shape": ""
          }
         },
         "name": "Bayonne",
         "offsetgroup": "Bayonne",
         "orientation": "v",
         "showlegend": true,
         "textposition": "auto",
         "texttemplate": "%{y}",
         "type": "bar",
         "x": [
          "2022-01-07T21:13:23.891570",
          "2022-01-30T17:24:15.243725"
         ],
         "xaxis": "x",
         "y": [
          601,
          626
         ],
         "yaxis": "y"
        },
        {
         "alignmentgroup": "True",
         "hovertemplate": "city=Biarritz<br>date=%{x}<br>value=%{y}<extra></extra>",
         "legendgroup": "Biarritz",
         "marker": {
          "color": "#e07a5f",
          "pattern": {
           "shape": ""
          }
         },
         "name": "Biarritz",
         "offsetgroup": "Biarritz",
         "orientation": "v",
         "showlegend": true,
         "textposition": "auto",
         "texttemplate": "%{y}",
         "type": "bar",
         "x": [
          "2022-01-07T21:13:23.891570",
          "2022-01-30T17:24:15.243725"
         ],
         "xaxis": "x",
         "y": [
          2475,
          1985
         ],
         "yaxis": "y"
        }
       ],
       "layout": {
        "barmode": "group",
        "legend": {
         "title": {
          "text": "city"
         },
         "tracegroupgap": 0
        },
        "margin": {
         "t": 60
        },
        "template": {
         "data": {
          "bar": [
           {
            "error_x": {
             "color": "#2a3f5f"
            },
            "error_y": {
             "color": "#2a3f5f"
            },
            "marker": {
             "line": {
              "color": "#E5ECF6",
              "width": 0.5
             },
             "pattern": {
              "fillmode": "overlay",
              "size": 10,
              "solidity": 0.2
             }
            },
            "type": "bar"
           }
          ],
          "barpolar": [
           {
            "marker": {
             "line": {
              "color": "#E5ECF6",
              "width": 0.5
             },
             "pattern": {
              "fillmode": "overlay",
              "size": 10,
              "solidity": 0.2
             }
            },
            "type": "barpolar"
           }
          ],
          "carpet": [
           {
            "aaxis": {
             "endlinecolor": "#2a3f5f",
             "gridcolor": "white",
             "linecolor": "white",
             "minorgridcolor": "white",
             "startlinecolor": "#2a3f5f"
            },
            "baxis": {
             "endlinecolor": "#2a3f5f",
             "gridcolor": "white",
             "linecolor": "white",
             "minorgridcolor": "white",
             "startlinecolor": "#2a3f5f"
            },
            "type": "carpet"
           }
          ],
          "choropleth": [
           {
            "colorbar": {
             "outlinewidth": 0,
             "ticks": ""
            },
            "type": "choropleth"
           }
          ],
          "contour": [
           {
            "colorbar": {
             "outlinewidth": 0,
             "ticks": ""
            },
            "colorscale": [
             [
              0,
              "#0d0887"
             ],
             [
              0.1111111111111111,
              "#46039f"
             ],
             [
              0.2222222222222222,
              "#7201a8"
             ],
             [
              0.3333333333333333,
              "#9c179e"
             ],
             [
              0.4444444444444444,
              "#bd3786"
             ],
             [
              0.5555555555555556,
              "#d8576b"
             ],
             [
              0.6666666666666666,
              "#ed7953"
             ],
             [
              0.7777777777777778,
              "#fb9f3a"
             ],
             [
              0.8888888888888888,
              "#fdca26"
             ],
             [
              1,
              "#f0f921"
             ]
            ],
            "type": "contour"
           }
          ],
          "contourcarpet": [
           {
            "colorbar": {
             "outlinewidth": 0,
             "ticks": ""
            },
            "type": "contourcarpet"
           }
          ],
          "heatmap": [
           {
            "colorbar": {
             "outlinewidth": 0,
             "ticks": ""
            },
            "colorscale": [
             [
              0,
              "#0d0887"
             ],
             [
              0.1111111111111111,
              "#46039f"
             ],
             [
              0.2222222222222222,
              "#7201a8"
             ],
             [
              0.3333333333333333,
              "#9c179e"
             ],
             [
              0.4444444444444444,
              "#bd3786"
             ],
             [
              0.5555555555555556,
              "#d8576b"
             ],
             [
              0.6666666666666666,
              "#ed7953"
             ],
             [
              0.7777777777777778,
              "#fb9f3a"
             ],
             [
              0.8888888888888888,
              "#fdca26"
             ],
             [
              1,
              "#f0f921"
             ]
            ],
            "type": "heatmap"
           }
          ],
          "heatmapgl": [
           {
            "colorbar": {
             "outlinewidth": 0,
             "ticks": ""
            },
            "colorscale": [
             [
              0,
              "#0d0887"
             ],
             [
              0.1111111111111111,
              "#46039f"
             ],
             [
              0.2222222222222222,
              "#7201a8"
             ],
             [
              0.3333333333333333,
              "#9c179e"
             ],
             [
              0.4444444444444444,
              "#bd3786"
             ],
             [
              0.5555555555555556,
              "#d8576b"
             ],
             [
              0.6666666666666666,
              "#ed7953"
             ],
             [
              0.7777777777777778,
              "#fb9f3a"
             ],
             [
              0.8888888888888888,
              "#fdca26"
             ],
             [
              1,
              "#f0f921"
             ]
            ],
            "type": "heatmapgl"
           }
          ],
          "histogram": [
           {
            "marker": {
             "pattern": {
              "fillmode": "overlay",
              "size": 10,
              "solidity": 0.2
             }
            },
            "type": "histogram"
           }
          ],
          "histogram2d": [
           {
            "colorbar": {
             "outlinewidth": 0,
             "ticks": ""
            },
            "colorscale": [
             [
              0,
              "#0d0887"
             ],
             [
              0.1111111111111111,
              "#46039f"
             ],
             [
              0.2222222222222222,
              "#7201a8"
             ],
             [
              0.3333333333333333,
              "#9c179e"
             ],
             [
              0.4444444444444444,
              "#bd3786"
             ],
             [
              0.5555555555555556,
              "#d8576b"
             ],
             [
              0.6666666666666666,
              "#ed7953"
             ],
             [
              0.7777777777777778,
              "#fb9f3a"
             ],
             [
              0.8888888888888888,
              "#fdca26"
             ],
             [
              1,
              "#f0f921"
             ]
            ],
            "type": "histogram2d"
           }
          ],
          "histogram2dcontour": [
           {
            "colorbar": {
             "outlinewidth": 0,
             "ticks": ""
            },
            "colorscale": [
             [
              0,
              "#0d0887"
             ],
             [
              0.1111111111111111,
              "#46039f"
             ],
             [
              0.2222222222222222,
              "#7201a8"
             ],
             [
              0.3333333333333333,
              "#9c179e"
             ],
             [
              0.4444444444444444,
              "#bd3786"
             ],
             [
              0.5555555555555556,
              "#d8576b"
             ],
             [
              0.6666666666666666,
              "#ed7953"
             ],
             [
              0.7777777777777778,
              "#fb9f3a"
             ],
             [
              0.8888888888888888,
              "#fdca26"
             ],
             [
              1,
              "#f0f921"
             ]
            ],
            "type": "histogram2dcontour"
           }
          ],
          "mesh3d": [
           {
            "colorbar": {
             "outlinewidth": 0,
             "ticks": ""
            },
            "type": "mesh3d"
           }
          ],
          "parcoords": [
           {
            "line": {
             "colorbar": {
              "outlinewidth": 0,
              "ticks": ""
             }
            },
            "type": "parcoords"
           }
          ],
          "pie": [
           {
            "automargin": true,
            "type": "pie"
           }
          ],
          "scatter": [
           {
            "marker": {
             "colorbar": {
              "outlinewidth": 0,
              "ticks": ""
             }
            },
            "type": "scatter"
           }
          ],
          "scatter3d": [
           {
            "line": {
             "colorbar": {
              "outlinewidth": 0,
              "ticks": ""
             }
            },
            "marker": {
             "colorbar": {
              "outlinewidth": 0,
              "ticks": ""
             }
            },
            "type": "scatter3d"
           }
          ],
          "scattercarpet": [
           {
            "marker": {
             "colorbar": {
              "outlinewidth": 0,
              "ticks": ""
             }
            },
            "type": "scattercarpet"
           }
          ],
          "scattergeo": [
           {
            "marker": {
             "colorbar": {
              "outlinewidth": 0,
              "ticks": ""
             }
            },
            "type": "scattergeo"
           }
          ],
          "scattergl": [
           {
            "marker": {
             "colorbar": {
              "outlinewidth": 0,
              "ticks": ""
             }
            },
            "type": "scattergl"
           }
          ],
          "scattermapbox": [
           {
            "marker": {
             "colorbar": {
              "outlinewidth": 0,
              "ticks": ""
             }
            },
            "type": "scattermapbox"
           }
          ],
          "scatterpolar": [
           {
            "marker": {
             "colorbar": {
              "outlinewidth": 0,
              "ticks": ""
             }
            },
            "type": "scatterpolar"
           }
          ],
          "scatterpolargl": [
           {
            "marker": {
             "colorbar": {
              "outlinewidth": 0,
              "ticks": ""
             }
            },
            "type": "scatterpolargl"
           }
          ],
          "scatterternary": [
           {
            "marker": {
             "colorbar": {
              "outlinewidth": 0,
              "ticks": ""
             }
            },
            "type": "scatterternary"
           }
          ],
          "surface": [
           {
            "colorbar": {
             "outlinewidth": 0,
             "ticks": ""
            },
            "colorscale": [
             [
              0,
              "#0d0887"
             ],
             [
              0.1111111111111111,
              "#46039f"
             ],
             [
              0.2222222222222222,
              "#7201a8"
             ],
             [
              0.3333333333333333,
              "#9c179e"
             ],
             [
              0.4444444444444444,
              "#bd3786"
             ],
             [
              0.5555555555555556,
              "#d8576b"
             ],
             [
              0.6666666666666666,
              "#ed7953"
             ],
             [
              0.7777777777777778,
              "#fb9f3a"
             ],
             [
              0.8888888888888888,
              "#fdca26"
             ],
             [
              1,
              "#f0f921"
             ]
            ],
            "type": "surface"
           }
          ],
          "table": [
           {
            "cells": {
             "fill": {
              "color": "#EBF0F8"
             },
             "line": {
              "color": "white"
             }
            },
            "header": {
             "fill": {
              "color": "#C8D4E3"
             },
             "line": {
              "color": "white"
             }
            },
            "type": "table"
           }
          ]
         },
         "layout": {
          "annotationdefaults": {
           "arrowcolor": "#2a3f5f",
           "arrowhead": 0,
           "arrowwidth": 1
          },
          "autotypenumbers": "strict",
          "coloraxis": {
           "colorbar": {
            "outlinewidth": 0,
            "ticks": ""
           }
          },
          "colorscale": {
           "diverging": [
            [
             0,
             "#8e0152"
            ],
            [
             0.1,
             "#c51b7d"
            ],
            [
             0.2,
             "#de77ae"
            ],
            [
             0.3,
             "#f1b6da"
            ],
            [
             0.4,
             "#fde0ef"
            ],
            [
             0.5,
             "#f7f7f7"
            ],
            [
             0.6,
             "#e6f5d0"
            ],
            [
             0.7,
             "#b8e186"
            ],
            [
             0.8,
             "#7fbc41"
            ],
            [
             0.9,
             "#4d9221"
            ],
            [
             1,
             "#276419"
            ]
           ],
           "sequential": [
            [
             0,
             "#0d0887"
            ],
            [
             0.1111111111111111,
             "#46039f"
            ],
            [
             0.2222222222222222,
             "#7201a8"
            ],
            [
             0.3333333333333333,
             "#9c179e"
            ],
            [
             0.4444444444444444,
             "#bd3786"
            ],
            [
             0.5555555555555556,
             "#d8576b"
            ],
            [
             0.6666666666666666,
             "#ed7953"
            ],
            [
             0.7777777777777778,
             "#fb9f3a"
            ],
            [
             0.8888888888888888,
             "#fdca26"
            ],
            [
             1,
             "#f0f921"
            ]
           ],
           "sequentialminus": [
            [
             0,
             "#0d0887"
            ],
            [
             0.1111111111111111,
             "#46039f"
            ],
            [
             0.2222222222222222,
             "#7201a8"
            ],
            [
             0.3333333333333333,
             "#9c179e"
            ],
            [
             0.4444444444444444,
             "#bd3786"
            ],
            [
             0.5555555555555556,
             "#d8576b"
            ],
            [
             0.6666666666666666,
             "#ed7953"
            ],
            [
             0.7777777777777778,
             "#fb9f3a"
            ],
            [
             0.8888888888888888,
             "#fdca26"
            ],
            [
             1,
             "#f0f921"
            ]
           ]
          },
          "colorway": [
           "#636efa",
           "#EF553B",
           "#00cc96",
           "#ab63fa",
           "#FFA15A",
           "#19d3f3",
           "#FF6692",
           "#B6E880",
           "#FF97FF",
           "#FECB52"
          ],
          "font": {
           "color": "#2a3f5f"
          },
          "geo": {
           "bgcolor": "white",
           "lakecolor": "white",
           "landcolor": "#E5ECF6",
           "showlakes": true,
           "showland": true,
           "subunitcolor": "white"
          },
          "hoverlabel": {
           "align": "left"
          },
          "hovermode": "closest",
          "mapbox": {
           "style": "light"
          },
          "paper_bgcolor": "white",
          "plot_bgcolor": "#E5ECF6",
          "polar": {
           "angularaxis": {
            "gridcolor": "white",
            "linecolor": "white",
            "ticks": ""
           },
           "bgcolor": "#E5ECF6",
           "radialaxis": {
            "gridcolor": "white",
            "linecolor": "white",
            "ticks": ""
           }
          },
          "scene": {
           "xaxis": {
            "backgroundcolor": "#E5ECF6",
            "gridcolor": "white",
            "gridwidth": 2,
            "linecolor": "white",
            "showbackground": true,
            "ticks": "",
            "zerolinecolor": "white"
           },
           "yaxis": {
            "backgroundcolor": "#E5ECF6",
            "gridcolor": "white",
            "gridwidth": 2,
            "linecolor": "white",
            "showbackground": true,
            "ticks": "",
            "zerolinecolor": "white"
           },
           "zaxis": {
            "backgroundcolor": "#E5ECF6",
            "gridcolor": "white",
            "gridwidth": 2,
            "linecolor": "white",
            "showbackground": true,
            "ticks": "",
            "zerolinecolor": "white"
           }
          },
          "shapedefaults": {
           "line": {
            "color": "#2a3f5f"
           }
          },
          "ternary": {
           "aaxis": {
            "gridcolor": "white",
            "linecolor": "white",
            "ticks": ""
           },
           "baxis": {
            "gridcolor": "white",
            "linecolor": "white",
            "ticks": ""
           },
           "bgcolor": "#E5ECF6",
           "caxis": {
            "gridcolor": "white",
            "linecolor": "white",
            "ticks": ""
           }
          },
          "title": {
           "x": 0.05
          },
          "xaxis": {
           "automargin": true,
           "gridcolor": "white",
           "linecolor": "white",
           "ticks": "",
           "title": {
            "standoff": 15
           },
           "zerolinecolor": "white",
           "zerolinewidth": 2
          },
          "yaxis": {
           "automargin": true,
           "gridcolor": "white",
           "linecolor": "white",
           "ticks": "",
           "title": {
            "standoff": 15
           },
           "zerolinecolor": "white",
           "zerolinewidth": 2
          }
         }
        },
        "xaxis": {
         "anchor": "y",
         "domain": [
          0,
          1
         ],
         "title": {
          "text": "date"
         }
        },
        "yaxis": {
         "anchor": "x",
         "domain": [
          0,
          1
         ],
         "title": {
          "text": "value"
         }
        }
       }
      }
     },
     "metadata": {},
     "output_type": "display_data"
    }
   ],
   "source": [
    "df_agg = df.groupby(['survey_id', 'city', 'room_type']).aggregate(\n",
    "    date=pd.NamedAgg('survey_date', 'max'),\n",
    "    nb_rooms=pd.NamedAgg('room_id', 'count'),\n",
    "    nb_licensed=pd.NamedAgg('has_license', 'sum'),\n",
    "    ).reset_index()\n",
    "df_agg = df_agg[df_agg.survey_id.isin(SURVEY_IDS)]\n",
    "df_agg['not_licensed'] = df_agg.nb_rooms - df_agg.nb_licensed\n",
    "\n",
    "px.bar(df_agg[df_agg.room_type == 'Logement entier'], \n",
    "        x='date', \n",
    "        y=['nb_rooms'], \n",
    "        color='city', \n",
    "        barmode='group', \n",
    "        text_auto=True,\n",
    "        color_discrete_map=COLOR_MAP)"
   ]
  },
  {
   "cell_type": "code",
   "execution_count": 260,
   "metadata": {},
   "outputs": [
    {
     "data": {
      "application/vnd.plotly.v1+json": {
       "config": {
        "plotlyServerURL": "https://plot.ly"
       },
       "data": [
        {
         "alignmentgroup": "True",
         "hovertemplate": "city=Anglet<br>date=%{x}<br>value=%{y}<extra></extra>",
         "legendgroup": "Anglet",
         "marker": {
          "color": "#3d405b",
          "pattern": {
           "shape": ""
          }
         },
         "name": "Anglet",
         "offsetgroup": "Anglet",
         "orientation": "v",
         "showlegend": true,
         "textposition": "auto",
         "texttemplate": "%{y}",
         "type": "bar",
         "x": [
          "2022-01-07T21:13:23.891570",
          "2022-01-30T17:24:15.243725",
          "2022-01-07T21:13:23.891570",
          "2022-01-30T17:24:15.243725"
         ],
         "xaxis": "x",
         "y": [
          66,
          61,
          942,
          983
         ],
         "yaxis": "y"
        },
        {
         "alignmentgroup": "True",
         "hovertemplate": "city=Bayonne<br>date=%{x}<br>value=%{y}<extra></extra>",
         "legendgroup": "Bayonne",
         "marker": {
          "color": "#81b29a",
          "pattern": {
           "shape": ""
          }
         },
         "name": "Bayonne",
         "offsetgroup": "Bayonne",
         "orientation": "v",
         "showlegend": true,
         "textposition": "auto",
         "texttemplate": "%{y}",
         "type": "bar",
         "x": [
          "2022-01-07T21:13:23.891570",
          "2022-01-30T17:24:15.243725",
          "2022-01-07T21:13:23.891570",
          "2022-01-30T17:24:15.243725"
         ],
         "xaxis": "x",
         "y": [
          73,
          65,
          528,
          561
         ],
         "yaxis": "y"
        },
        {
         "alignmentgroup": "True",
         "hovertemplate": "city=Biarritz<br>date=%{x}<br>value=%{y}<extra></extra>",
         "legendgroup": "Biarritz",
         "marker": {
          "color": "#e07a5f",
          "pattern": {
           "shape": ""
          }
         },
         "name": "Biarritz",
         "offsetgroup": "Biarritz",
         "orientation": "v",
         "showlegend": true,
         "textposition": "auto",
         "texttemplate": "%{y}",
         "type": "bar",
         "x": [
          "2022-01-07T21:13:23.891570",
          "2022-01-30T17:24:15.243725",
          "2022-01-07T21:13:23.891570",
          "2022-01-30T17:24:15.243725"
         ],
         "xaxis": "x",
         "y": [
          1404,
          158,
          1071,
          1827
         ],
         "yaxis": "y"
        }
       ],
       "layout": {
        "barmode": "group",
        "legend": {
         "title": {
          "text": "city"
         },
         "tracegroupgap": 0
        },
        "margin": {
         "t": 60
        },
        "template": {
         "data": {
          "bar": [
           {
            "error_x": {
             "color": "#2a3f5f"
            },
            "error_y": {
             "color": "#2a3f5f"
            },
            "marker": {
             "line": {
              "color": "#E5ECF6",
              "width": 0.5
             },
             "pattern": {
              "fillmode": "overlay",
              "size": 10,
              "solidity": 0.2
             }
            },
            "type": "bar"
           }
          ],
          "barpolar": [
           {
            "marker": {
             "line": {
              "color": "#E5ECF6",
              "width": 0.5
             },
             "pattern": {
              "fillmode": "overlay",
              "size": 10,
              "solidity": 0.2
             }
            },
            "type": "barpolar"
           }
          ],
          "carpet": [
           {
            "aaxis": {
             "endlinecolor": "#2a3f5f",
             "gridcolor": "white",
             "linecolor": "white",
             "minorgridcolor": "white",
             "startlinecolor": "#2a3f5f"
            },
            "baxis": {
             "endlinecolor": "#2a3f5f",
             "gridcolor": "white",
             "linecolor": "white",
             "minorgridcolor": "white",
             "startlinecolor": "#2a3f5f"
            },
            "type": "carpet"
           }
          ],
          "choropleth": [
           {
            "colorbar": {
             "outlinewidth": 0,
             "ticks": ""
            },
            "type": "choropleth"
           }
          ],
          "contour": [
           {
            "colorbar": {
             "outlinewidth": 0,
             "ticks": ""
            },
            "colorscale": [
             [
              0,
              "#0d0887"
             ],
             [
              0.1111111111111111,
              "#46039f"
             ],
             [
              0.2222222222222222,
              "#7201a8"
             ],
             [
              0.3333333333333333,
              "#9c179e"
             ],
             [
              0.4444444444444444,
              "#bd3786"
             ],
             [
              0.5555555555555556,
              "#d8576b"
             ],
             [
              0.6666666666666666,
              "#ed7953"
             ],
             [
              0.7777777777777778,
              "#fb9f3a"
             ],
             [
              0.8888888888888888,
              "#fdca26"
             ],
             [
              1,
              "#f0f921"
             ]
            ],
            "type": "contour"
           }
          ],
          "contourcarpet": [
           {
            "colorbar": {
             "outlinewidth": 0,
             "ticks": ""
            },
            "type": "contourcarpet"
           }
          ],
          "heatmap": [
           {
            "colorbar": {
             "outlinewidth": 0,
             "ticks": ""
            },
            "colorscale": [
             [
              0,
              "#0d0887"
             ],
             [
              0.1111111111111111,
              "#46039f"
             ],
             [
              0.2222222222222222,
              "#7201a8"
             ],
             [
              0.3333333333333333,
              "#9c179e"
             ],
             [
              0.4444444444444444,
              "#bd3786"
             ],
             [
              0.5555555555555556,
              "#d8576b"
             ],
             [
              0.6666666666666666,
              "#ed7953"
             ],
             [
              0.7777777777777778,
              "#fb9f3a"
             ],
             [
              0.8888888888888888,
              "#fdca26"
             ],
             [
              1,
              "#f0f921"
             ]
            ],
            "type": "heatmap"
           }
          ],
          "heatmapgl": [
           {
            "colorbar": {
             "outlinewidth": 0,
             "ticks": ""
            },
            "colorscale": [
             [
              0,
              "#0d0887"
             ],
             [
              0.1111111111111111,
              "#46039f"
             ],
             [
              0.2222222222222222,
              "#7201a8"
             ],
             [
              0.3333333333333333,
              "#9c179e"
             ],
             [
              0.4444444444444444,
              "#bd3786"
             ],
             [
              0.5555555555555556,
              "#d8576b"
             ],
             [
              0.6666666666666666,
              "#ed7953"
             ],
             [
              0.7777777777777778,
              "#fb9f3a"
             ],
             [
              0.8888888888888888,
              "#fdca26"
             ],
             [
              1,
              "#f0f921"
             ]
            ],
            "type": "heatmapgl"
           }
          ],
          "histogram": [
           {
            "marker": {
             "pattern": {
              "fillmode": "overlay",
              "size": 10,
              "solidity": 0.2
             }
            },
            "type": "histogram"
           }
          ],
          "histogram2d": [
           {
            "colorbar": {
             "outlinewidth": 0,
             "ticks": ""
            },
            "colorscale": [
             [
              0,
              "#0d0887"
             ],
             [
              0.1111111111111111,
              "#46039f"
             ],
             [
              0.2222222222222222,
              "#7201a8"
             ],
             [
              0.3333333333333333,
              "#9c179e"
             ],
             [
              0.4444444444444444,
              "#bd3786"
             ],
             [
              0.5555555555555556,
              "#d8576b"
             ],
             [
              0.6666666666666666,
              "#ed7953"
             ],
             [
              0.7777777777777778,
              "#fb9f3a"
             ],
             [
              0.8888888888888888,
              "#fdca26"
             ],
             [
              1,
              "#f0f921"
             ]
            ],
            "type": "histogram2d"
           }
          ],
          "histogram2dcontour": [
           {
            "colorbar": {
             "outlinewidth": 0,
             "ticks": ""
            },
            "colorscale": [
             [
              0,
              "#0d0887"
             ],
             [
              0.1111111111111111,
              "#46039f"
             ],
             [
              0.2222222222222222,
              "#7201a8"
             ],
             [
              0.3333333333333333,
              "#9c179e"
             ],
             [
              0.4444444444444444,
              "#bd3786"
             ],
             [
              0.5555555555555556,
              "#d8576b"
             ],
             [
              0.6666666666666666,
              "#ed7953"
             ],
             [
              0.7777777777777778,
              "#fb9f3a"
             ],
             [
              0.8888888888888888,
              "#fdca26"
             ],
             [
              1,
              "#f0f921"
             ]
            ],
            "type": "histogram2dcontour"
           }
          ],
          "mesh3d": [
           {
            "colorbar": {
             "outlinewidth": 0,
             "ticks": ""
            },
            "type": "mesh3d"
           }
          ],
          "parcoords": [
           {
            "line": {
             "colorbar": {
              "outlinewidth": 0,
              "ticks": ""
             }
            },
            "type": "parcoords"
           }
          ],
          "pie": [
           {
            "automargin": true,
            "type": "pie"
           }
          ],
          "scatter": [
           {
            "marker": {
             "colorbar": {
              "outlinewidth": 0,
              "ticks": ""
             }
            },
            "type": "scatter"
           }
          ],
          "scatter3d": [
           {
            "line": {
             "colorbar": {
              "outlinewidth": 0,
              "ticks": ""
             }
            },
            "marker": {
             "colorbar": {
              "outlinewidth": 0,
              "ticks": ""
             }
            },
            "type": "scatter3d"
           }
          ],
          "scattercarpet": [
           {
            "marker": {
             "colorbar": {
              "outlinewidth": 0,
              "ticks": ""
             }
            },
            "type": "scattercarpet"
           }
          ],
          "scattergeo": [
           {
            "marker": {
             "colorbar": {
              "outlinewidth": 0,
              "ticks": ""
             }
            },
            "type": "scattergeo"
           }
          ],
          "scattergl": [
           {
            "marker": {
             "colorbar": {
              "outlinewidth": 0,
              "ticks": ""
             }
            },
            "type": "scattergl"
           }
          ],
          "scattermapbox": [
           {
            "marker": {
             "colorbar": {
              "outlinewidth": 0,
              "ticks": ""
             }
            },
            "type": "scattermapbox"
           }
          ],
          "scatterpolar": [
           {
            "marker": {
             "colorbar": {
              "outlinewidth": 0,
              "ticks": ""
             }
            },
            "type": "scatterpolar"
           }
          ],
          "scatterpolargl": [
           {
            "marker": {
             "colorbar": {
              "outlinewidth": 0,
              "ticks": ""
             }
            },
            "type": "scatterpolargl"
           }
          ],
          "scatterternary": [
           {
            "marker": {
             "colorbar": {
              "outlinewidth": 0,
              "ticks": ""
             }
            },
            "type": "scatterternary"
           }
          ],
          "surface": [
           {
            "colorbar": {
             "outlinewidth": 0,
             "ticks": ""
            },
            "colorscale": [
             [
              0,
              "#0d0887"
             ],
             [
              0.1111111111111111,
              "#46039f"
             ],
             [
              0.2222222222222222,
              "#7201a8"
             ],
             [
              0.3333333333333333,
              "#9c179e"
             ],
             [
              0.4444444444444444,
              "#bd3786"
             ],
             [
              0.5555555555555556,
              "#d8576b"
             ],
             [
              0.6666666666666666,
              "#ed7953"
             ],
             [
              0.7777777777777778,
              "#fb9f3a"
             ],
             [
              0.8888888888888888,
              "#fdca26"
             ],
             [
              1,
              "#f0f921"
             ]
            ],
            "type": "surface"
           }
          ],
          "table": [
           {
            "cells": {
             "fill": {
              "color": "#EBF0F8"
             },
             "line": {
              "color": "white"
             }
            },
            "header": {
             "fill": {
              "color": "#C8D4E3"
             },
             "line": {
              "color": "white"
             }
            },
            "type": "table"
           }
          ]
         },
         "layout": {
          "annotationdefaults": {
           "arrowcolor": "#2a3f5f",
           "arrowhead": 0,
           "arrowwidth": 1
          },
          "autotypenumbers": "strict",
          "coloraxis": {
           "colorbar": {
            "outlinewidth": 0,
            "ticks": ""
           }
          },
          "colorscale": {
           "diverging": [
            [
             0,
             "#8e0152"
            ],
            [
             0.1,
             "#c51b7d"
            ],
            [
             0.2,
             "#de77ae"
            ],
            [
             0.3,
             "#f1b6da"
            ],
            [
             0.4,
             "#fde0ef"
            ],
            [
             0.5,
             "#f7f7f7"
            ],
            [
             0.6,
             "#e6f5d0"
            ],
            [
             0.7,
             "#b8e186"
            ],
            [
             0.8,
             "#7fbc41"
            ],
            [
             0.9,
             "#4d9221"
            ],
            [
             1,
             "#276419"
            ]
           ],
           "sequential": [
            [
             0,
             "#0d0887"
            ],
            [
             0.1111111111111111,
             "#46039f"
            ],
            [
             0.2222222222222222,
             "#7201a8"
            ],
            [
             0.3333333333333333,
             "#9c179e"
            ],
            [
             0.4444444444444444,
             "#bd3786"
            ],
            [
             0.5555555555555556,
             "#d8576b"
            ],
            [
             0.6666666666666666,
             "#ed7953"
            ],
            [
             0.7777777777777778,
             "#fb9f3a"
            ],
            [
             0.8888888888888888,
             "#fdca26"
            ],
            [
             1,
             "#f0f921"
            ]
           ],
           "sequentialminus": [
            [
             0,
             "#0d0887"
            ],
            [
             0.1111111111111111,
             "#46039f"
            ],
            [
             0.2222222222222222,
             "#7201a8"
            ],
            [
             0.3333333333333333,
             "#9c179e"
            ],
            [
             0.4444444444444444,
             "#bd3786"
            ],
            [
             0.5555555555555556,
             "#d8576b"
            ],
            [
             0.6666666666666666,
             "#ed7953"
            ],
            [
             0.7777777777777778,
             "#fb9f3a"
            ],
            [
             0.8888888888888888,
             "#fdca26"
            ],
            [
             1,
             "#f0f921"
            ]
           ]
          },
          "colorway": [
           "#636efa",
           "#EF553B",
           "#00cc96",
           "#ab63fa",
           "#FFA15A",
           "#19d3f3",
           "#FF6692",
           "#B6E880",
           "#FF97FF",
           "#FECB52"
          ],
          "font": {
           "color": "#2a3f5f"
          },
          "geo": {
           "bgcolor": "white",
           "lakecolor": "white",
           "landcolor": "#E5ECF6",
           "showlakes": true,
           "showland": true,
           "subunitcolor": "white"
          },
          "hoverlabel": {
           "align": "left"
          },
          "hovermode": "closest",
          "mapbox": {
           "style": "light"
          },
          "paper_bgcolor": "white",
          "plot_bgcolor": "#E5ECF6",
          "polar": {
           "angularaxis": {
            "gridcolor": "white",
            "linecolor": "white",
            "ticks": ""
           },
           "bgcolor": "#E5ECF6",
           "radialaxis": {
            "gridcolor": "white",
            "linecolor": "white",
            "ticks": ""
           }
          },
          "scene": {
           "xaxis": {
            "backgroundcolor": "#E5ECF6",
            "gridcolor": "white",
            "gridwidth": 2,
            "linecolor": "white",
            "showbackground": true,
            "ticks": "",
            "zerolinecolor": "white"
           },
           "yaxis": {
            "backgroundcolor": "#E5ECF6",
            "gridcolor": "white",
            "gridwidth": 2,
            "linecolor": "white",
            "showbackground": true,
            "ticks": "",
            "zerolinecolor": "white"
           },
           "zaxis": {
            "backgroundcolor": "#E5ECF6",
            "gridcolor": "white",
            "gridwidth": 2,
            "linecolor": "white",
            "showbackground": true,
            "ticks": "",
            "zerolinecolor": "white"
           }
          },
          "shapedefaults": {
           "line": {
            "color": "#2a3f5f"
           }
          },
          "ternary": {
           "aaxis": {
            "gridcolor": "white",
            "linecolor": "white",
            "ticks": ""
           },
           "baxis": {
            "gridcolor": "white",
            "linecolor": "white",
            "ticks": ""
           },
           "bgcolor": "#E5ECF6",
           "caxis": {
            "gridcolor": "white",
            "linecolor": "white",
            "ticks": ""
           }
          },
          "title": {
           "x": 0.05
          },
          "xaxis": {
           "automargin": true,
           "gridcolor": "white",
           "linecolor": "white",
           "ticks": "",
           "title": {
            "standoff": 15
           },
           "zerolinecolor": "white",
           "zerolinewidth": 2
          },
          "yaxis": {
           "automargin": true,
           "gridcolor": "white",
           "linecolor": "white",
           "ticks": "",
           "title": {
            "standoff": 15
           },
           "zerolinecolor": "white",
           "zerolinewidth": 2
          }
         }
        },
        "xaxis": {
         "anchor": "y",
         "domain": [
          0,
          1
         ],
         "title": {
          "text": "date"
         }
        },
        "yaxis": {
         "anchor": "x",
         "domain": [
          0,
          1
         ],
         "title": {
          "text": "value"
         }
        }
       }
      }
     },
     "metadata": {},
     "output_type": "display_data"
    }
   ],
   "source": [
    "px.bar(df_agg[df_agg.room_type == 'Logement entier'], \n",
    "        x='date', \n",
    "        y=['not_licensed', 'nb_licensed'], \n",
    "        color='city', \n",
    "        barmode='group', \n",
    "        text_auto=True,\n",
    "        color_discrete_map=COLOR_MAP)\n"
   ]
  },
  {
   "cell_type": "markdown",
   "metadata": {},
   "source": [
    "# Evolution du taux d'enregistrement"
   ]
  },
  {
   "cell_type": "code",
   "execution_count": 261,
   "metadata": {},
   "outputs": [
    {
     "data": {
      "application/vnd.plotly.v1+json": {
       "config": {
        "plotlyServerURL": "https://plot.ly"
       },
       "data": [
        {
         "alignmentgroup": "True",
         "hovertemplate": "city=Anglet<br>date=%{x}<br>license_rate=%{y}<extra></extra>",
         "legendgroup": "Anglet",
         "marker": {
          "color": "#3d405b",
          "pattern": {
           "shape": ""
          }
         },
         "name": "Anglet",
         "offsetgroup": "Anglet",
         "orientation": "v",
         "showlegend": true,
         "textposition": "auto",
         "texttemplate": "%{y}",
         "type": "bar",
         "x": [
          "2022-01-07T21:13:23.891570",
          "2022-01-30T17:24:15.243725"
         ],
         "xaxis": "x",
         "y": [
          93.45238095238095,
          94.15708812260536
         ],
         "yaxis": "y"
        },
        {
         "alignmentgroup": "True",
         "hovertemplate": "city=Bayonne<br>date=%{x}<br>license_rate=%{y}<extra></extra>",
         "legendgroup": "Bayonne",
         "marker": {
          "color": "#81b29a",
          "pattern": {
           "shape": ""
          }
         },
         "name": "Bayonne",
         "offsetgroup": "Bayonne",
         "orientation": "v",
         "showlegend": true,
         "textposition": "auto",
         "texttemplate": "%{y}",
         "type": "bar",
         "x": [
          "2022-01-07T21:13:23.891570",
          "2022-01-30T17:24:15.243725"
         ],
         "xaxis": "x",
         "y": [
          87.85357737104825,
          89.61661341853035
         ],
         "yaxis": "y"
        },
        {
         "alignmentgroup": "True",
         "hovertemplate": "city=Biarritz<br>date=%{x}<br>license_rate=%{y}<extra></extra>",
         "legendgroup": "Biarritz",
         "marker": {
          "color": "#e07a5f",
          "pattern": {
           "shape": ""
          }
         },
         "name": "Biarritz",
         "offsetgroup": "Biarritz",
         "orientation": "v",
         "showlegend": true,
         "textposition": "auto",
         "texttemplate": "%{y}",
         "type": "bar",
         "x": [
          "2022-01-07T21:13:23.891570",
          "2022-01-30T17:24:15.243725"
         ],
         "xaxis": "x",
         "y": [
          43.27272727272727,
          92.04030226700252
         ],
         "yaxis": "y"
        }
       ],
       "layout": {
        "barmode": "group",
        "legend": {
         "title": {
          "text": "city"
         },
         "tracegroupgap": 0
        },
        "margin": {
         "t": 60
        },
        "template": {
         "data": {
          "bar": [
           {
            "error_x": {
             "color": "#2a3f5f"
            },
            "error_y": {
             "color": "#2a3f5f"
            },
            "marker": {
             "line": {
              "color": "#E5ECF6",
              "width": 0.5
             },
             "pattern": {
              "fillmode": "overlay",
              "size": 10,
              "solidity": 0.2
             }
            },
            "type": "bar"
           }
          ],
          "barpolar": [
           {
            "marker": {
             "line": {
              "color": "#E5ECF6",
              "width": 0.5
             },
             "pattern": {
              "fillmode": "overlay",
              "size": 10,
              "solidity": 0.2
             }
            },
            "type": "barpolar"
           }
          ],
          "carpet": [
           {
            "aaxis": {
             "endlinecolor": "#2a3f5f",
             "gridcolor": "white",
             "linecolor": "white",
             "minorgridcolor": "white",
             "startlinecolor": "#2a3f5f"
            },
            "baxis": {
             "endlinecolor": "#2a3f5f",
             "gridcolor": "white",
             "linecolor": "white",
             "minorgridcolor": "white",
             "startlinecolor": "#2a3f5f"
            },
            "type": "carpet"
           }
          ],
          "choropleth": [
           {
            "colorbar": {
             "outlinewidth": 0,
             "ticks": ""
            },
            "type": "choropleth"
           }
          ],
          "contour": [
           {
            "colorbar": {
             "outlinewidth": 0,
             "ticks": ""
            },
            "colorscale": [
             [
              0,
              "#0d0887"
             ],
             [
              0.1111111111111111,
              "#46039f"
             ],
             [
              0.2222222222222222,
              "#7201a8"
             ],
             [
              0.3333333333333333,
              "#9c179e"
             ],
             [
              0.4444444444444444,
              "#bd3786"
             ],
             [
              0.5555555555555556,
              "#d8576b"
             ],
             [
              0.6666666666666666,
              "#ed7953"
             ],
             [
              0.7777777777777778,
              "#fb9f3a"
             ],
             [
              0.8888888888888888,
              "#fdca26"
             ],
             [
              1,
              "#f0f921"
             ]
            ],
            "type": "contour"
           }
          ],
          "contourcarpet": [
           {
            "colorbar": {
             "outlinewidth": 0,
             "ticks": ""
            },
            "type": "contourcarpet"
           }
          ],
          "heatmap": [
           {
            "colorbar": {
             "outlinewidth": 0,
             "ticks": ""
            },
            "colorscale": [
             [
              0,
              "#0d0887"
             ],
             [
              0.1111111111111111,
              "#46039f"
             ],
             [
              0.2222222222222222,
              "#7201a8"
             ],
             [
              0.3333333333333333,
              "#9c179e"
             ],
             [
              0.4444444444444444,
              "#bd3786"
             ],
             [
              0.5555555555555556,
              "#d8576b"
             ],
             [
              0.6666666666666666,
              "#ed7953"
             ],
             [
              0.7777777777777778,
              "#fb9f3a"
             ],
             [
              0.8888888888888888,
              "#fdca26"
             ],
             [
              1,
              "#f0f921"
             ]
            ],
            "type": "heatmap"
           }
          ],
          "heatmapgl": [
           {
            "colorbar": {
             "outlinewidth": 0,
             "ticks": ""
            },
            "colorscale": [
             [
              0,
              "#0d0887"
             ],
             [
              0.1111111111111111,
              "#46039f"
             ],
             [
              0.2222222222222222,
              "#7201a8"
             ],
             [
              0.3333333333333333,
              "#9c179e"
             ],
             [
              0.4444444444444444,
              "#bd3786"
             ],
             [
              0.5555555555555556,
              "#d8576b"
             ],
             [
              0.6666666666666666,
              "#ed7953"
             ],
             [
              0.7777777777777778,
              "#fb9f3a"
             ],
             [
              0.8888888888888888,
              "#fdca26"
             ],
             [
              1,
              "#f0f921"
             ]
            ],
            "type": "heatmapgl"
           }
          ],
          "histogram": [
           {
            "marker": {
             "pattern": {
              "fillmode": "overlay",
              "size": 10,
              "solidity": 0.2
             }
            },
            "type": "histogram"
           }
          ],
          "histogram2d": [
           {
            "colorbar": {
             "outlinewidth": 0,
             "ticks": ""
            },
            "colorscale": [
             [
              0,
              "#0d0887"
             ],
             [
              0.1111111111111111,
              "#46039f"
             ],
             [
              0.2222222222222222,
              "#7201a8"
             ],
             [
              0.3333333333333333,
              "#9c179e"
             ],
             [
              0.4444444444444444,
              "#bd3786"
             ],
             [
              0.5555555555555556,
              "#d8576b"
             ],
             [
              0.6666666666666666,
              "#ed7953"
             ],
             [
              0.7777777777777778,
              "#fb9f3a"
             ],
             [
              0.8888888888888888,
              "#fdca26"
             ],
             [
              1,
              "#f0f921"
             ]
            ],
            "type": "histogram2d"
           }
          ],
          "histogram2dcontour": [
           {
            "colorbar": {
             "outlinewidth": 0,
             "ticks": ""
            },
            "colorscale": [
             [
              0,
              "#0d0887"
             ],
             [
              0.1111111111111111,
              "#46039f"
             ],
             [
              0.2222222222222222,
              "#7201a8"
             ],
             [
              0.3333333333333333,
              "#9c179e"
             ],
             [
              0.4444444444444444,
              "#bd3786"
             ],
             [
              0.5555555555555556,
              "#d8576b"
             ],
             [
              0.6666666666666666,
              "#ed7953"
             ],
             [
              0.7777777777777778,
              "#fb9f3a"
             ],
             [
              0.8888888888888888,
              "#fdca26"
             ],
             [
              1,
              "#f0f921"
             ]
            ],
            "type": "histogram2dcontour"
           }
          ],
          "mesh3d": [
           {
            "colorbar": {
             "outlinewidth": 0,
             "ticks": ""
            },
            "type": "mesh3d"
           }
          ],
          "parcoords": [
           {
            "line": {
             "colorbar": {
              "outlinewidth": 0,
              "ticks": ""
             }
            },
            "type": "parcoords"
           }
          ],
          "pie": [
           {
            "automargin": true,
            "type": "pie"
           }
          ],
          "scatter": [
           {
            "marker": {
             "colorbar": {
              "outlinewidth": 0,
              "ticks": ""
             }
            },
            "type": "scatter"
           }
          ],
          "scatter3d": [
           {
            "line": {
             "colorbar": {
              "outlinewidth": 0,
              "ticks": ""
             }
            },
            "marker": {
             "colorbar": {
              "outlinewidth": 0,
              "ticks": ""
             }
            },
            "type": "scatter3d"
           }
          ],
          "scattercarpet": [
           {
            "marker": {
             "colorbar": {
              "outlinewidth": 0,
              "ticks": ""
             }
            },
            "type": "scattercarpet"
           }
          ],
          "scattergeo": [
           {
            "marker": {
             "colorbar": {
              "outlinewidth": 0,
              "ticks": ""
             }
            },
            "type": "scattergeo"
           }
          ],
          "scattergl": [
           {
            "marker": {
             "colorbar": {
              "outlinewidth": 0,
              "ticks": ""
             }
            },
            "type": "scattergl"
           }
          ],
          "scattermapbox": [
           {
            "marker": {
             "colorbar": {
              "outlinewidth": 0,
              "ticks": ""
             }
            },
            "type": "scattermapbox"
           }
          ],
          "scatterpolar": [
           {
            "marker": {
             "colorbar": {
              "outlinewidth": 0,
              "ticks": ""
             }
            },
            "type": "scatterpolar"
           }
          ],
          "scatterpolargl": [
           {
            "marker": {
             "colorbar": {
              "outlinewidth": 0,
              "ticks": ""
             }
            },
            "type": "scatterpolargl"
           }
          ],
          "scatterternary": [
           {
            "marker": {
             "colorbar": {
              "outlinewidth": 0,
              "ticks": ""
             }
            },
            "type": "scatterternary"
           }
          ],
          "surface": [
           {
            "colorbar": {
             "outlinewidth": 0,
             "ticks": ""
            },
            "colorscale": [
             [
              0,
              "#0d0887"
             ],
             [
              0.1111111111111111,
              "#46039f"
             ],
             [
              0.2222222222222222,
              "#7201a8"
             ],
             [
              0.3333333333333333,
              "#9c179e"
             ],
             [
              0.4444444444444444,
              "#bd3786"
             ],
             [
              0.5555555555555556,
              "#d8576b"
             ],
             [
              0.6666666666666666,
              "#ed7953"
             ],
             [
              0.7777777777777778,
              "#fb9f3a"
             ],
             [
              0.8888888888888888,
              "#fdca26"
             ],
             [
              1,
              "#f0f921"
             ]
            ],
            "type": "surface"
           }
          ],
          "table": [
           {
            "cells": {
             "fill": {
              "color": "#EBF0F8"
             },
             "line": {
              "color": "white"
             }
            },
            "header": {
             "fill": {
              "color": "#C8D4E3"
             },
             "line": {
              "color": "white"
             }
            },
            "type": "table"
           }
          ]
         },
         "layout": {
          "annotationdefaults": {
           "arrowcolor": "#2a3f5f",
           "arrowhead": 0,
           "arrowwidth": 1
          },
          "autotypenumbers": "strict",
          "coloraxis": {
           "colorbar": {
            "outlinewidth": 0,
            "ticks": ""
           }
          },
          "colorscale": {
           "diverging": [
            [
             0,
             "#8e0152"
            ],
            [
             0.1,
             "#c51b7d"
            ],
            [
             0.2,
             "#de77ae"
            ],
            [
             0.3,
             "#f1b6da"
            ],
            [
             0.4,
             "#fde0ef"
            ],
            [
             0.5,
             "#f7f7f7"
            ],
            [
             0.6,
             "#e6f5d0"
            ],
            [
             0.7,
             "#b8e186"
            ],
            [
             0.8,
             "#7fbc41"
            ],
            [
             0.9,
             "#4d9221"
            ],
            [
             1,
             "#276419"
            ]
           ],
           "sequential": [
            [
             0,
             "#0d0887"
            ],
            [
             0.1111111111111111,
             "#46039f"
            ],
            [
             0.2222222222222222,
             "#7201a8"
            ],
            [
             0.3333333333333333,
             "#9c179e"
            ],
            [
             0.4444444444444444,
             "#bd3786"
            ],
            [
             0.5555555555555556,
             "#d8576b"
            ],
            [
             0.6666666666666666,
             "#ed7953"
            ],
            [
             0.7777777777777778,
             "#fb9f3a"
            ],
            [
             0.8888888888888888,
             "#fdca26"
            ],
            [
             1,
             "#f0f921"
            ]
           ],
           "sequentialminus": [
            [
             0,
             "#0d0887"
            ],
            [
             0.1111111111111111,
             "#46039f"
            ],
            [
             0.2222222222222222,
             "#7201a8"
            ],
            [
             0.3333333333333333,
             "#9c179e"
            ],
            [
             0.4444444444444444,
             "#bd3786"
            ],
            [
             0.5555555555555556,
             "#d8576b"
            ],
            [
             0.6666666666666666,
             "#ed7953"
            ],
            [
             0.7777777777777778,
             "#fb9f3a"
            ],
            [
             0.8888888888888888,
             "#fdca26"
            ],
            [
             1,
             "#f0f921"
            ]
           ]
          },
          "colorway": [
           "#636efa",
           "#EF553B",
           "#00cc96",
           "#ab63fa",
           "#FFA15A",
           "#19d3f3",
           "#FF6692",
           "#B6E880",
           "#FF97FF",
           "#FECB52"
          ],
          "font": {
           "color": "#2a3f5f"
          },
          "geo": {
           "bgcolor": "white",
           "lakecolor": "white",
           "landcolor": "#E5ECF6",
           "showlakes": true,
           "showland": true,
           "subunitcolor": "white"
          },
          "hoverlabel": {
           "align": "left"
          },
          "hovermode": "closest",
          "mapbox": {
           "style": "light"
          },
          "paper_bgcolor": "white",
          "plot_bgcolor": "#E5ECF6",
          "polar": {
           "angularaxis": {
            "gridcolor": "white",
            "linecolor": "white",
            "ticks": ""
           },
           "bgcolor": "#E5ECF6",
           "radialaxis": {
            "gridcolor": "white",
            "linecolor": "white",
            "ticks": ""
           }
          },
          "scene": {
           "xaxis": {
            "backgroundcolor": "#E5ECF6",
            "gridcolor": "white",
            "gridwidth": 2,
            "linecolor": "white",
            "showbackground": true,
            "ticks": "",
            "zerolinecolor": "white"
           },
           "yaxis": {
            "backgroundcolor": "#E5ECF6",
            "gridcolor": "white",
            "gridwidth": 2,
            "linecolor": "white",
            "showbackground": true,
            "ticks": "",
            "zerolinecolor": "white"
           },
           "zaxis": {
            "backgroundcolor": "#E5ECF6",
            "gridcolor": "white",
            "gridwidth": 2,
            "linecolor": "white",
            "showbackground": true,
            "ticks": "",
            "zerolinecolor": "white"
           }
          },
          "shapedefaults": {
           "line": {
            "color": "#2a3f5f"
           }
          },
          "ternary": {
           "aaxis": {
            "gridcolor": "white",
            "linecolor": "white",
            "ticks": ""
           },
           "baxis": {
            "gridcolor": "white",
            "linecolor": "white",
            "ticks": ""
           },
           "bgcolor": "#E5ECF6",
           "caxis": {
            "gridcolor": "white",
            "linecolor": "white",
            "ticks": ""
           }
          },
          "title": {
           "x": 0.05
          },
          "xaxis": {
           "automargin": true,
           "gridcolor": "white",
           "linecolor": "white",
           "ticks": "",
           "title": {
            "standoff": 15
           },
           "zerolinecolor": "white",
           "zerolinewidth": 2
          },
          "yaxis": {
           "automargin": true,
           "gridcolor": "white",
           "linecolor": "white",
           "ticks": "",
           "title": {
            "standoff": 15
           },
           "zerolinecolor": "white",
           "zerolinewidth": 2
          }
         }
        },
        "xaxis": {
         "anchor": "y",
         "domain": [
          0,
          1
         ],
         "title": {
          "text": "date"
         }
        },
        "yaxis": {
         "anchor": "x",
         "domain": [
          0,
          1
         ],
         "title": {
          "text": "license_rate"
         }
        }
       }
      }
     },
     "metadata": {},
     "output_type": "display_data"
    }
   ],
   "source": [
    "df_agg['license_rate'] = 100 * df_agg.nb_licensed / df_agg.nb_rooms\n",
    "px.bar(df_agg[df_agg.room_type == 'Logement entier'], \n",
    "        x='date', \n",
    "        y='license_rate', \n",
    "        color='city', \n",
    "        barmode='group', \n",
    "        text_auto=True,\n",
    "        color_discrete_map=COLOR_MAP)"
   ]
  },
  {
   "cell_type": "code",
   "execution_count": 262,
   "metadata": {},
   "outputs": [
    {
     "name": "stderr",
     "output_type": "stream",
     "text": [
      "/var/folders/mz/5gqqtphs0ds50kbxxqpqw8xc0000gn/T/ipykernel_715/1824957938.py:4: SettingWithCopyWarning:\n",
      "\n",
      "\n",
      "A value is trying to be set on a copy of a slice from a DataFrame.\n",
      "Try using .loc[row_indexer,col_indexer] = value instead\n",
      "\n",
      "See the caveats in the documentation: https://pandas.pydata.org/pandas-docs/stable/user_guide/indexing.html#returning-a-view-versus-a-copy\n",
      "\n",
      "/var/folders/mz/5gqqtphs0ds50kbxxqpqw8xc0000gn/T/ipykernel_715/1824957938.py:5: SettingWithCopyWarning:\n",
      "\n",
      "\n",
      "A value is trying to be set on a copy of a slice from a DataFrame.\n",
      "Try using .loc[row_indexer,col_indexer] = value instead\n",
      "\n",
      "See the caveats in the documentation: https://pandas.pydata.org/pandas-docs/stable/user_guide/indexing.html#returning-a-view-versus-a-copy\n",
      "\n"
     ]
    },
    {
     "data": {
      "application/vnd.plotly.v1+json": {
       "config": {
        "plotlyServerURL": "https://plot.ly"
       },
       "data": [
        {
         "alignmentgroup": "True",
         "hovertemplate": "Enregistré=Non<br>date=%{x}<br>nb_rooms=%{y}<br>value_label=%{text}<extra></extra>",
         "legendgroup": "Non",
         "marker": {
          "color": "#ced4da",
          "pattern": {
           "shape": ""
          }
         },
         "name": "Non",
         "offsetgroup": "Non",
         "orientation": "v",
         "showlegend": true,
         "text": [
          "1404 (57%)",
          "158 (8%)"
         ],
         "textposition": "auto",
         "type": "bar",
         "x": [
          "07/01/2022",
          "30/01/2022"
         ],
         "xaxis": "x",
         "y": [
          1404,
          158
         ],
         "yaxis": "y"
        },
        {
         "alignmentgroup": "True",
         "hovertemplate": "Enregistré=Oui<br>date=%{x}<br>nb_rooms=%{y}<br>value_label=%{text}<extra></extra>",
         "legendgroup": "Oui",
         "marker": {
          "color": "#e73635",
          "pattern": {
           "shape": ""
          }
         },
         "name": "Oui",
         "offsetgroup": "Oui",
         "orientation": "v",
         "showlegend": true,
         "text": [
          "1071 (43%)",
          "1827 (92%)"
         ],
         "textposition": "auto",
         "type": "bar",
         "x": [
          "07/01/2022",
          "30/01/2022"
         ],
         "xaxis": "x",
         "y": [
          1071,
          1827
         ],
         "yaxis": "y"
        }
       ],
       "layout": {
        "barmode": "relative",
        "legend": {
         "title": {
          "text": "Enregistré"
         },
         "tracegroupgap": 0,
         "traceorder": "reversed"
        },
        "margin": {
         "b": 20,
         "l": 20,
         "r": 20,
         "t": 20
        },
        "paper_bgcolor": "white",
        "plot_bgcolor": "white",
        "template": {
         "data": {
          "bar": [
           {
            "error_x": {
             "color": "#2a3f5f"
            },
            "error_y": {
             "color": "#2a3f5f"
            },
            "marker": {
             "line": {
              "color": "#E5ECF6",
              "width": 0.5
             },
             "pattern": {
              "fillmode": "overlay",
              "size": 10,
              "solidity": 0.2
             }
            },
            "type": "bar"
           }
          ],
          "barpolar": [
           {
            "marker": {
             "line": {
              "color": "#E5ECF6",
              "width": 0.5
             },
             "pattern": {
              "fillmode": "overlay",
              "size": 10,
              "solidity": 0.2
             }
            },
            "type": "barpolar"
           }
          ],
          "carpet": [
           {
            "aaxis": {
             "endlinecolor": "#2a3f5f",
             "gridcolor": "white",
             "linecolor": "white",
             "minorgridcolor": "white",
             "startlinecolor": "#2a3f5f"
            },
            "baxis": {
             "endlinecolor": "#2a3f5f",
             "gridcolor": "white",
             "linecolor": "white",
             "minorgridcolor": "white",
             "startlinecolor": "#2a3f5f"
            },
            "type": "carpet"
           }
          ],
          "choropleth": [
           {
            "colorbar": {
             "outlinewidth": 0,
             "ticks": ""
            },
            "type": "choropleth"
           }
          ],
          "contour": [
           {
            "colorbar": {
             "outlinewidth": 0,
             "ticks": ""
            },
            "colorscale": [
             [
              0,
              "#0d0887"
             ],
             [
              0.1111111111111111,
              "#46039f"
             ],
             [
              0.2222222222222222,
              "#7201a8"
             ],
             [
              0.3333333333333333,
              "#9c179e"
             ],
             [
              0.4444444444444444,
              "#bd3786"
             ],
             [
              0.5555555555555556,
              "#d8576b"
             ],
             [
              0.6666666666666666,
              "#ed7953"
             ],
             [
              0.7777777777777778,
              "#fb9f3a"
             ],
             [
              0.8888888888888888,
              "#fdca26"
             ],
             [
              1,
              "#f0f921"
             ]
            ],
            "type": "contour"
           }
          ],
          "contourcarpet": [
           {
            "colorbar": {
             "outlinewidth": 0,
             "ticks": ""
            },
            "type": "contourcarpet"
           }
          ],
          "heatmap": [
           {
            "colorbar": {
             "outlinewidth": 0,
             "ticks": ""
            },
            "colorscale": [
             [
              0,
              "#0d0887"
             ],
             [
              0.1111111111111111,
              "#46039f"
             ],
             [
              0.2222222222222222,
              "#7201a8"
             ],
             [
              0.3333333333333333,
              "#9c179e"
             ],
             [
              0.4444444444444444,
              "#bd3786"
             ],
             [
              0.5555555555555556,
              "#d8576b"
             ],
             [
              0.6666666666666666,
              "#ed7953"
             ],
             [
              0.7777777777777778,
              "#fb9f3a"
             ],
             [
              0.8888888888888888,
              "#fdca26"
             ],
             [
              1,
              "#f0f921"
             ]
            ],
            "type": "heatmap"
           }
          ],
          "heatmapgl": [
           {
            "colorbar": {
             "outlinewidth": 0,
             "ticks": ""
            },
            "colorscale": [
             [
              0,
              "#0d0887"
             ],
             [
              0.1111111111111111,
              "#46039f"
             ],
             [
              0.2222222222222222,
              "#7201a8"
             ],
             [
              0.3333333333333333,
              "#9c179e"
             ],
             [
              0.4444444444444444,
              "#bd3786"
             ],
             [
              0.5555555555555556,
              "#d8576b"
             ],
             [
              0.6666666666666666,
              "#ed7953"
             ],
             [
              0.7777777777777778,
              "#fb9f3a"
             ],
             [
              0.8888888888888888,
              "#fdca26"
             ],
             [
              1,
              "#f0f921"
             ]
            ],
            "type": "heatmapgl"
           }
          ],
          "histogram": [
           {
            "marker": {
             "pattern": {
              "fillmode": "overlay",
              "size": 10,
              "solidity": 0.2
             }
            },
            "type": "histogram"
           }
          ],
          "histogram2d": [
           {
            "colorbar": {
             "outlinewidth": 0,
             "ticks": ""
            },
            "colorscale": [
             [
              0,
              "#0d0887"
             ],
             [
              0.1111111111111111,
              "#46039f"
             ],
             [
              0.2222222222222222,
              "#7201a8"
             ],
             [
              0.3333333333333333,
              "#9c179e"
             ],
             [
              0.4444444444444444,
              "#bd3786"
             ],
             [
              0.5555555555555556,
              "#d8576b"
             ],
             [
              0.6666666666666666,
              "#ed7953"
             ],
             [
              0.7777777777777778,
              "#fb9f3a"
             ],
             [
              0.8888888888888888,
              "#fdca26"
             ],
             [
              1,
              "#f0f921"
             ]
            ],
            "type": "histogram2d"
           }
          ],
          "histogram2dcontour": [
           {
            "colorbar": {
             "outlinewidth": 0,
             "ticks": ""
            },
            "colorscale": [
             [
              0,
              "#0d0887"
             ],
             [
              0.1111111111111111,
              "#46039f"
             ],
             [
              0.2222222222222222,
              "#7201a8"
             ],
             [
              0.3333333333333333,
              "#9c179e"
             ],
             [
              0.4444444444444444,
              "#bd3786"
             ],
             [
              0.5555555555555556,
              "#d8576b"
             ],
             [
              0.6666666666666666,
              "#ed7953"
             ],
             [
              0.7777777777777778,
              "#fb9f3a"
             ],
             [
              0.8888888888888888,
              "#fdca26"
             ],
             [
              1,
              "#f0f921"
             ]
            ],
            "type": "histogram2dcontour"
           }
          ],
          "mesh3d": [
           {
            "colorbar": {
             "outlinewidth": 0,
             "ticks": ""
            },
            "type": "mesh3d"
           }
          ],
          "parcoords": [
           {
            "line": {
             "colorbar": {
              "outlinewidth": 0,
              "ticks": ""
             }
            },
            "type": "parcoords"
           }
          ],
          "pie": [
           {
            "automargin": true,
            "type": "pie"
           }
          ],
          "scatter": [
           {
            "marker": {
             "colorbar": {
              "outlinewidth": 0,
              "ticks": ""
             }
            },
            "type": "scatter"
           }
          ],
          "scatter3d": [
           {
            "line": {
             "colorbar": {
              "outlinewidth": 0,
              "ticks": ""
             }
            },
            "marker": {
             "colorbar": {
              "outlinewidth": 0,
              "ticks": ""
             }
            },
            "type": "scatter3d"
           }
          ],
          "scattercarpet": [
           {
            "marker": {
             "colorbar": {
              "outlinewidth": 0,
              "ticks": ""
             }
            },
            "type": "scattercarpet"
           }
          ],
          "scattergeo": [
           {
            "marker": {
             "colorbar": {
              "outlinewidth": 0,
              "ticks": ""
             }
            },
            "type": "scattergeo"
           }
          ],
          "scattergl": [
           {
            "marker": {
             "colorbar": {
              "outlinewidth": 0,
              "ticks": ""
             }
            },
            "type": "scattergl"
           }
          ],
          "scattermapbox": [
           {
            "marker": {
             "colorbar": {
              "outlinewidth": 0,
              "ticks": ""
             }
            },
            "type": "scattermapbox"
           }
          ],
          "scatterpolar": [
           {
            "marker": {
             "colorbar": {
              "outlinewidth": 0,
              "ticks": ""
             }
            },
            "type": "scatterpolar"
           }
          ],
          "scatterpolargl": [
           {
            "marker": {
             "colorbar": {
              "outlinewidth": 0,
              "ticks": ""
             }
            },
            "type": "scatterpolargl"
           }
          ],
          "scatterternary": [
           {
            "marker": {
             "colorbar": {
              "outlinewidth": 0,
              "ticks": ""
             }
            },
            "type": "scatterternary"
           }
          ],
          "surface": [
           {
            "colorbar": {
             "outlinewidth": 0,
             "ticks": ""
            },
            "colorscale": [
             [
              0,
              "#0d0887"
             ],
             [
              0.1111111111111111,
              "#46039f"
             ],
             [
              0.2222222222222222,
              "#7201a8"
             ],
             [
              0.3333333333333333,
              "#9c179e"
             ],
             [
              0.4444444444444444,
              "#bd3786"
             ],
             [
              0.5555555555555556,
              "#d8576b"
             ],
             [
              0.6666666666666666,
              "#ed7953"
             ],
             [
              0.7777777777777778,
              "#fb9f3a"
             ],
             [
              0.8888888888888888,
              "#fdca26"
             ],
             [
              1,
              "#f0f921"
             ]
            ],
            "type": "surface"
           }
          ],
          "table": [
           {
            "cells": {
             "fill": {
              "color": "#EBF0F8"
             },
             "line": {
              "color": "white"
             }
            },
            "header": {
             "fill": {
              "color": "#C8D4E3"
             },
             "line": {
              "color": "white"
             }
            },
            "type": "table"
           }
          ]
         },
         "layout": {
          "annotationdefaults": {
           "arrowcolor": "#2a3f5f",
           "arrowhead": 0,
           "arrowwidth": 1
          },
          "autotypenumbers": "strict",
          "coloraxis": {
           "colorbar": {
            "outlinewidth": 0,
            "ticks": ""
           }
          },
          "colorscale": {
           "diverging": [
            [
             0,
             "#8e0152"
            ],
            [
             0.1,
             "#c51b7d"
            ],
            [
             0.2,
             "#de77ae"
            ],
            [
             0.3,
             "#f1b6da"
            ],
            [
             0.4,
             "#fde0ef"
            ],
            [
             0.5,
             "#f7f7f7"
            ],
            [
             0.6,
             "#e6f5d0"
            ],
            [
             0.7,
             "#b8e186"
            ],
            [
             0.8,
             "#7fbc41"
            ],
            [
             0.9,
             "#4d9221"
            ],
            [
             1,
             "#276419"
            ]
           ],
           "sequential": [
            [
             0,
             "#0d0887"
            ],
            [
             0.1111111111111111,
             "#46039f"
            ],
            [
             0.2222222222222222,
             "#7201a8"
            ],
            [
             0.3333333333333333,
             "#9c179e"
            ],
            [
             0.4444444444444444,
             "#bd3786"
            ],
            [
             0.5555555555555556,
             "#d8576b"
            ],
            [
             0.6666666666666666,
             "#ed7953"
            ],
            [
             0.7777777777777778,
             "#fb9f3a"
            ],
            [
             0.8888888888888888,
             "#fdca26"
            ],
            [
             1,
             "#f0f921"
            ]
           ],
           "sequentialminus": [
            [
             0,
             "#0d0887"
            ],
            [
             0.1111111111111111,
             "#46039f"
            ],
            [
             0.2222222222222222,
             "#7201a8"
            ],
            [
             0.3333333333333333,
             "#9c179e"
            ],
            [
             0.4444444444444444,
             "#bd3786"
            ],
            [
             0.5555555555555556,
             "#d8576b"
            ],
            [
             0.6666666666666666,
             "#ed7953"
            ],
            [
             0.7777777777777778,
             "#fb9f3a"
            ],
            [
             0.8888888888888888,
             "#fdca26"
            ],
            [
             1,
             "#f0f921"
            ]
           ]
          },
          "colorway": [
           "#636efa",
           "#EF553B",
           "#00cc96",
           "#ab63fa",
           "#FFA15A",
           "#19d3f3",
           "#FF6692",
           "#B6E880",
           "#FF97FF",
           "#FECB52"
          ],
          "font": {
           "color": "#2a3f5f"
          },
          "geo": {
           "bgcolor": "white",
           "lakecolor": "white",
           "landcolor": "#E5ECF6",
           "showlakes": true,
           "showland": true,
           "subunitcolor": "white"
          },
          "hoverlabel": {
           "align": "left"
          },
          "hovermode": "closest",
          "mapbox": {
           "style": "light"
          },
          "paper_bgcolor": "white",
          "plot_bgcolor": "#E5ECF6",
          "polar": {
           "angularaxis": {
            "gridcolor": "white",
            "linecolor": "white",
            "ticks": ""
           },
           "bgcolor": "#E5ECF6",
           "radialaxis": {
            "gridcolor": "white",
            "linecolor": "white",
            "ticks": ""
           }
          },
          "scene": {
           "xaxis": {
            "backgroundcolor": "#E5ECF6",
            "gridcolor": "white",
            "gridwidth": 2,
            "linecolor": "white",
            "showbackground": true,
            "ticks": "",
            "zerolinecolor": "white"
           },
           "yaxis": {
            "backgroundcolor": "#E5ECF6",
            "gridcolor": "white",
            "gridwidth": 2,
            "linecolor": "white",
            "showbackground": true,
            "ticks": "",
            "zerolinecolor": "white"
           },
           "zaxis": {
            "backgroundcolor": "#E5ECF6",
            "gridcolor": "white",
            "gridwidth": 2,
            "linecolor": "white",
            "showbackground": true,
            "ticks": "",
            "zerolinecolor": "white"
           }
          },
          "shapedefaults": {
           "line": {
            "color": "#2a3f5f"
           }
          },
          "ternary": {
           "aaxis": {
            "gridcolor": "white",
            "linecolor": "white",
            "ticks": ""
           },
           "baxis": {
            "gridcolor": "white",
            "linecolor": "white",
            "ticks": ""
           },
           "bgcolor": "#E5ECF6",
           "caxis": {
            "gridcolor": "white",
            "linecolor": "white",
            "ticks": ""
           }
          },
          "title": {
           "x": 0.05
          },
          "xaxis": {
           "automargin": true,
           "gridcolor": "white",
           "linecolor": "white",
           "ticks": "",
           "title": {
            "standoff": 15
           },
           "zerolinecolor": "white",
           "zerolinewidth": 2
          },
          "yaxis": {
           "automargin": true,
           "gridcolor": "white",
           "linecolor": "white",
           "ticks": "",
           "title": {
            "standoff": 15
           },
           "zerolinecolor": "white",
           "zerolinewidth": 2
          }
         }
        },
        "width": 500,
        "xaxis": {
         "anchor": "y",
         "domain": [
          0,
          1
         ],
         "title": {
          "text": "date"
         }
        },
        "yaxis": {
         "anchor": "x",
         "domain": [
          0,
          1
         ],
         "title": {
          "text": "nb_rooms"
         }
        }
       }
      }
     },
     "metadata": {},
     "output_type": "display_data"
    }
   ],
   "source": [
    "import numpy as np\n",
    "\n",
    "_df = df[(df.room_type == 'Logement entier') & (df.city == 'Biarritz') & (df.survey_id.isin(SURVEY_IDS))]\n",
    "_df['date'] = _df.survey_date.dt.strftime(\"%d/%m/%Y\")\n",
    "_df['has_license'] = np.where(_df[\"has_license\"], 'Oui', 'Non')\n",
    "\n",
    "df_agg = _df.groupby(['survey_id', 'has_license']).aggregate(\n",
    "    date=pd.NamedAgg('date', 'max'),\n",
    "    nb_rooms=pd.NamedAgg('room_id', 'count'),\n",
    "    )\n",
    "\n",
    "df_agg['pct'] = 100 * df_agg['nb_rooms'] / df_agg.groupby('survey_id')['nb_rooms'].transform('sum')\n",
    "\n",
    "df_agg['value_label'] = df_agg.nb_rooms.astype(str) + ' (' + df_agg.pct.round(0).astype(int).astype(str) + '%)'\n",
    "\n",
    "df_agg = df_agg.reset_index()\n",
    "\n",
    "fig = px.bar(df_agg, \n",
    "        x='date', \n",
    "        y='nb_rooms', \n",
    "        color='has_license', \n",
    "        text='value_label',\n",
    "        barmode='relative', \n",
    "        labels={'has_license':'Enregistré'},\n",
    "        category_orders={\"has_license\": ['Non', 'Oui']},\n",
    "        color_discrete_map={'Oui': '#e73635', 'Non': '#ced4da'},\n",
    "        width=500\n",
    ")\n",
    "\n",
    "fig.update_layout(\n",
    "    margin=dict(l=20, r=20, t=20, b=20),\n",
    "    plot_bgcolor='white',\n",
    "    paper_bgcolor=\"white\",\n",
    "    legend_traceorder=\"reversed\"\n",
    ")\n"
   ]
  },
  {
   "cell_type": "code",
   "execution_count": 268,
   "metadata": {},
   "outputs": [
    {
     "data": {
      "text/html": [
       "<div>\n",
       "<style scoped>\n",
       "    .dataframe tbody tr th:only-of-type {\n",
       "        vertical-align: middle;\n",
       "    }\n",
       "\n",
       "    .dataframe tbody tr th {\n",
       "        vertical-align: top;\n",
       "    }\n",
       "\n",
       "    .dataframe thead th {\n",
       "        text-align: right;\n",
       "    }\n",
       "</style>\n",
       "<table border=\"1\" class=\"dataframe\">\n",
       "  <thead>\n",
       "    <tr style=\"text-align: right;\">\n",
       "      <th></th>\n",
       "      <th>nb_rooms</th>\n",
       "    </tr>\n",
       "    <tr>\n",
       "      <th>host_id</th>\n",
       "      <th></th>\n",
       "    </tr>\n",
       "  </thead>\n",
       "  <tbody>\n",
       "    <tr>\n",
       "      <th>184945495</th>\n",
       "      <td>51</td>\n",
       "    </tr>\n",
       "    <tr>\n",
       "      <th>130005487</th>\n",
       "      <td>30</td>\n",
       "    </tr>\n",
       "    <tr>\n",
       "      <th>3419305</th>\n",
       "      <td>29</td>\n",
       "    </tr>\n",
       "    <tr>\n",
       "      <th>133058806</th>\n",
       "      <td>25</td>\n",
       "    </tr>\n",
       "    <tr>\n",
       "      <th>9239008</th>\n",
       "      <td>21</td>\n",
       "    </tr>\n",
       "    <tr>\n",
       "      <th>96961016</th>\n",
       "      <td>21</td>\n",
       "    </tr>\n",
       "    <tr>\n",
       "      <th>19546487</th>\n",
       "      <td>20</td>\n",
       "    </tr>\n",
       "    <tr>\n",
       "      <th>181036617</th>\n",
       "      <td>19</td>\n",
       "    </tr>\n",
       "    <tr>\n",
       "      <th>172331560</th>\n",
       "      <td>18</td>\n",
       "    </tr>\n",
       "    <tr>\n",
       "      <th>389762971</th>\n",
       "      <td>16</td>\n",
       "    </tr>\n",
       "    <tr>\n",
       "      <th>133059316</th>\n",
       "      <td>15</td>\n",
       "    </tr>\n",
       "    <tr>\n",
       "      <th>141490645</th>\n",
       "      <td>14</td>\n",
       "    </tr>\n",
       "    <tr>\n",
       "      <th>343999565</th>\n",
       "      <td>14</td>\n",
       "    </tr>\n",
       "    <tr>\n",
       "      <th>176527828</th>\n",
       "      <td>14</td>\n",
       "    </tr>\n",
       "    <tr>\n",
       "      <th>337758836</th>\n",
       "      <td>14</td>\n",
       "    </tr>\n",
       "    <tr>\n",
       "      <th>114296380</th>\n",
       "      <td>13</td>\n",
       "    </tr>\n",
       "    <tr>\n",
       "      <th>177165511</th>\n",
       "      <td>13</td>\n",
       "    </tr>\n",
       "    <tr>\n",
       "      <th>11752422</th>\n",
       "      <td>12</td>\n",
       "    </tr>\n",
       "    <tr>\n",
       "      <th>251726163</th>\n",
       "      <td>11</td>\n",
       "    </tr>\n",
       "    <tr>\n",
       "      <th>2650897</th>\n",
       "      <td>11</td>\n",
       "    </tr>\n",
       "  </tbody>\n",
       "</table>\n",
       "</div>"
      ],
      "text/plain": [
       "           nb_rooms\n",
       "host_id            \n",
       "184945495        51\n",
       "130005487        30\n",
       "3419305          29\n",
       "133058806        25\n",
       "9239008          21\n",
       "96961016         21\n",
       "19546487         20\n",
       "181036617        19\n",
       "172331560        18\n",
       "389762971        16\n",
       "133059316        15\n",
       "141490645        14\n",
       "343999565        14\n",
       "176527828        14\n",
       "337758836        14\n",
       "114296380        13\n",
       "177165511        13\n",
       "11752422         12\n",
       "251726163        11\n",
       "2650897          11"
      ]
     },
     "execution_count": 268,
     "metadata": {},
     "output_type": "execute_result"
    }
   ],
   "source": [
    "_df = df[df.survey_id == SURVEY_IDS[-1]]\n",
    "_df = _df[~_df.license.isin(HOTEL_LICENSE + MOBILITY_LICENSE)]\n",
    "_df.groupby('host_id').agg(nb_rooms=pd.NamedAgg('room_id', 'count')).sort_values('nb_rooms', ascending=False)"
   ]
  },
  {
   "cell_type": "code",
   "execution_count": null,
   "metadata": {},
   "outputs": [],
   "source": []
  }
 ],
 "metadata": {
  "interpreter": {
   "hash": "5acaef4ba986fa37dc5dfd16ef1ecf35aa160734a8d095b60822e6606f9759e7"
  },
  "kernelspec": {
   "display_name": "Python 3.9.7 64-bit ('env': venv)",
   "language": "python",
   "name": "python3"
  },
  "language_info": {
   "codemirror_mode": {
    "name": "ipython",
    "version": 3
   },
   "file_extension": ".py",
   "mimetype": "text/x-python",
   "name": "python",
   "nbconvert_exporter": "python",
   "pygments_lexer": "ipython3",
   "version": "3.9.7"
  },
  "orig_nbformat": 4
 },
 "nbformat": 4,
 "nbformat_minor": 2
}
